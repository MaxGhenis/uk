{
 "cells": [
  {
   "cell_type": "code",
   "execution_count": 1,
   "id": "inappropriate-constitutional",
   "metadata": {},
   "outputs": [],
   "source": [
    "from openfisca_uk import PopulationSim\n",
    "sim = PopulationSim()\n",
    "import microdf as mdf\n",
    "import numpy as np\n",
    "import pandas as pd\n",
    "%config Completer.use_jedi = False"
   ]
  },
  {
   "cell_type": "code",
   "execution_count": 49,
   "id": "three-meaning",
   "metadata": {},
   "outputs": [],
   "source": [
    "h0 = sim.df([\"household_net_income\", \"household_weight\", \"people_in_household\"])\n",
    "h = mdf.MicroDataFrame(h0, weights=h0.household_weight)\n",
    "h[\"person_weight\"] = h.household_weight * h.people_in_household"
   ]
  },
  {
   "cell_type": "code",
   "execution_count": 50,
   "id": "surprised-irish",
   "metadata": {},
   "outputs": [
    {
     "data": {
      "text/plain": [
       "0        52321944.0\n",
       "1        13893217.0\n",
       "2        13892080.0\n",
       "3        13890943.0\n",
       "4         2908269.0\n",
       "            ...    \n",
       "43082    26041016.0\n",
       "43083    26042064.0\n",
       "43084    34358486.0\n",
       "43085    25263728.0\n",
       "43086    25264295.0\n",
       "Length: 43087, dtype: float64"
      ]
     },
     "execution_count": 50,
     "metadata": {},
     "output_type": "execute_result"
    }
   ],
   "source": [
    "# h.household_net_income.sum() / 1e9\n",
    "h.household_net_income.rank()\n"
   ]
  },
  {
   "cell_type": "code",
   "execution_count": 51,
   "id": "peripheral-compact",
   "metadata": {},
   "outputs": [
    {
     "data": {
      "text/plain": [
       "0        52321944.0\n",
       "1        13893217.0\n",
       "2        13892080.0\n",
       "3        13890943.0\n",
       "4         2908269.0\n",
       "            ...    \n",
       "43082    26041016.0\n",
       "43083    26042064.0\n",
       "43084    34358486.0\n",
       "43085    25263728.0\n",
       "43086    25264295.0\n",
       "Length: 43087, dtype: float64"
      ]
     },
     "execution_count": 51,
     "metadata": {},
     "output_type": "execute_result"
    }
   ],
   "source": [
    "h.weights = h.person_weight\n",
    "h.household_net_income.rank()\n",
    "\n",
    "# h.household_net_income.sum() / 1e9"
   ]
  },
  {
   "cell_type": "code",
   "execution_count": 52,
   "id": "cellular-ready",
   "metadata": {},
   "outputs": [
    {
     "data": {
      "text/plain": [
       "0        52321944.0\n",
       "1        13893217.0\n",
       "2        13892080.0\n",
       "3        13890943.0\n",
       "4         2908269.0\n",
       "            ...    \n",
       "43082    26041016.0\n",
       "43083    26042064.0\n",
       "43084    34358486.0\n",
       "43085    25263728.0\n",
       "43086    25264295.0\n",
       "Length: 43087, dtype: float64"
      ]
     },
     "execution_count": 52,
     "metadata": {},
     "output_type": "execute_result"
    }
   ],
   "source": [
    "h.set_weights(\"person_weight\")\n",
    "h.household_net_income.rank()\n",
    "# h.set_weights(h.household_weight)\n",
    "# h.household_net_income.sum() / 1e9"
   ]
  },
  {
   "cell_type": "code",
   "execution_count": 54,
   "id": "cubic-address",
   "metadata": {},
   "outputs": [
    {
     "data": {
      "text/plain": [
       "0        152479430.0\n",
       "1         29887551.0\n",
       "2         29884140.0\n",
       "3         29880729.0\n",
       "4          6727625.0\n",
       "            ...     \n",
       "43082     65200974.0\n",
       "43083     65205166.0\n",
       "43084     91660594.0\n",
       "43085     62554225.0\n",
       "43086     62555359.0\n",
       "Length: 43087, dtype: float64"
      ]
     },
     "execution_count": 54,
     "metadata": {},
     "output_type": "execute_result"
    }
   ],
   "source": [
    "h.set_weight_col(\"person_weight\")\n",
    "h.household_net_income.rank()\n",
    "\n",
    "# h.household_net_income.sum() / 1e9"
   ]
  },
  {
   "cell_type": "code",
   "execution_count": null,
   "id": "atmospheric-prize",
   "metadata": {},
   "outputs": [],
   "source": [
    "h.weights = h.household_weight * h.people_in_household\n",
    "h.equiv_household_net_income.sum() / 1e9"
   ]
  },
  {
   "cell_type": "code",
   "execution_count": 22,
   "id": "handed-stage",
   "metadata": {},
   "outputs": [
    {
     "data": {
      "text/plain": [
       "0        40605.0\n",
       "1         7159.0\n",
       "2         7159.0\n",
       "3         7159.0\n",
       "4         3422.0\n",
       "          ...   \n",
       "43082    16765.5\n",
       "43083    16765.5\n",
       "43084    35475.0\n",
       "43085    21153.5\n",
       "43086    21153.5\n",
       "Name: equiv_household_net_income, Length: 43087, dtype: float64"
      ]
     },
     "execution_count": 22,
     "metadata": {},
     "output_type": "execute_result"
    }
   ],
   "source": [
    "h.equiv_household_net_income.rank()"
   ]
  },
  {
   "cell_type": "code",
   "execution_count": 17,
   "id": "identical-apparatus",
   "metadata": {},
   "outputs": [
    {
     "data": {
      "text/plain": [
       "1314612"
      ]
     },
     "execution_count": 17,
     "metadata": {},
     "output_type": "execute_result"
    }
   ],
   "source": [
    "159**2 * 52"
   ]
  },
  {
   "cell_type": "code",
   "execution_count": 5,
   "id": "fiscal-thong",
   "metadata": {},
   "outputs": [],
   "source": [
    "d = sim.df(\n",
    "    [\n",
    "        \"in_poverty_bhc\",\n",
    "        \"equiv_household_net_income\",\n",
    "        \"household_net_income\",\n",
    "        \"poverty_line_bhc\",\n",
    "        \"household_weight\",\n",
    "        \"in_deep_poverty_bhc\",\n",
    "        \"age\"\n",
    "    ], map_to=\"person\"\n",
    ")\n",
    "md = mdf.MicroDataFrame(d, weights=\"household_weight\")"
   ]
  },
  {
   "cell_type": "code",
   "execution_count": 19,
   "id": "olive-lawyer",
   "metadata": {},
   "outputs": [
    {
     "data": {
      "text/plain": [
       "{'a': 1, 'b': 2}"
      ]
     },
     "execution_count": 19,
     "metadata": {},
     "output_type": "execute_result"
    }
   ],
   "source": [
    "dict(zip([\"a\", \"b\"], [1, 2]))"
   ]
  },
  {
   "cell_type": "code",
   "execution_count": 6,
   "id": "lucky-vintage",
   "metadata": {},
   "outputs": [],
   "source": [
    "md[\"pov\"] = md.household_net_income < md.poverty_line_bhc"
   ]
  },
  {
   "cell_type": "code",
   "execution_count": 7,
   "id": "documented-berry",
   "metadata": {},
   "outputs": [
    {
     "data": {
      "text/plain": [
       "microdf.generic.MicroSeries"
      ]
     },
     "execution_count": 7,
     "metadata": {},
     "output_type": "execute_result"
    }
   ],
   "source": [
    "md[md.age < 18].in_poverty_bhc.__class__"
   ]
  },
  {
   "cell_type": "code",
   "execution_count": 8,
   "id": "engaged-router",
   "metadata": {},
   "outputs": [],
   "source": [
    "md[\"age_group\"] = np.where(md.age < 18, \"Under 18\",\n",
    "                           np.where(md.age < 65, \"18 to 64\", \"Over 64\"))"
   ]
  },
  {
   "cell_type": "code",
   "execution_count": 9,
   "id": "excited-latitude",
   "metadata": {},
   "outputs": [
    {
     "data": {
      "text/plain": [
       "age_group\n",
       "18 to 64    0.126451\n",
       "Over 64     0.168529\n",
       "Under 18    0.186858\n",
       "dtype: float64"
      ]
     },
     "execution_count": 9,
     "metadata": {},
     "output_type": "execute_result"
    }
   ],
   "source": [
    "md.groupby(\"age_group\").in_poverty_bhc.mean() / 52"
   ]
  },
  {
   "cell_type": "code",
   "execution_count": 10,
   "id": "invalid-scout",
   "metadata": {},
   "outputs": [
    {
     "data": {
      "text/plain": [
       "0.18685826115113088"
      ]
     },
     "execution_count": 10,
     "metadata": {},
     "output_type": "execute_result"
    }
   ],
   "source": [
    "u18 = pd.DataFrame(md[md.age < 18])\n",
    "mdf.weighted_mean(u18, \"in_poverty_bhc\", \"household_weight\") / 52"
   ]
  },
  {
   "cell_type": "code",
   "execution_count": 11,
   "id": "promotional-principle",
   "metadata": {},
   "outputs": [
    {
     "ename": "TypeError",
     "evalue": "Axis must be specified when shapes of a and weights differ.",
     "output_type": "error",
     "traceback": [
      "\u001b[0;31m---------------------------------------------------------------------------\u001b[0m",
      "\u001b[0;31mTypeError\u001b[0m                                 Traceback (most recent call last)",
      "\u001b[0;32m<ipython-input-11-bcd888e57038>\u001b[0m in \u001b[0;36m<module>\u001b[0;34m\u001b[0m\n\u001b[0;32m----> 1\u001b[0;31m \u001b[0mmd\u001b[0m\u001b[0;34m[\u001b[0m\u001b[0mmd\u001b[0m\u001b[0;34m.\u001b[0m\u001b[0mage\u001b[0m \u001b[0;34m<\u001b[0m \u001b[0;36m18\u001b[0m\u001b[0;34m]\u001b[0m\u001b[0;34m.\u001b[0m\u001b[0min_deep_poverty_bhc\u001b[0m\u001b[0;34m.\u001b[0m\u001b[0mmean\u001b[0m\u001b[0;34m(\u001b[0m\u001b[0;34m)\u001b[0m \u001b[0;34m/\u001b[0m \u001b[0;36m52\u001b[0m\u001b[0;34m\u001b[0m\u001b[0;34m\u001b[0m\u001b[0m\n\u001b[0m",
      "\u001b[0;32m~/anaconda3/lib/python3.7/site-packages/microdf/generic.py\u001b[0m in \u001b[0;36mmean\u001b[0;34m(self)\u001b[0m\n\u001b[1;32m     81\u001b[0m         \u001b[0;34m:\u001b[0m\u001b[0mrtype\u001b[0m\u001b[0;34m:\u001b[0m \u001b[0mfloat\u001b[0m\u001b[0;34m\u001b[0m\u001b[0;34m\u001b[0m\u001b[0m\n\u001b[1;32m     82\u001b[0m         \"\"\"\n\u001b[0;32m---> 83\u001b[0;31m         \u001b[0;32mreturn\u001b[0m \u001b[0mnp\u001b[0m\u001b[0;34m.\u001b[0m\u001b[0maverage\u001b[0m\u001b[0;34m(\u001b[0m\u001b[0mself\u001b[0m\u001b[0;34m.\u001b[0m\u001b[0mvalues\u001b[0m\u001b[0;34m,\u001b[0m \u001b[0mweights\u001b[0m\u001b[0;34m=\u001b[0m\u001b[0mself\u001b[0m\u001b[0;34m.\u001b[0m\u001b[0mweights\u001b[0m\u001b[0;34m)\u001b[0m\u001b[0;34m\u001b[0m\u001b[0;34m\u001b[0m\u001b[0m\n\u001b[0m\u001b[1;32m     84\u001b[0m \u001b[0;34m\u001b[0m\u001b[0m\n\u001b[1;32m     85\u001b[0m     \u001b[0;32mdef\u001b[0m \u001b[0mquantile\u001b[0m\u001b[0;34m(\u001b[0m\u001b[0mself\u001b[0m\u001b[0;34m,\u001b[0m \u001b[0mq\u001b[0m\u001b[0;34m:\u001b[0m \u001b[0mnp\u001b[0m\u001b[0;34m.\u001b[0m\u001b[0marray\u001b[0m\u001b[0;34m)\u001b[0m \u001b[0;34m->\u001b[0m \u001b[0mpd\u001b[0m\u001b[0;34m.\u001b[0m\u001b[0mSeries\u001b[0m\u001b[0;34m:\u001b[0m\u001b[0;34m\u001b[0m\u001b[0;34m\u001b[0m\u001b[0m\n",
      "\u001b[0;32m<__array_function__ internals>\u001b[0m in \u001b[0;36maverage\u001b[0;34m(*args, **kwargs)\u001b[0m\n",
      "\u001b[0;32m~/anaconda3/lib/python3.7/site-packages/numpy/lib/function_base.py\u001b[0m in \u001b[0;36maverage\u001b[0;34m(a, axis, weights, returned)\u001b[0m\n\u001b[1;32m    402\u001b[0m             \u001b[0;32mif\u001b[0m \u001b[0maxis\u001b[0m \u001b[0;32mis\u001b[0m \u001b[0;32mNone\u001b[0m\u001b[0;34m:\u001b[0m\u001b[0;34m\u001b[0m\u001b[0;34m\u001b[0m\u001b[0m\n\u001b[1;32m    403\u001b[0m                 raise TypeError(\n\u001b[0;32m--> 404\u001b[0;31m                     \u001b[0;34m\"Axis must be specified when shapes of a and weights \"\u001b[0m\u001b[0;34m\u001b[0m\u001b[0;34m\u001b[0m\u001b[0m\n\u001b[0m\u001b[1;32m    405\u001b[0m                     \"differ.\")\n\u001b[1;32m    406\u001b[0m             \u001b[0;32mif\u001b[0m \u001b[0mwgt\u001b[0m\u001b[0;34m.\u001b[0m\u001b[0mndim\u001b[0m \u001b[0;34m!=\u001b[0m \u001b[0;36m1\u001b[0m\u001b[0;34m:\u001b[0m\u001b[0;34m\u001b[0m\u001b[0;34m\u001b[0m\u001b[0m\n",
      "\u001b[0;31mTypeError\u001b[0m: Axis must be specified when shapes of a and weights differ."
     ]
    }
   ],
   "source": [
    "md[md.age < 18].in_deep_poverty_bhc.mean() / 52"
   ]
  },
  {
   "cell_type": "code",
   "execution_count": null,
   "id": "floppy-hindu",
   "metadata": {},
   "outputs": [],
   "source": [
    "(md.pov == md.in_poverty_bhc / 52).mean()"
   ]
  }
 ],
 "metadata": {
  "kernelspec": {
   "display_name": "Python 3",
   "language": "python",
   "name": "python3"
  },
  "language_info": {
   "codemirror_mode": {
    "name": "ipython",
    "version": 3
   },
   "file_extension": ".py",
   "mimetype": "text/x-python",
   "name": "python",
   "nbconvert_exporter": "python",
   "pygments_lexer": "ipython3",
   "version": "3.7.10"
  }
 },
 "nbformat": 4,
 "nbformat_minor": 5
}
