{
 "cells": [
  {
   "cell_type": "markdown",
   "metadata": {
    "id": "48g5s1yTu8Eb"
   },
   "source": [
    "# UK UBI Analysis\n",
    "\n",
    "This notebook presents interactive figures from the UBI Center's UK basic income analysis.\n",
    "\n",
    "All metrics are at the person-level unless otherwise stated.\n",
    "\n",
    "\n",
    "## Overall\n",
    "\n",
    "\n",
    "### Changes to government expenditure\n",
    "\n",
    "All reforms have a budget surplus - each woud generate revenue for the government by raising taxes and removing benefit programs. The surplus for each reform is slightly different due to rounding amounts to the nearest £1/week."
   ]
  },
  {
   "cell_type": "code",
   "execution_count": 3,
   "metadata": {
    "cellView": "form",
    "colab": {
     "base_uri": "https://localhost:8080/",
     "height": 817
    },
    "id": "uBugN3MMu5if",
    "outputId": "1b67a284-0d33-4d9f-e497-51c21fbcca32",
    "tags": [
     "hide-input"
    ]
   },
   "outputs": [
    {
     "data": {
      "application/vnd.plotly.v1+json": {
       "config": {
        "displayModeBar": false,
        "plotlyServerURL": "https://plot.ly"
       },
       "data": [
        {
         "alignmentgroup": "True",
         "hovertemplate": "variable=0<br>reform=%{x}<br>value=%{y}<extra></extra>",
         "legendgroup": "0",
         "marker": {
          "color": "#636efa"
         },
         "name": "0",
         "offsetgroup": "0",
         "orientation": "v",
         "showlegend": true,
         "textposition": "auto",
         "type": "bar",
         "x": [
          "1: Foundational",
          "2: Disability",
          "3: Disability + geo"
         ],
         "xaxis": "x",
         "y": [
          -1562710272,
          -2989056512,
          -1308480256
         ],
         "yaxis": "y"
        }
       ],
       "layout": {
        "barmode": "relative",
        "font": {
         "family": "Roboto"
        },
        "height": 800,
        "hoverlabel": {
         "align": "right"
        },
        "images": [
         {
          "sizex": 0.12,
          "sizey": 0.12,
          "source": "https://raw.githubusercontent.com/UBICenter/blog/master/jb/_static/ubi_center_logo_wide_blue.png",
          "x": 0.98,
          "xanchor": "right",
          "xref": "paper",
          "y": -0.12,
          "yanchor": "bottom",
          "yref": "paper"
         }
        ],
        "legend": {
         "title": {
          "text": "variable"
         },
         "tracegroupgap": 0
        },
        "margin": {
         "t": 60
        },
        "paper_bgcolor": "white",
        "plot_bgcolor": "white",
        "showlegend": false,
        "template": {
         "data": {
          "bar": [
           {
            "error_x": {
             "color": "#2a3f5f"
            },
            "error_y": {
             "color": "#2a3f5f"
            },
            "marker": {
             "line": {
              "color": "#E5ECF6",
              "width": 0.5
             }
            },
            "type": "bar"
           }
          ],
          "barpolar": [
           {
            "marker": {
             "line": {
              "color": "#E5ECF6",
              "width": 0.5
             }
            },
            "type": "barpolar"
           }
          ],
          "carpet": [
           {
            "aaxis": {
             "endlinecolor": "#2a3f5f",
             "gridcolor": "white",
             "linecolor": "white",
             "minorgridcolor": "white",
             "startlinecolor": "#2a3f5f"
            },
            "baxis": {
             "endlinecolor": "#2a3f5f",
             "gridcolor": "white",
             "linecolor": "white",
             "minorgridcolor": "white",
             "startlinecolor": "#2a3f5f"
            },
            "type": "carpet"
           }
          ],
          "choropleth": [
           {
            "colorbar": {
             "outlinewidth": 0,
             "ticks": ""
            },
            "type": "choropleth"
           }
          ],
          "contour": [
           {
            "colorbar": {
             "outlinewidth": 0,
             "ticks": ""
            },
            "colorscale": [
             [
              0,
              "#0d0887"
             ],
             [
              0.1111111111111111,
              "#46039f"
             ],
             [
              0.2222222222222222,
              "#7201a8"
             ],
             [
              0.3333333333333333,
              "#9c179e"
             ],
             [
              0.4444444444444444,
              "#bd3786"
             ],
             [
              0.5555555555555556,
              "#d8576b"
             ],
             [
              0.6666666666666666,
              "#ed7953"
             ],
             [
              0.7777777777777778,
              "#fb9f3a"
             ],
             [
              0.8888888888888888,
              "#fdca26"
             ],
             [
              1,
              "#f0f921"
             ]
            ],
            "type": "contour"
           }
          ],
          "contourcarpet": [
           {
            "colorbar": {
             "outlinewidth": 0,
             "ticks": ""
            },
            "type": "contourcarpet"
           }
          ],
          "heatmap": [
           {
            "colorbar": {
             "outlinewidth": 0,
             "ticks": ""
            },
            "colorscale": [
             [
              0,
              "#0d0887"
             ],
             [
              0.1111111111111111,
              "#46039f"
             ],
             [
              0.2222222222222222,
              "#7201a8"
             ],
             [
              0.3333333333333333,
              "#9c179e"
             ],
             [
              0.4444444444444444,
              "#bd3786"
             ],
             [
              0.5555555555555556,
              "#d8576b"
             ],
             [
              0.6666666666666666,
              "#ed7953"
             ],
             [
              0.7777777777777778,
              "#fb9f3a"
             ],
             [
              0.8888888888888888,
              "#fdca26"
             ],
             [
              1,
              "#f0f921"
             ]
            ],
            "type": "heatmap"
           }
          ],
          "heatmapgl": [
           {
            "colorbar": {
             "outlinewidth": 0,
             "ticks": ""
            },
            "colorscale": [
             [
              0,
              "#0d0887"
             ],
             [
              0.1111111111111111,
              "#46039f"
             ],
             [
              0.2222222222222222,
              "#7201a8"
             ],
             [
              0.3333333333333333,
              "#9c179e"
             ],
             [
              0.4444444444444444,
              "#bd3786"
             ],
             [
              0.5555555555555556,
              "#d8576b"
             ],
             [
              0.6666666666666666,
              "#ed7953"
             ],
             [
              0.7777777777777778,
              "#fb9f3a"
             ],
             [
              0.8888888888888888,
              "#fdca26"
             ],
             [
              1,
              "#f0f921"
             ]
            ],
            "type": "heatmapgl"
           }
          ],
          "histogram": [
           {
            "marker": {
             "colorbar": {
              "outlinewidth": 0,
              "ticks": ""
             }
            },
            "type": "histogram"
           }
          ],
          "histogram2d": [
           {
            "colorbar": {
             "outlinewidth": 0,
             "ticks": ""
            },
            "colorscale": [
             [
              0,
              "#0d0887"
             ],
             [
              0.1111111111111111,
              "#46039f"
             ],
             [
              0.2222222222222222,
              "#7201a8"
             ],
             [
              0.3333333333333333,
              "#9c179e"
             ],
             [
              0.4444444444444444,
              "#bd3786"
             ],
             [
              0.5555555555555556,
              "#d8576b"
             ],
             [
              0.6666666666666666,
              "#ed7953"
             ],
             [
              0.7777777777777778,
              "#fb9f3a"
             ],
             [
              0.8888888888888888,
              "#fdca26"
             ],
             [
              1,
              "#f0f921"
             ]
            ],
            "type": "histogram2d"
           }
          ],
          "histogram2dcontour": [
           {
            "colorbar": {
             "outlinewidth": 0,
             "ticks": ""
            },
            "colorscale": [
             [
              0,
              "#0d0887"
             ],
             [
              0.1111111111111111,
              "#46039f"
             ],
             [
              0.2222222222222222,
              "#7201a8"
             ],
             [
              0.3333333333333333,
              "#9c179e"
             ],
             [
              0.4444444444444444,
              "#bd3786"
             ],
             [
              0.5555555555555556,
              "#d8576b"
             ],
             [
              0.6666666666666666,
              "#ed7953"
             ],
             [
              0.7777777777777778,
              "#fb9f3a"
             ],
             [
              0.8888888888888888,
              "#fdca26"
             ],
             [
              1,
              "#f0f921"
             ]
            ],
            "type": "histogram2dcontour"
           }
          ],
          "mesh3d": [
           {
            "colorbar": {
             "outlinewidth": 0,
             "ticks": ""
            },
            "type": "mesh3d"
           }
          ],
          "parcoords": [
           {
            "line": {
             "colorbar": {
              "outlinewidth": 0,
              "ticks": ""
             }
            },
            "type": "parcoords"
           }
          ],
          "pie": [
           {
            "automargin": true,
            "type": "pie"
           }
          ],
          "scatter": [
           {
            "marker": {
             "colorbar": {
              "outlinewidth": 0,
              "ticks": ""
             }
            },
            "type": "scatter"
           }
          ],
          "scatter3d": [
           {
            "line": {
             "colorbar": {
              "outlinewidth": 0,
              "ticks": ""
             }
            },
            "marker": {
             "colorbar": {
              "outlinewidth": 0,
              "ticks": ""
             }
            },
            "type": "scatter3d"
           }
          ],
          "scattercarpet": [
           {
            "marker": {
             "colorbar": {
              "outlinewidth": 0,
              "ticks": ""
             }
            },
            "type": "scattercarpet"
           }
          ],
          "scattergeo": [
           {
            "marker": {
             "colorbar": {
              "outlinewidth": 0,
              "ticks": ""
             }
            },
            "type": "scattergeo"
           }
          ],
          "scattergl": [
           {
            "marker": {
             "colorbar": {
              "outlinewidth": 0,
              "ticks": ""
             }
            },
            "type": "scattergl"
           }
          ],
          "scattermapbox": [
           {
            "marker": {
             "colorbar": {
              "outlinewidth": 0,
              "ticks": ""
             }
            },
            "type": "scattermapbox"
           }
          ],
          "scatterpolar": [
           {
            "marker": {
             "colorbar": {
              "outlinewidth": 0,
              "ticks": ""
             }
            },
            "type": "scatterpolar"
           }
          ],
          "scatterpolargl": [
           {
            "marker": {
             "colorbar": {
              "outlinewidth": 0,
              "ticks": ""
             }
            },
            "type": "scatterpolargl"
           }
          ],
          "scatterternary": [
           {
            "marker": {
             "colorbar": {
              "outlinewidth": 0,
              "ticks": ""
             }
            },
            "type": "scatterternary"
           }
          ],
          "surface": [
           {
            "colorbar": {
             "outlinewidth": 0,
             "ticks": ""
            },
            "colorscale": [
             [
              0,
              "#0d0887"
             ],
             [
              0.1111111111111111,
              "#46039f"
             ],
             [
              0.2222222222222222,
              "#7201a8"
             ],
             [
              0.3333333333333333,
              "#9c179e"
             ],
             [
              0.4444444444444444,
              "#bd3786"
             ],
             [
              0.5555555555555556,
              "#d8576b"
             ],
             [
              0.6666666666666666,
              "#ed7953"
             ],
             [
              0.7777777777777778,
              "#fb9f3a"
             ],
             [
              0.8888888888888888,
              "#fdca26"
             ],
             [
              1,
              "#f0f921"
             ]
            ],
            "type": "surface"
           }
          ],
          "table": [
           {
            "cells": {
             "fill": {
              "color": "#EBF0F8"
             },
             "line": {
              "color": "white"
             }
            },
            "header": {
             "fill": {
              "color": "#C8D4E3"
             },
             "line": {
              "color": "white"
             }
            },
            "type": "table"
           }
          ]
         },
         "layout": {
          "annotationdefaults": {
           "arrowcolor": "#2a3f5f",
           "arrowhead": 0,
           "arrowwidth": 1
          },
          "autotypenumbers": "strict",
          "coloraxis": {
           "colorbar": {
            "outlinewidth": 0,
            "ticks": ""
           }
          },
          "colorscale": {
           "diverging": [
            [
             0,
             "#8e0152"
            ],
            [
             0.1,
             "#c51b7d"
            ],
            [
             0.2,
             "#de77ae"
            ],
            [
             0.3,
             "#f1b6da"
            ],
            [
             0.4,
             "#fde0ef"
            ],
            [
             0.5,
             "#f7f7f7"
            ],
            [
             0.6,
             "#e6f5d0"
            ],
            [
             0.7,
             "#b8e186"
            ],
            [
             0.8,
             "#7fbc41"
            ],
            [
             0.9,
             "#4d9221"
            ],
            [
             1,
             "#276419"
            ]
           ],
           "sequential": [
            [
             0,
             "#0d0887"
            ],
            [
             0.1111111111111111,
             "#46039f"
            ],
            [
             0.2222222222222222,
             "#7201a8"
            ],
            [
             0.3333333333333333,
             "#9c179e"
            ],
            [
             0.4444444444444444,
             "#bd3786"
            ],
            [
             0.5555555555555556,
             "#d8576b"
            ],
            [
             0.6666666666666666,
             "#ed7953"
            ],
            [
             0.7777777777777778,
             "#fb9f3a"
            ],
            [
             0.8888888888888888,
             "#fdca26"
            ],
            [
             1,
             "#f0f921"
            ]
           ],
           "sequentialminus": [
            [
             0,
             "#0d0887"
            ],
            [
             0.1111111111111111,
             "#46039f"
            ],
            [
             0.2222222222222222,
             "#7201a8"
            ],
            [
             0.3333333333333333,
             "#9c179e"
            ],
            [
             0.4444444444444444,
             "#bd3786"
            ],
            [
             0.5555555555555556,
             "#d8576b"
            ],
            [
             0.6666666666666666,
             "#ed7953"
            ],
            [
             0.7777777777777778,
             "#fb9f3a"
            ],
            [
             0.8888888888888888,
             "#fdca26"
            ],
            [
             1,
             "#f0f921"
            ]
           ]
          },
          "colorway": [
           "#636efa",
           "#EF553B",
           "#00cc96",
           "#ab63fa",
           "#FFA15A",
           "#19d3f3",
           "#FF6692",
           "#B6E880",
           "#FF97FF",
           "#FECB52"
          ],
          "font": {
           "color": "#2a3f5f"
          },
          "geo": {
           "bgcolor": "white",
           "lakecolor": "white",
           "landcolor": "#E5ECF6",
           "showlakes": true,
           "showland": true,
           "subunitcolor": "white"
          },
          "hoverlabel": {
           "align": "left"
          },
          "hovermode": "closest",
          "mapbox": {
           "style": "light"
          },
          "paper_bgcolor": "white",
          "plot_bgcolor": "#E5ECF6",
          "polar": {
           "angularaxis": {
            "gridcolor": "white",
            "linecolor": "white",
            "ticks": ""
           },
           "bgcolor": "#E5ECF6",
           "radialaxis": {
            "gridcolor": "white",
            "linecolor": "white",
            "ticks": ""
           }
          },
          "scene": {
           "xaxis": {
            "backgroundcolor": "#E5ECF6",
            "gridcolor": "white",
            "gridwidth": 2,
            "linecolor": "white",
            "showbackground": true,
            "ticks": "",
            "zerolinecolor": "white"
           },
           "yaxis": {
            "backgroundcolor": "#E5ECF6",
            "gridcolor": "white",
            "gridwidth": 2,
            "linecolor": "white",
            "showbackground": true,
            "ticks": "",
            "zerolinecolor": "white"
           },
           "zaxis": {
            "backgroundcolor": "#E5ECF6",
            "gridcolor": "white",
            "gridwidth": 2,
            "linecolor": "white",
            "showbackground": true,
            "ticks": "",
            "zerolinecolor": "white"
           }
          },
          "shapedefaults": {
           "line": {
            "color": "#2a3f5f"
           }
          },
          "ternary": {
           "aaxis": {
            "gridcolor": "white",
            "linecolor": "white",
            "ticks": ""
           },
           "baxis": {
            "gridcolor": "white",
            "linecolor": "white",
            "ticks": ""
           },
           "bgcolor": "#E5ECF6",
           "caxis": {
            "gridcolor": "white",
            "linecolor": "white",
            "ticks": ""
           }
          },
          "title": {
           "x": 0.05
          },
          "xaxis": {
           "automargin": true,
           "gridcolor": "white",
           "linecolor": "white",
           "ticks": "",
           "title": {
            "standoff": 15
           },
           "zerolinecolor": "white",
           "zerolinewidth": 2
          },
          "yaxis": {
           "automargin": true,
           "gridcolor": "white",
           "linecolor": "white",
           "ticks": "",
           "title": {
            "standoff": 15
           },
           "zerolinecolor": "white",
           "zerolinewidth": 2
          }
         }
        },
        "title": {
         "font": {
          "size": 20
         },
         "text": "Net cost of UBI reforms"
        },
        "width": 1000,
        "xaxis": {
         "anchor": "y",
         "autorange": true,
         "domain": [
          0,
          1
         ],
         "range": [
          -0.5,
          2.5
         ],
         "tickfont": {
          "size": 14
         },
         "title": {
          "font": {
           "color": "black",
           "size": 16
          },
          "text": "Reform"
         },
         "type": "category"
        },
        "yaxis": {
         "anchor": "x",
         "autorange": true,
         "domain": [
          0,
          1
         ],
         "range": [
          -3146375275.7894735,
          0
         ],
         "tickfont": {
          "size": 14
         },
         "title": {
          "font": {
           "color": "black",
           "size": 16
          },
          "text": "Net cost per year"
         },
         "type": "linear"
        }
       }
      },
      "image/png": "[encoded data removed]",
      "text/html": [
       "<div>                            <div id=\"ed8eca41-3b1b-4744-8d64-b7004d007e13\" class=\"plotly-graph-div\" style=\"height:800px; width:1000px;\"></div>            <script type=\"text/javascript\">                require([\"plotly\"], function(Plotly) {                    window.PLOTLYENV=window.PLOTLYENV || {};                                    if (document.getElementById(\"ed8eca41-3b1b-4744-8d64-b7004d007e13\")) {                    Plotly.newPlot(                        \"ed8eca41-3b1b-4744-8d64-b7004d007e13\",                        [{\"alignmentgroup\": \"True\", \"hovertemplate\": \"variable=0<br>reform=%{x}<br>value=%{y}<extra></extra>\", \"legendgroup\": \"0\", \"marker\": {\"color\": \"#636efa\"}, \"name\": \"0\", \"offsetgroup\": \"0\", \"orientation\": \"v\", \"showlegend\": true, \"textposition\": \"auto\", \"type\": \"bar\", \"x\": [\"1: Foundational\", \"2: Disability\", \"3: Disability + geo\"], \"xaxis\": \"x\", \"y\": [-1562710272.0, -2989056512.0, -1308480256.0], \"yaxis\": \"y\"}],                        {\"barmode\": \"relative\", \"font\": {\"family\": \"Roboto\"}, \"height\": 800, \"hoverlabel\": {\"align\": \"right\"}, \"images\": [{\"sizex\": 0.12, \"sizey\": 0.12, \"source\": \"https://raw.githubusercontent.com/UBICenter/blog/master/jb/_static/ubi_center_logo_wide_blue.png\", \"x\": 0.98, \"xanchor\": \"right\", \"xref\": \"paper\", \"y\": -0.12, \"yanchor\": \"bottom\", \"yref\": \"paper\"}], \"legend\": {\"title\": {\"text\": \"variable\"}, \"tracegroupgap\": 0}, \"margin\": {\"t\": 60}, \"paper_bgcolor\": \"white\", \"plot_bgcolor\": \"white\", \"showlegend\": false, \"template\": {\"data\": {\"bar\": [{\"error_x\": {\"color\": \"#2a3f5f\"}, \"error_y\": {\"color\": \"#2a3f5f\"}, \"marker\": {\"line\": {\"color\": \"#E5ECF6\", \"width\": 0.5}}, \"type\": \"bar\"}], \"barpolar\": [{\"marker\": {\"line\": {\"color\": \"#E5ECF6\", \"width\": 0.5}}, \"type\": \"barpolar\"}], \"carpet\": [{\"aaxis\": {\"endlinecolor\": \"#2a3f5f\", \"gridcolor\": \"white\", \"linecolor\": \"white\", \"minorgridcolor\": \"white\", \"startlinecolor\": \"#2a3f5f\"}, \"baxis\": {\"endlinecolor\": \"#2a3f5f\", \"gridcolor\": \"white\", \"linecolor\": \"white\", \"minorgridcolor\": \"white\", \"startlinecolor\": \"#2a3f5f\"}, \"type\": \"carpet\"}], \"choropleth\": [{\"colorbar\": {\"outlinewidth\": 0, \"ticks\": \"\"}, \"type\": \"choropleth\"}], \"contour\": [{\"colorbar\": {\"outlinewidth\": 0, \"ticks\": \"\"}, \"colorscale\": [[0.0, \"#0d0887\"], [0.1111111111111111, \"#46039f\"], [0.2222222222222222, \"#7201a8\"], [0.3333333333333333, \"#9c179e\"], [0.4444444444444444, \"#bd3786\"], [0.5555555555555556, \"#d8576b\"], [0.6666666666666666, \"#ed7953\"], [0.7777777777777778, \"#fb9f3a\"], [0.8888888888888888, \"#fdca26\"], [1.0, \"#f0f921\"]], \"type\": \"contour\"}], \"contourcarpet\": [{\"colorbar\": {\"outlinewidth\": 0, \"ticks\": \"\"}, \"type\": \"contourcarpet\"}], \"heatmap\": [{\"colorbar\": {\"outlinewidth\": 0, \"ticks\": \"\"}, \"colorscale\": [[0.0, \"#0d0887\"], [0.1111111111111111, \"#46039f\"], [0.2222222222222222, \"#7201a8\"], [0.3333333333333333, \"#9c179e\"], [0.4444444444444444, \"#bd3786\"], [0.5555555555555556, \"#d8576b\"], [0.6666666666666666, \"#ed7953\"], [0.7777777777777778, \"#fb9f3a\"], [0.8888888888888888, \"#fdca26\"], [1.0, \"#f0f921\"]], \"type\": \"heatmap\"}], \"heatmapgl\": [{\"colorbar\": {\"outlinewidth\": 0, \"ticks\": \"\"}, \"colorscale\": [[0.0, \"#0d0887\"], [0.1111111111111111, \"#46039f\"], [0.2222222222222222, \"#7201a8\"], [0.3333333333333333, \"#9c179e\"], [0.4444444444444444, \"#bd3786\"], [0.5555555555555556, \"#d8576b\"], [0.6666666666666666, \"#ed7953\"], [0.7777777777777778, \"#fb9f3a\"], [0.8888888888888888, \"#fdca26\"], [1.0, \"#f0f921\"]], \"type\": \"heatmapgl\"}], \"histogram\": [{\"marker\": {\"colorbar\": {\"outlinewidth\": 0, \"ticks\": \"\"}}, \"type\": \"histogram\"}], \"histogram2d\": [{\"colorbar\": {\"outlinewidth\": 0, \"ticks\": \"\"}, \"colorscale\": [[0.0, \"#0d0887\"], [0.1111111111111111, \"#46039f\"], [0.2222222222222222, \"#7201a8\"], [0.3333333333333333, \"#9c179e\"], [0.4444444444444444, \"#bd3786\"], [0.5555555555555556, \"#d8576b\"], [0.6666666666666666, \"#ed7953\"], [0.7777777777777778, \"#fb9f3a\"], [0.8888888888888888, \"#fdca26\"], [1.0, \"#f0f921\"]], \"type\": \"histogram2d\"}], \"histogram2dcontour\": [{\"colorbar\": {\"outlinewidth\": 0, \"ticks\": \"\"}, \"colorscale\": [[0.0, \"#0d0887\"], [0.1111111111111111, \"#46039f\"], [0.2222222222222222, \"#7201a8\"], [0.3333333333333333, \"#9c179e\"], [0.4444444444444444, \"#bd3786\"], [0.5555555555555556, \"#d8576b\"], [0.6666666666666666, \"#ed7953\"], [0.7777777777777778, \"#fb9f3a\"], [0.8888888888888888, \"#fdca26\"], [1.0, \"#f0f921\"]], \"type\": \"histogram2dcontour\"}], \"mesh3d\": [{\"colorbar\": {\"outlinewidth\": 0, \"ticks\": \"\"}, \"type\": \"mesh3d\"}], \"parcoords\": [{\"line\": {\"colorbar\": {\"outlinewidth\": 0, \"ticks\": \"\"}}, \"type\": \"parcoords\"}], \"pie\": [{\"automargin\": true, \"type\": \"pie\"}], \"scatter\": [{\"marker\": {\"colorbar\": {\"outlinewidth\": 0, \"ticks\": \"\"}}, \"type\": \"scatter\"}], \"scatter3d\": [{\"line\": {\"colorbar\": {\"outlinewidth\": 0, \"ticks\": \"\"}}, \"marker\": {\"colorbar\": {\"outlinewidth\": 0, \"ticks\": \"\"}}, \"type\": \"scatter3d\"}], \"scattercarpet\": [{\"marker\": {\"colorbar\": {\"outlinewidth\": 0, \"ticks\": \"\"}}, \"type\": \"scattercarpet\"}], \"scattergeo\": [{\"marker\": {\"colorbar\": {\"outlinewidth\": 0, \"ticks\": \"\"}}, \"type\": \"scattergeo\"}], \"scattergl\": [{\"marker\": {\"colorbar\": {\"outlinewidth\": 0, \"ticks\": \"\"}}, \"type\": \"scattergl\"}], \"scattermapbox\": [{\"marker\": {\"colorbar\": {\"outlinewidth\": 0, \"ticks\": \"\"}}, \"type\": \"scattermapbox\"}], \"scatterpolar\": [{\"marker\": {\"colorbar\": {\"outlinewidth\": 0, \"ticks\": \"\"}}, \"type\": \"scatterpolar\"}], \"scatterpolargl\": [{\"marker\": {\"colorbar\": {\"outlinewidth\": 0, \"ticks\": \"\"}}, \"type\": \"scatterpolargl\"}], \"scatterternary\": [{\"marker\": {\"colorbar\": {\"outlinewidth\": 0, \"ticks\": \"\"}}, \"type\": \"scatterternary\"}], \"surface\": [{\"colorbar\": {\"outlinewidth\": 0, \"ticks\": \"\"}, \"colorscale\": [[0.0, \"#0d0887\"], [0.1111111111111111, \"#46039f\"], [0.2222222222222222, \"#7201a8\"], [0.3333333333333333, \"#9c179e\"], [0.4444444444444444, \"#bd3786\"], [0.5555555555555556, \"#d8576b\"], [0.6666666666666666, \"#ed7953\"], [0.7777777777777778, \"#fb9f3a\"], [0.8888888888888888, \"#fdca26\"], [1.0, \"#f0f921\"]], \"type\": \"surface\"}], \"table\": [{\"cells\": {\"fill\": {\"color\": \"#EBF0F8\"}, \"line\": {\"color\": \"white\"}}, \"header\": {\"fill\": {\"color\": \"#C8D4E3\"}, \"line\": {\"color\": \"white\"}}, \"type\": \"table\"}]}, \"layout\": {\"annotationdefaults\": {\"arrowcolor\": \"#2a3f5f\", \"arrowhead\": 0, \"arrowwidth\": 1}, \"autotypenumbers\": \"strict\", \"coloraxis\": {\"colorbar\": {\"outlinewidth\": 0, \"ticks\": \"\"}}, \"colorscale\": {\"diverging\": [[0, \"#8e0152\"], [0.1, \"#c51b7d\"], [0.2, \"#de77ae\"], [0.3, \"#f1b6da\"], [0.4, \"#fde0ef\"], [0.5, \"#f7f7f7\"], [0.6, \"#e6f5d0\"], [0.7, \"#b8e186\"], [0.8, \"#7fbc41\"], [0.9, \"#4d9221\"], [1, \"#276419\"]], \"sequential\": [[0.0, \"#0d0887\"], [0.1111111111111111, \"#46039f\"], [0.2222222222222222, \"#7201a8\"], [0.3333333333333333, \"#9c179e\"], [0.4444444444444444, \"#bd3786\"], [0.5555555555555556, \"#d8576b\"], [0.6666666666666666, \"#ed7953\"], [0.7777777777777778, \"#fb9f3a\"], [0.8888888888888888, \"#fdca26\"], [1.0, \"#f0f921\"]], \"sequentialminus\": [[0.0, \"#0d0887\"], [0.1111111111111111, \"#46039f\"], [0.2222222222222222, \"#7201a8\"], [0.3333333333333333, \"#9c179e\"], [0.4444444444444444, \"#bd3786\"], [0.5555555555555556, \"#d8576b\"], [0.6666666666666666, \"#ed7953\"], [0.7777777777777778, \"#fb9f3a\"], [0.8888888888888888, \"#fdca26\"], [1.0, \"#f0f921\"]]}, \"colorway\": [\"#636efa\", \"#EF553B\", \"#00cc96\", \"#ab63fa\", \"#FFA15A\", \"#19d3f3\", \"#FF6692\", \"#B6E880\", \"#FF97FF\", \"#FECB52\"], \"font\": {\"color\": \"#2a3f5f\"}, \"geo\": {\"bgcolor\": \"white\", \"lakecolor\": \"white\", \"landcolor\": \"#E5ECF6\", \"showlakes\": true, \"showland\": true, \"subunitcolor\": \"white\"}, \"hoverlabel\": {\"align\": \"left\"}, \"hovermode\": \"closest\", \"mapbox\": {\"style\": \"light\"}, \"paper_bgcolor\": \"white\", \"plot_bgcolor\": \"#E5ECF6\", \"polar\": {\"angularaxis\": {\"gridcolor\": \"white\", \"linecolor\": \"white\", \"ticks\": \"\"}, \"bgcolor\": \"#E5ECF6\", \"radialaxis\": {\"gridcolor\": \"white\", \"linecolor\": \"white\", \"ticks\": \"\"}}, \"scene\": {\"xaxis\": {\"backgroundcolor\": \"#E5ECF6\", \"gridcolor\": \"white\", \"gridwidth\": 2, \"linecolor\": \"white\", \"showbackground\": true, \"ticks\": \"\", \"zerolinecolor\": \"white\"}, \"yaxis\": {\"backgroundcolor\": \"#E5ECF6\", \"gridcolor\": \"white\", \"gridwidth\": 2, \"linecolor\": \"white\", \"showbackground\": true, \"ticks\": \"\", \"zerolinecolor\": \"white\"}, \"zaxis\": {\"backgroundcolor\": \"#E5ECF6\", \"gridcolor\": \"white\", \"gridwidth\": 2, \"linecolor\": \"white\", \"showbackground\": true, \"ticks\": \"\", \"zerolinecolor\": \"white\"}}, \"shapedefaults\": {\"line\": {\"color\": \"#2a3f5f\"}}, \"ternary\": {\"aaxis\": {\"gridcolor\": \"white\", \"linecolor\": \"white\", \"ticks\": \"\"}, \"baxis\": {\"gridcolor\": \"white\", \"linecolor\": \"white\", \"ticks\": \"\"}, \"bgcolor\": \"#E5ECF6\", \"caxis\": {\"gridcolor\": \"white\", \"linecolor\": \"white\", \"ticks\": \"\"}}, \"title\": {\"x\": 0.05}, \"xaxis\": {\"automargin\": true, \"gridcolor\": \"white\", \"linecolor\": \"white\", \"ticks\": \"\", \"title\": {\"standoff\": 15}, \"zerolinecolor\": \"white\", \"zerolinewidth\": 2}, \"yaxis\": {\"automargin\": true, \"gridcolor\": \"white\", \"linecolor\": \"white\", \"ticks\": \"\", \"title\": {\"standoff\": 15}, \"zerolinecolor\": \"white\", \"zerolinewidth\": 2}}}, \"title\": {\"font\": {\"size\": 20}, \"text\": \"Net cost of UBI reforms\"}, \"width\": 1000, \"xaxis\": {\"anchor\": \"y\", \"domain\": [0.0, 1.0], \"tickfont\": {\"size\": 14}, \"title\": {\"font\": {\"color\": \"black\", \"size\": 16}, \"text\": \"Reform\"}}, \"yaxis\": {\"anchor\": \"x\", \"domain\": [0.0, 1.0], \"tickfont\": {\"size\": 14}, \"title\": {\"font\": {\"color\": \"black\", \"size\": 16}, \"text\": \"Net cost per year\"}}},                        {\"displayModeBar\": false, \"responsive\": true}                    ).then(function(){\n",
       "                            \n",
       "var gd = document.getElementById('ed8eca41-3b1b-4744-8d64-b7004d007e13');\n",
       "var x = new MutationObserver(function (mutations, observer) {{\n",
       "        var display = window.getComputedStyle(gd).display;\n",
       "        if (!display || display === 'none') {{\n",
       "            console.log([gd, 'removed!']);\n",
       "            Plotly.purge(gd);\n",
       "            observer.disconnect();\n",
       "        }}\n",
       "}});\n",
       "\n",
       "// Listen for the removal of the full notebook cells\n",
       "var notebookContainer = gd.closest('#notebook-container');\n",
       "if (notebookContainer) {{\n",
       "    x.observe(notebookContainer, {childList: true});\n",
       "}}\n",
       "\n",
       "// Listen for the clearing of the current output cell\n",
       "var outputEl = gd.closest('.output');\n",
       "if (outputEl) {{\n",
       "    x.observe(outputEl, {childList: true});\n",
       "}}\n",
       "\n",
       "                        })                };                });            </script>        </div>"
      ]
     },
     "metadata": {},
     "output_type": "display_data"
    }
   ],
   "source": [
    "import os\n",
    "\n",
    "import microdf as mdf\n",
    "import numpy as np\n",
    "import pandas as pd\n",
    "import plotly\n",
    "import plotly.express as px\n",
    "from openfisca_uk import IndividualSim, PopulationSim\n",
    "from openfisca_uk.reforms.modelling import reported_benefits\n",
    "from plotly import graph_objects as go\n",
    "\n",
    "# Scripts must be run from root directory.\n",
    "if \"py\" not in os.listdir(\".\"):\n",
    "    os.chdir(\"..\")\n",
    "\n",
    "from py.make_dfs import get_dfs\n",
    "\n",
    "# Charts and formatting.\n",
    "\n",
    "BLUE = \"#1976D2\"\n",
    "DARK_BLUE = \"#1565C0\"\n",
    "LIGHT_BLUE = \"#90CAF9\"\n",
    "GRAY = \"#BDBDBD\"\n",
    "CONFIG = {\"displayModeBar\": False}\n",
    "\n",
    "\n",
    "def add_ubi_center_watermark(fig, x, y=-0.12):\n",
    "    fig.add_layout_image(\n",
    "        dict(\n",
    "            source=\"https://raw.githubusercontent.com/UBICenter/blog/master/jb/_static/ubi_center_logo_wide_blue.png\",\n",
    "            # See https://github.com/plotly/plotly.py/issues/2975.\n",
    "            # source=\"../_static/ubi_center_logo_wide_blue.png\",\n",
    "            xref=\"paper\",\n",
    "            yref=\"paper\",\n",
    "            x=x,\n",
    "            y=y,\n",
    "            sizex=0.12,\n",
    "            sizey=0.12,\n",
    "            xanchor=\"right\",\n",
    "            yanchor=\"bottom\",\n",
    "        )\n",
    "    )\n",
    "\n",
    "\n",
    "def ubi_chart(fig, name):\n",
    "    add_ubi_center_watermark(fig, 0.98)\n",
    "    fig.update_xaxes(title_font=dict(size=16, color=\"black\"), tickfont={\"size\": 14})\n",
    "    fig.update_yaxes(title_font=dict(size=16, color=\"black\"), tickfont={\"size\": 14})\n",
    "    fig.update_layout(\n",
    "        hoverlabel_align=\"right\",\n",
    "        font_family=\"Roboto\",\n",
    "        title_font_size=20,\n",
    "        plot_bgcolor=\"white\",\n",
    "        paper_bgcolor=\"white\",\n",
    "        width=1000,\n",
    "        height=800,\n",
    "    )\n",
    "    fig.show(config=CONFIG)\n",
    "    fig.write_image(f\"images/{name}.png\", scale=2)\n",
    "\n",
    "\n",
    "p, h = get_dfs()\n",
    "\n",
    "net_change = mdf.weighted_sum(\n",
    "    h, \"household_net_income_chg\", \"household_weight\", groupby=\"reform\"\n",
    ")\n",
    "\n",
    "fig = px.bar(net_change)\n",
    "fig.update_layout(\n",
    "    title=\"Net cost of UBI reforms\",\n",
    "    xaxis_title=\"Reform\",\n",
    "    yaxis_title=\"Net cost per year\",\n",
    ")\n",
    "fig.update_layout(showlegend=False)\n",
    "ubi_chart(fig, \"net_cost\")\n",
    "# fig.show()"
   ]
  },
  {
   "cell_type": "markdown",
   "metadata": {
    "id": "3Vb_tqAIRFIC"
   },
   "source": [
    "## Reform comparisons\n",
    "\n",
    "\n",
    "### UBI Specifications\n",
    "\n",
    "The UBI reforms give the following amounts per week:"
   ]
  },
  {
   "cell_type": "code",
   "execution_count": 2,
   "metadata": {
    "cellView": "form",
    "colab": {
     "base_uri": "https://localhost:8080/",
     "height": 261
    },
    "id": "nfwu8KEAygtk",
    "outputId": "e17875e0-961f-486c-928f-23476cd6baf9",
    "tags": [
     "hide-input"
    ]
   },
   "outputs": [
    {
     "ename": "NameError",
     "evalue": "name 'params' is not defined",
     "output_type": "error",
     "traceback": [
      "\u001b[0;31m---------------------------------------------------------------------------\u001b[0m",
      "\u001b[0;31mNameError\u001b[0m                                 Traceback (most recent call last)",
      "\u001b[0;32m<ipython-input-2-6c508d7cf98f>\u001b[0m in \u001b[0;36m<module>\u001b[0;34m\u001b[0m\n\u001b[1;32m      2\u001b[0m \u001b[0msummary\u001b[0m \u001b[0;34m=\u001b[0m \u001b[0mpd\u001b[0m\u001b[0;34m.\u001b[0m\u001b[0mDataFrame\u001b[0m\u001b[0;34m(\u001b[0m\u001b[0;34m)\u001b[0m\u001b[0;34m\u001b[0m\u001b[0;34m\u001b[0m\u001b[0m\n\u001b[1;32m      3\u001b[0m \u001b[0mregion_table\u001b[0m \u001b[0;34m=\u001b[0m \u001b[0mpd\u001b[0m\u001b[0;34m.\u001b[0m\u001b[0mDataFrame\u001b[0m\u001b[0;34m(\u001b[0m\u001b[0;34m)\u001b[0m\u001b[0;34m\u001b[0m\u001b[0;34m\u001b[0m\u001b[0m\n\u001b[0;32m----> 4\u001b[0;31m \u001b[0mparam_lst\u001b[0m \u001b[0;34m=\u001b[0m \u001b[0mnp\u001b[0m\u001b[0;34m.\u001b[0m\u001b[0marray\u001b[0m\u001b[0;34m(\u001b[0m\u001b[0;34m[\u001b[0m\u001b[0mlst\u001b[0m\u001b[0;34m[\u001b[0m\u001b[0;34m:\u001b[0m\u001b[0;34m-\u001b[0m\u001b[0;36m1\u001b[0m\u001b[0;34m]\u001b[0m \u001b[0;34m+\u001b[0m \u001b[0mlist\u001b[0m\u001b[0;34m(\u001b[0m\u001b[0mlst\u001b[0m\u001b[0;34m[\u001b[0m\u001b[0;34m-\u001b[0m\u001b[0;36m1\u001b[0m\u001b[0;34m]\u001b[0m\u001b[0;34m)\u001b[0m \u001b[0;32mfor\u001b[0m \u001b[0mlst\u001b[0m \u001b[0;32min\u001b[0m \u001b[0mparams\u001b[0m\u001b[0;34m]\u001b[0m\u001b[0;34m)\u001b[0m\u001b[0;34m.\u001b[0m\u001b[0mT\u001b[0m\u001b[0;34m\u001b[0m\u001b[0;34m\u001b[0m\u001b[0m\n\u001b[0m\u001b[1;32m      5\u001b[0m \u001b[0;34m\u001b[0m\u001b[0m\n\u001b[1;32m      6\u001b[0m REGION_NAMES = [\n",
      "\u001b[0;31mNameError\u001b[0m: name 'params' is not defined"
     ]
    }
   ],
   "source": [
    "#@title\n",
    "summary = pd.DataFrame()\n",
    "region_table = pd.DataFrame()\n",
    "param_lst = np.array([lst[:-1] + list(lst[-1]) for lst in params]).T\n",
    "\n",
    "REGION_NAMES = [\n",
    "    \"North East\",\n",
    "    \"North West\",\n",
    "    \"Yorkshire and the Humber\",\n",
    "    \"East Midlands\",\n",
    "    \"West Midlands\",\n",
    "    \"East of England\",\n",
    "    \"London\",\n",
    "    \"South East\",\n",
    "    \"South West\",\n",
    "    \"Wales\",\n",
    "    \"Scotland\",\n",
    "    \"Northern Ireland\"\n",
    "]\n",
    "cols = [\n",
    "       \"Senior\",\n",
    "       \"Adult\",\n",
    "       \"Child\",\n",
    "       \"Disability\"\n",
    "] + REGION_NAMES\n",
    "for i in range(len(cols)):\n",
    "  summary[cols[i]] = param_lst[i]\n",
    "summary[\"Name\"] = reform_names\n",
    "summary = summary.set_index(\"Name\").T\n",
    "for col in summary:\n",
    "    summary[col] = summary[col].apply(lambda x : \"£\" + str(int(x)))\n",
    "summary"
   ]
  },
  {
   "cell_type": "markdown",
   "metadata": {
    "id": "5K9-obc8-4ES"
   },
   "source": [
    "### Percent changes\n",
    "\n",
    "#### Mean percent loss\n",
    "\n",
    "The mean percent loss is the mean income loss as a percentage of net income among those who lose income from the reform."
   ]
  },
  {
   "cell_type": "code",
   "execution_count": 6,
   "metadata": {},
   "outputs": [
    {
     "data": {
      "text/html": [
       "<div>\n",
       "<style scoped>\n",
       "    .dataframe tbody tr th:only-of-type {\n",
       "        vertical-align: middle;\n",
       "    }\n",
       "\n",
       "    .dataframe tbody tr th {\n",
       "        vertical-align: top;\n",
       "    }\n",
       "\n",
       "    .dataframe thead th {\n",
       "        text-align: right;\n",
       "    }\n",
       "</style>\n",
       "<table border=\"1\" class=\"dataframe\">\n",
       "  <thead>\n",
       "    <tr style=\"text-align: right;\">\n",
       "      <th></th>\n",
       "      <th>household_net_income</th>\n",
       "      <th>household_net_income_base</th>\n",
       "      <th>household_net_income_pl</th>\n",
       "    </tr>\n",
       "  </thead>\n",
       "  <tbody>\n",
       "    <tr>\n",
       "      <th>0</th>\n",
       "      <td>41920.789062</td>\n",
       "      <td>53660.421875</td>\n",
       "      <td>-0.218776</td>\n",
       "    </tr>\n",
       "    <tr>\n",
       "      <th>1</th>\n",
       "      <td>16921.771484</td>\n",
       "      <td>19646.113281</td>\n",
       "      <td>-0.138671</td>\n",
       "    </tr>\n",
       "    <tr>\n",
       "      <th>2</th>\n",
       "      <td>16921.771484</td>\n",
       "      <td>19646.113281</td>\n",
       "      <td>-0.138671</td>\n",
       "    </tr>\n",
       "    <tr>\n",
       "      <th>3</th>\n",
       "      <td>16921.771484</td>\n",
       "      <td>19646.113281</td>\n",
       "      <td>-0.138671</td>\n",
       "    </tr>\n",
       "    <tr>\n",
       "      <th>4</th>\n",
       "      <td>8240.797852</td>\n",
       "      <td>8038.000000</td>\n",
       "      <td>0.000000</td>\n",
       "    </tr>\n",
       "    <tr>\n",
       "      <th>...</th>\n",
       "      <td>...</td>\n",
       "      <td>...</td>\n",
       "      <td>...</td>\n",
       "    </tr>\n",
       "    <tr>\n",
       "      <th>43082</th>\n",
       "      <td>35781.203125</td>\n",
       "      <td>27460.050781</td>\n",
       "      <td>0.000000</td>\n",
       "    </tr>\n",
       "    <tr>\n",
       "      <th>43083</th>\n",
       "      <td>35781.203125</td>\n",
       "      <td>27460.050781</td>\n",
       "      <td>0.000000</td>\n",
       "    </tr>\n",
       "    <tr>\n",
       "      <th>43084</th>\n",
       "      <td>24436.000000</td>\n",
       "      <td>33710.730469</td>\n",
       "      <td>-0.275127</td>\n",
       "    </tr>\n",
       "    <tr>\n",
       "      <th>43085</th>\n",
       "      <td>34093.796875</td>\n",
       "      <td>26915.199219</td>\n",
       "      <td>0.000000</td>\n",
       "    </tr>\n",
       "    <tr>\n",
       "      <th>43086</th>\n",
       "      <td>34093.796875</td>\n",
       "      <td>26915.199219</td>\n",
       "      <td>0.000000</td>\n",
       "    </tr>\n",
       "  </tbody>\n",
       "</table>\n",
       "<p>129261 rows × 3 columns</p>\n",
       "</div>"
      ],
      "text/plain": [
       "       household_net_income  household_net_income_base  \\\n",
       "0              41920.789062               53660.421875   \n",
       "1              16921.771484               19646.113281   \n",
       "2              16921.771484               19646.113281   \n",
       "3              16921.771484               19646.113281   \n",
       "4               8240.797852                8038.000000   \n",
       "...                     ...                        ...   \n",
       "43082          35781.203125               27460.050781   \n",
       "43083          35781.203125               27460.050781   \n",
       "43084          24436.000000               33710.730469   \n",
       "43085          34093.796875               26915.199219   \n",
       "43086          34093.796875               26915.199219   \n",
       "\n",
       "       household_net_income_pl  \n",
       "0                    -0.218776  \n",
       "1                    -0.138671  \n",
       "2                    -0.138671  \n",
       "3                    -0.138671  \n",
       "4                     0.000000  \n",
       "...                        ...  \n",
       "43082                 0.000000  \n",
       "43083                 0.000000  \n",
       "43084                -0.275127  \n",
       "43085                 0.000000  \n",
       "43086                 0.000000  \n",
       "\n",
       "[129261 rows x 3 columns]"
      ]
     },
     "execution_count": 6,
     "metadata": {},
     "output_type": "execute_result"
    }
   ],
   "source": [
    "p[[\"household_net_income\", \"household_net_income_base\", \"household_net_income_pl\"]]"
   ]
  },
  {
   "cell_type": "code",
   "execution_count": 8,
   "metadata": {},
   "outputs": [
    {
     "data": {
      "text/html": [
       "<div>\n",
       "<style scoped>\n",
       "    .dataframe tbody tr th:only-of-type {\n",
       "        vertical-align: middle;\n",
       "    }\n",
       "\n",
       "    .dataframe tbody tr th {\n",
       "        vertical-align: top;\n",
       "    }\n",
       "\n",
       "    .dataframe thead th {\n",
       "        text-align: right;\n",
       "    }\n",
       "</style>\n",
       "<table border=\"1\" class=\"dataframe\">\n",
       "  <thead>\n",
       "    <tr style=\"text-align: right;\">\n",
       "      <th></th>\n",
       "      <th>basic_income</th>\n",
       "      <th>household_net_income</th>\n",
       "      <th>reform</th>\n",
       "      <th>household_weight</th>\n",
       "      <th>age</th>\n",
       "      <th>region</th>\n",
       "      <th>is_disabled_for_ubi</th>\n",
       "      <th>household_net_income_base</th>\n",
       "      <th>equiv_household_net_income_base</th>\n",
       "      <th>poverty_line_bhc</th>\n",
       "      <th>poverty_line_ahc</th>\n",
       "      <th>region_name</th>\n",
       "      <th>household_net_income_chg</th>\n",
       "      <th>household_net_income_pc</th>\n",
       "      <th>household_net_income_pl</th>\n",
       "    </tr>\n",
       "  </thead>\n",
       "  <tbody>\n",
       "    <tr>\n",
       "      <th>146</th>\n",
       "      <td>6448.0</td>\n",
       "      <td>9301.599609</td>\n",
       "      <td>1: Foundational</td>\n",
       "      <td>1651.0</td>\n",
       "      <td>24.0</td>\n",
       "      <td>6</td>\n",
       "      <td>0.0</td>\n",
       "      <td>-22.0</td>\n",
       "      <td>-25.287355</td>\n",
       "      <td>13345.805664</td>\n",
       "      <td>10261.675781</td>\n",
       "      <td>LONDON</td>\n",
       "      <td>9323.599609</td>\n",
       "      <td>-423.799988</td>\n",
       "      <td>-423.799988</td>\n",
       "    </tr>\n",
       "    <tr>\n",
       "      <th>147</th>\n",
       "      <td>3952.0</td>\n",
       "      <td>9301.599609</td>\n",
       "      <td>1: Foundational</td>\n",
       "      <td>1651.0</td>\n",
       "      <td>3.0</td>\n",
       "      <td>6</td>\n",
       "      <td>0.0</td>\n",
       "      <td>-22.0</td>\n",
       "      <td>-25.287355</td>\n",
       "      <td>13345.805664</td>\n",
       "      <td>10261.675781</td>\n",
       "      <td>LONDON</td>\n",
       "      <td>9323.599609</td>\n",
       "      <td>-423.799988</td>\n",
       "      <td>-423.799988</td>\n",
       "    </tr>\n",
       "    <tr>\n",
       "      <th>277</th>\n",
       "      <td>6448.0</td>\n",
       "      <td>4691.000000</td>\n",
       "      <td>1: Foundational</td>\n",
       "      <td>720.0</td>\n",
       "      <td>56.0</td>\n",
       "      <td>10</td>\n",
       "      <td>0.0</td>\n",
       "      <td>-1471.0</td>\n",
       "      <td>-2195.522217</td>\n",
       "      <td>10277.801758</td>\n",
       "      <td>7630.485352</td>\n",
       "      <td>SCOTLAND</td>\n",
       "      <td>6162.000000</td>\n",
       "      <td>-4.188987</td>\n",
       "      <td>-4.188987</td>\n",
       "    </tr>\n",
       "    <tr>\n",
       "      <th>336</th>\n",
       "      <td>6448.0</td>\n",
       "      <td>4554.000000</td>\n",
       "      <td>1: Foundational</td>\n",
       "      <td>1772.0</td>\n",
       "      <td>41.0</td>\n",
       "      <td>6</td>\n",
       "      <td>0.0</td>\n",
       "      <td>-1374.0</td>\n",
       "      <td>-2050.746338</td>\n",
       "      <td>10277.801758</td>\n",
       "      <td>7630.485352</td>\n",
       "      <td>LONDON</td>\n",
       "      <td>5928.000000</td>\n",
       "      <td>-4.314411</td>\n",
       "      <td>-4.314411</td>\n",
       "    </tr>\n",
       "    <tr>\n",
       "      <th>495</th>\n",
       "      <td>6448.0</td>\n",
       "      <td>10983.000000</td>\n",
       "      <td>1: Foundational</td>\n",
       "      <td>1027.0</td>\n",
       "      <td>23.0</td>\n",
       "      <td>10</td>\n",
       "      <td>0.0</td>\n",
       "      <td>-1783.0</td>\n",
       "      <td>-1783.000000</td>\n",
       "      <td>15340.000000</td>\n",
       "      <td>13156.000000</td>\n",
       "      <td>SCOTLAND</td>\n",
       "      <td>12766.000000</td>\n",
       "      <td>-7.159843</td>\n",
       "      <td>-7.159843</td>\n",
       "    </tr>\n",
       "    <tr>\n",
       "      <th>...</th>\n",
       "      <td>...</td>\n",
       "      <td>...</td>\n",
       "      <td>...</td>\n",
       "      <td>...</td>\n",
       "      <td>...</td>\n",
       "      <td>...</td>\n",
       "      <td>...</td>\n",
       "      <td>...</td>\n",
       "      <td>...</td>\n",
       "      <td>...</td>\n",
       "      <td>...</td>\n",
       "      <td>...</td>\n",
       "      <td>...</td>\n",
       "      <td>...</td>\n",
       "      <td>...</td>\n",
       "    </tr>\n",
       "    <tr>\n",
       "      <th>42405</th>\n",
       "      <td>6396.0</td>\n",
       "      <td>4725.000000</td>\n",
       "      <td>3: Disability + geo</td>\n",
       "      <td>6818.0</td>\n",
       "      <td>23.0</td>\n",
       "      <td>6</td>\n",
       "      <td>0.0</td>\n",
       "      <td>-1671.0</td>\n",
       "      <td>-2494.029785</td>\n",
       "      <td>10277.801758</td>\n",
       "      <td>7630.485352</td>\n",
       "      <td>LONDON</td>\n",
       "      <td>6396.000000</td>\n",
       "      <td>-3.827648</td>\n",
       "      <td>-3.827648</td>\n",
       "    </tr>\n",
       "    <tr>\n",
       "      <th>42522</th>\n",
       "      <td>6240.0</td>\n",
       "      <td>11804.000000</td>\n",
       "      <td>3: Disability + geo</td>\n",
       "      <td>802.0</td>\n",
       "      <td>59.0</td>\n",
       "      <td>10</td>\n",
       "      <td>0.0</td>\n",
       "      <td>-52.0</td>\n",
       "      <td>-52.000000</td>\n",
       "      <td>15340.000000</td>\n",
       "      <td>13156.000000</td>\n",
       "      <td>SCOTLAND</td>\n",
       "      <td>11856.000000</td>\n",
       "      <td>-228.000000</td>\n",
       "      <td>-228.000000</td>\n",
       "    </tr>\n",
       "    <tr>\n",
       "      <th>42523</th>\n",
       "      <td>6240.0</td>\n",
       "      <td>11804.000000</td>\n",
       "      <td>3: Disability + geo</td>\n",
       "      <td>802.0</td>\n",
       "      <td>59.0</td>\n",
       "      <td>10</td>\n",
       "      <td>0.0</td>\n",
       "      <td>-52.0</td>\n",
       "      <td>-52.000000</td>\n",
       "      <td>15340.000000</td>\n",
       "      <td>13156.000000</td>\n",
       "      <td>SCOTLAND</td>\n",
       "      <td>11856.000000</td>\n",
       "      <td>-228.000000</td>\n",
       "      <td>-228.000000</td>\n",
       "    </tr>\n",
       "    <tr>\n",
       "      <th>42571</th>\n",
       "      <td>6188.0</td>\n",
       "      <td>4806.000000</td>\n",
       "      <td>3: Disability + geo</td>\n",
       "      <td>1582.0</td>\n",
       "      <td>55.0</td>\n",
       "      <td>4</td>\n",
       "      <td>0.0</td>\n",
       "      <td>-1278.0</td>\n",
       "      <td>-1907.462646</td>\n",
       "      <td>10277.801758</td>\n",
       "      <td>7630.485352</td>\n",
       "      <td>WEST_MIDLANDS</td>\n",
       "      <td>6084.000000</td>\n",
       "      <td>-4.760563</td>\n",
       "      <td>-4.760563</td>\n",
       "    </tr>\n",
       "    <tr>\n",
       "      <th>42638</th>\n",
       "      <td>5980.0</td>\n",
       "      <td>5074.000000</td>\n",
       "      <td>3: Disability + geo</td>\n",
       "      <td>1293.0</td>\n",
       "      <td>62.0</td>\n",
       "      <td>2</td>\n",
       "      <td>0.0</td>\n",
       "      <td>-698.0</td>\n",
       "      <td>-1041.791016</td>\n",
       "      <td>10277.801758</td>\n",
       "      <td>7630.485352</td>\n",
       "      <td>YORKSHIRE</td>\n",
       "      <td>5772.000000</td>\n",
       "      <td>-8.269341</td>\n",
       "      <td>-8.269341</td>\n",
       "    </tr>\n",
       "  </tbody>\n",
       "</table>\n",
       "<p>1683 rows × 15 columns</p>\n",
       "</div>"
      ],
      "text/plain": [
       "       basic_income  household_net_income               reform  \\\n",
       "146          6448.0           9301.599609      1: Foundational   \n",
       "147          3952.0           9301.599609      1: Foundational   \n",
       "277          6448.0           4691.000000      1: Foundational   \n",
       "336          6448.0           4554.000000      1: Foundational   \n",
       "495          6448.0          10983.000000      1: Foundational   \n",
       "...             ...                   ...                  ...   \n",
       "42405        6396.0           4725.000000  3: Disability + geo   \n",
       "42522        6240.0          11804.000000  3: Disability + geo   \n",
       "42523        6240.0          11804.000000  3: Disability + geo   \n",
       "42571        6188.0           4806.000000  3: Disability + geo   \n",
       "42638        5980.0           5074.000000  3: Disability + geo   \n",
       "\n",
       "       household_weight   age  region  is_disabled_for_ubi  \\\n",
       "146              1651.0  24.0       6                  0.0   \n",
       "147              1651.0   3.0       6                  0.0   \n",
       "277               720.0  56.0      10                  0.0   \n",
       "336              1772.0  41.0       6                  0.0   \n",
       "495              1027.0  23.0      10                  0.0   \n",
       "...                 ...   ...     ...                  ...   \n",
       "42405            6818.0  23.0       6                  0.0   \n",
       "42522             802.0  59.0      10                  0.0   \n",
       "42523             802.0  59.0      10                  0.0   \n",
       "42571            1582.0  55.0       4                  0.0   \n",
       "42638            1293.0  62.0       2                  0.0   \n",
       "\n",
       "       household_net_income_base  equiv_household_net_income_base  \\\n",
       "146                        -22.0                       -25.287355   \n",
       "147                        -22.0                       -25.287355   \n",
       "277                      -1471.0                     -2195.522217   \n",
       "336                      -1374.0                     -2050.746338   \n",
       "495                      -1783.0                     -1783.000000   \n",
       "...                          ...                              ...   \n",
       "42405                    -1671.0                     -2494.029785   \n",
       "42522                      -52.0                       -52.000000   \n",
       "42523                      -52.0                       -52.000000   \n",
       "42571                    -1278.0                     -1907.462646   \n",
       "42638                     -698.0                     -1041.791016   \n",
       "\n",
       "       poverty_line_bhc  poverty_line_ahc    region_name  \\\n",
       "146        13345.805664      10261.675781         LONDON   \n",
       "147        13345.805664      10261.675781         LONDON   \n",
       "277        10277.801758       7630.485352       SCOTLAND   \n",
       "336        10277.801758       7630.485352         LONDON   \n",
       "495        15340.000000      13156.000000       SCOTLAND   \n",
       "...                 ...               ...            ...   \n",
       "42405      10277.801758       7630.485352         LONDON   \n",
       "42522      15340.000000      13156.000000       SCOTLAND   \n",
       "42523      15340.000000      13156.000000       SCOTLAND   \n",
       "42571      10277.801758       7630.485352  WEST_MIDLANDS   \n",
       "42638      10277.801758       7630.485352      YORKSHIRE   \n",
       "\n",
       "       household_net_income_chg  household_net_income_pc  \\\n",
       "146                 9323.599609              -423.799988   \n",
       "147                 9323.599609              -423.799988   \n",
       "277                 6162.000000                -4.188987   \n",
       "336                 5928.000000                -4.314411   \n",
       "495                12766.000000                -7.159843   \n",
       "...                         ...                      ...   \n",
       "42405               6396.000000                -3.827648   \n",
       "42522              11856.000000              -228.000000   \n",
       "42523              11856.000000              -228.000000   \n",
       "42571               6084.000000                -4.760563   \n",
       "42638               5772.000000                -8.269341   \n",
       "\n",
       "       household_net_income_pl  \n",
       "146                -423.799988  \n",
       "147                -423.799988  \n",
       "277                  -4.188987  \n",
       "336                  -4.314411  \n",
       "495                  -7.159843  \n",
       "...                        ...  \n",
       "42405                -3.827648  \n",
       "42522              -228.000000  \n",
       "42523              -228.000000  \n",
       "42571                -4.760563  \n",
       "42638                -8.269341  \n",
       "\n",
       "[1683 rows x 15 columns]"
      ]
     },
     "execution_count": 8,
     "metadata": {},
     "output_type": "execute_result"
    }
   ],
   "source": [
    "p[p.household_net_income_base < 0]"
   ]
  },
  {
   "cell_type": "code",
   "execution_count": 16,
   "metadata": {},
   "outputs": [
    {
     "data": {
      "text/plain": [
       "nan"
      ]
     },
     "execution_count": 16,
     "metadata": {},
     "output_type": "execute_result"
    }
   ],
   "source": [
    "np.maximum(np.nan, 0)"
   ]
  },
  {
   "cell_type": "code",
   "execution_count": 14,
   "metadata": {},
   "outputs": [
    {
     "data": {
      "text/plain": [
       "reform\n",
       "1: Foundational       -0.635403\n",
       "2: Disability         -0.613326\n",
       "3: Disability + geo   -0.610455\n",
       "dtype: float64"
      ]
     },
     "execution_count": 14,
     "metadata": {},
     "output_type": "execute_result"
    }
   ],
   "source": [
    "mdf.weighted_mean(p[p.household_net_income_base != 0], \"household_net_income_pl\", \"household_weight\", groupby=\"reform\")"
   ]
  },
  {
   "cell_type": "code",
   "execution_count": null,
   "metadata": {
    "cellView": "form",
    "colab": {
     "base_uri": "https://localhost:8080/",
     "height": 417
    },
    "id": "_beSkfqt_FGq",
    "outputId": "1aeac45b-98ac-4040-af7b-41d2cde93b94",
    "tags": [
     "hide-input"
    ]
   },
   "outputs": [],
   "source": [
    "#@title\n",
    "mean_pct_loss = []\n",
    "\n",
    "def mean_pct_loss(sim):\n",
    "  income_b = baseline_sim.calc(\"household_net_income\", map_to=\"person\")\n",
    "  income_r = sim.calc(\"household_net_income\", map_to=\"person\")\n",
    "  change = income_r - income_b\n",
    "  loss = np.maximum(0, -change)\n",
    "  pct_loss = loss / income_b\n",
    "  is_valid = np.isfinite(pct_loss)\n",
    "  pct_loss = pct_loss[is_valid]\n",
    "  mean_pct_loss = np.average(pct_loss, weights=people[is_valid])\n",
    "  return mean_pct_loss\n",
    "\n",
    "fig = go.Figure()\n",
    "vals = [mean_pct_loss(sim) for sim in reform_sims]\n",
    "labels = [f\"{round(x * 100, 2)}%\" for x in vals]\n",
    "fig.add_trace(go.Bar(text=labels, textposition=\"inside\", x=reform_names, y=vals))\n",
    "fig.update_layout(title=\"Mean percent loss\", xaxis_title=\"Reform\", yaxis_title=\"Mean percent loss\", yaxis_tickformat=\"%\")\n",
    "ubi_chart(fig, \"mean_pct_loss\")\n",
    "fig.show()"
   ]
  },
  {
   "cell_type": "markdown",
   "metadata": {
    "id": "GDhZXexTAzif"
   },
   "source": [
    "#### Percent better off\n",
    "\n",
    "\n",
    "\n",
    "The percentage better of the simply the number of people whose household disposable income increases. In each proposal a majority see an increase in net income."
   ]
  },
  {
   "cell_type": "code",
   "execution_count": null,
   "metadata": {
    "cellView": "form",
    "colab": {
     "base_uri": "https://localhost:8080/",
     "height": 417
    },
    "id": "wFvmq4RNA81c",
    "outputId": "522596d6-c9b5-4159-e501-6e21035a83d1",
    "tags": [
     "hide-input"
    ]
   },
   "outputs": [],
   "source": [
    "#@title\n",
    "mean_pct_loss = []\n",
    "\n",
    "def pct_better_off(sim):\n",
    "  income_b = baseline_sim.calc(\"household_net_income\", map_to=\"person\")\n",
    "  income_r = sim.calc(\"household_net_income\", map_to=\"person\")\n",
    "  pct_better_off = np.average(income_r > income_b, weights=people)\n",
    "  return pct_better_off\n",
    "\n",
    "fig = go.Figure()\n",
    "vals = [pct_better_off(sim) for sim in reform_sims]\n",
    "labels = [f\"{round(x * 100, 2)}%\" for x in vals]\n",
    "fig.add_trace(go.Bar(text=labels, textposition=\"inside\", x=reform_names, y=vals))\n",
    "fig.update_layout(title=\"Percent better off\", xaxis_title=\"Reform\", yaxis_title=\"Percent better off\", yaxis_tickformat=\"%\")\n",
    "ubi_chart(fig, \"pct_gain\")\n",
    "fig.show()"
   ]
  },
  {
   "cell_type": "markdown",
   "metadata": {
    "id": "90Pxkam_B0do"
   },
   "source": [
    "### Changes by income decile\n",
    "\n",
    "The following graph shows the percentage change to aggregate equivalised household net income for each decile per reform."
   ]
  },
  {
   "cell_type": "code",
   "execution_count": null,
   "metadata": {
    "cellView": "form",
    "colab": {
     "base_uri": "https://localhost:8080/",
     "height": 817
    },
    "id": "wdzGI0FYB3BA",
    "outputId": "59fddf8a-e45e-4b22-cd44-d9d55cc66a8b",
    "tags": [
     "hide-input"
    ]
   },
   "outputs": [],
   "source": [
    "#@title\n",
    "from rdbl import gbp\n",
    "df = pd.DataFrame()\n",
    "df[\"household_weight\"] = baseline_sim.calc(\"household_weight\", map_to=\"person\")\n",
    "df[\"household_net_income\"] = np.maximum(0, baseline_sim.calc(\"equiv_household_net_income\", map_to=\"person\"))\n",
    "\n",
    "df[\"household_net_income\"] *= df[\"household_weight\"]\n",
    "mdf.add_weighted_quantiles(df, \"household_net_income\", \"household_weight\")\n",
    "decile_df = df.groupby(\"household_net_income_decile\").sum()\n",
    "\n",
    "pct_changes = []\n",
    "for reform_sim, reform_name in zip(reform_sims, reform_names):\n",
    "  reform_df = pd.DataFrame()\n",
    "  reform_df[\"household_weight\"] = df[\"household_weight\"]\n",
    "  new_net_income = np.maximum(0, reform_sim.calc(\"equiv_household_net_income\", map_to=\"person\"))\n",
    "  reform_df[\"household_net_income\"] = new_net_income\n",
    "  reform_df[\"household_net_income\"] *= reform_df[\"household_weight\"]\n",
    "\n",
    "  mdf.add_weighted_quantiles(reform_df, \"household_net_income\", \"household_weight\")\n",
    "  reform_decile_df = reform_df.groupby(\"household_net_income_decile\").sum()\n",
    "  pct_changes += [(reform_decile_df[\"household_net_income\"] - decile_df[\"household_net_income\"]) / decile_df[\"household_net_income\"]]\n",
    "\n",
    "fig = go.Figure()\n",
    "for reform_name, pct_change in zip(reform_names, pct_changes):\n",
    "  fig.add_trace(go.Bar(x=decile_df.index, y=pct_change, name=reform_name))\n",
    "fig.update_layout(title=\"Effects on household income deciles\", xaxis_title=\"Income decile\", yaxis_title=\"Average change\", yaxis_tickformat=\"%\", xaxis=dict(tickvals=np.arange(1, 11)))\n",
    "ubi_chart(fig, \"decile\")\n",
    "fig.show()"
   ]
  },
  {
   "cell_type": "markdown",
   "metadata": {},
   "source": [
    "### Changes to inequality\n",
    "\n",
    "Each reform reduces the Gini coefficient substantially, with more targeted reforms producing greater reductions."
   ]
  },
  {
   "cell_type": "code",
   "execution_count": null,
   "metadata": {
    "tags": [
     "hide-input"
    ]
   },
   "outputs": [],
   "source": [
    "def percent_reduction(before, after):\n",
    "    return (after - before) / before\n",
    "\n",
    "gini_reductions = []\n",
    "\n",
    "for reformed in reform_sims:\n",
    "    household_net_bhc = pd.DataFrame()\n",
    "    household_net_bhc[\"w\"] = baseline_sim.calc(\n",
    "        \"household_weight\"\n",
    "    ) * baseline_sim.calc(\"people_in_household\")\n",
    "    household_net_bhc[\"baseline\"] = baseline_sim.calc(\n",
    "        \"equiv_household_net_income\"\n",
    "    )\n",
    "    household_net_bhc[\"reform\"] = reformed.calc(\n",
    "        \"equiv_household_net_income\"\n",
    "    )\n",
    "    baseline_gini = mdf.gini(household_net_bhc, \"baseline\", w=\"w\")\n",
    "    reform_gini = mdf.gini(household_net_bhc, \"reform\", w=\"w\")\n",
    "    gini_reduction = percent_reduction(baseline_gini, reform_gini)\n",
    "    gini_reductions.append(gini_reduction * 100)\n",
    "\n",
    "fig = go.Figure()\n",
    "labels = [f\"{round(x, 2)}%\" for x in gini_reductions]\n",
    "fig.add_trace(go.Bar(x=reform_names, y=gini_reductions, text=labels, textposition=\"inside\"))\n",
    "fig.update_yaxes(ticksuffix=\"%\")\n",
    "fig.update_layout(xaxis_title=\"Reform\", yaxis_title=\"Percentage reduction\", title=\"Gini reduction\")\n",
    "ubi_chart(fig, \"gini\")\n",
    "fig.show()\n"
   ]
  },
  {
   "cell_type": "markdown",
   "metadata": {
    "id": "dfDHMl5MFMAX"
   },
   "source": [
    "## Reform details\n",
    "\n",
    "This section contains a more in-depth inspection of the changes to individuals under Reform 2, which is a suitable representative of the shared aspects of the three reforms.\n",
    "\n",
    "### Intra-decile changes\n",
    "\n",
    "We have that the changes to income are broadly progressive along the income deciles, however there is significant diversity of outcomes within each decile due to differing compositions of income, family and individual characteristics such as disability. The following chart shows the distribution of outcomes within each income decile."
   ]
  },
  {
   "cell_type": "code",
   "execution_count": null,
   "metadata": {
    "tags": [
     "hide-input"
    ]
   },
   "outputs": [],
   "source": [
    "#@title\n",
    "import seaborn as sns\n",
    "import matplotlib\n",
    "N = 4\n",
    "COLORS = list(map(lambda rgba_color : matplotlib.colors.to_hex(rgba_color), sns.diverging_palette(220, 20, as_cmap=True)(np.linspace(0, 1, num=N))))[::-1]\n",
    "MIN_PCT_CHANGE = -0.05\n",
    "MAX_PCT_CHANGE = 0.05\n",
    "pivot = int(MAX_PCT_CHANGE * 100)\n",
    "change_bin_names = [f\"Lose more than {pivot}%\", f\"Lose less than {pivot}%\", f\"Gain less than {pivot}%\", f\"Gain more than {pivot}%\"]\n",
    "\n",
    "interval_size = (MAX_PCT_CHANGE - MIN_PCT_CHANGE) / (N - 2)\n",
    "change_bin_bands = pd.IntervalIndex.from_tuples([(-np.inf, MIN_PCT_CHANGE)] + [(MIN_PCT_CHANGE + i * interval_size, MIN_PCT_CHANGE + (i + 1) * interval_size) for i in range(N - 2)] + [(MAX_PCT_CHANGE, np.inf)])\n",
    "# change_bin_names = np.array([f\"<{MIN_PCT_CHANGE * 100}%\"] + [f\"{round((MIN_PCT_CHANGE + i * interval_size) * 100)}%\" for i in range(N - 2)] + [f\">{MAX_PCT_CHANGE * 100}%\"])\n",
    "\n",
    "\n",
    "COLORS = COLORS[::-1]\n",
    "change_bin_bands = change_bin_bands[::-1]\n",
    "change_bin_names = change_bin_names[::-1]\n",
    "\n",
    "reform_sim = reform_sims[1]\n",
    "reform_name = reform_names[1]\n",
    "df = pd.DataFrame()\n",
    "df[\"household_weight\"] = baseline_sim.calc(\"household_weight\", map_to=\"person\")\n",
    "df[\"household_net_income\"] = np.maximum(0, baseline_sim.calc(\"equiv_household_net_income\", map_to=\"person\"))\n",
    "#change_bin_names = [f\"Decrease more than {interval}%\", f\"Decrease less than {interval}%\", f\"Gain less than {interval}%\", f\"Gain more than {interval}%\"]\n",
    "#change_bin_bands = pd.IntervalIndex.from_tuples([(-np.inf, - interval / 100), (- interval / 100, 0), (0, interval / 100), (interval / 100, np.inf)])\n",
    "\n",
    "decile_names = list(map(str, range(1, 11))) + [\"All\"]\n",
    "'''\n",
    "COLORS = [\n",
    "    \"#004ba0\",  # Dark blue.\n",
    "    \"#63a4ff\",  # Light blue.\n",
    "    \"#ffc046\",  # Light amber.\n",
    "    \"#c56000\",  # Medium amber.\n",
    "]\n",
    "'''\n",
    "\n",
    "df[\"income_abs_change\"] = np.maximum(0, reform_sim.calc(\"equiv_household_net_income\", map_to=\"person\")) - df[\"household_net_income\"]\n",
    "df[\"income_rel_change\"] = df[\"income_abs_change\"] / df[\"household_net_income\"]\n",
    "df[\"income_rel_change_band\"] = pd.cut(df[\"income_rel_change\"], change_bin_bands)\n",
    "df[\"is_disabled_for_ubi\"] = baseline_sim.calc(\"is_disabled_for_ubi\") > 0\n",
    "#df[\"is_sev_disabled_for_ubi\"] = baseline_sim.calc(\"is_severely_disabled_for_ubi\") > 0\n",
    "#df[\"is_enh_disabled_for_ubi\"] = baseline_sim.calc(\"is_enhanced_disabled_for_ubi\") > 0\n",
    "df[\"lone_parent\"] = baseline_sim.calc(\"is_lone_parent\", map_to=\"person\") > 0\n",
    "df[\"lone_senior\"] = baseline_sim.calc(\"is_single_person\", map_to=\"person\") * baseline_sim.calc(\"is_SP_age\") > 0\n",
    "df[\"poverty\"] = baseline_sim.calc(\"in_poverty_bhc\", map_to=\"person\") > 0\n",
    "mdf.add_weighted_quantiles(df, \"household_net_income\", \"household_weight\")\n",
    "\n",
    "def get_distr(df, condition=None):\n",
    "  if condition is not None:\n",
    "    filtered_df = df[condition]\n",
    "  else:\n",
    "    filtered_df = df\n",
    "  grouped_by_outcome = filtered_df.groupby(\"income_rel_change_band\").sum()[\"household_weight\"]\n",
    "  return grouped_by_outcome / grouped_by_outcome.sum()\n",
    "\n",
    "fig = go.Figure()\n",
    "\n",
    "outcomes = []\n",
    "for subset in [df[\"household_net_income_decile\"] == i for i in range(1, 11)] + [None]:\n",
    "  outcomes += [get_distr(df, subset)]\n",
    "\n",
    "outcome_band_shares = np.array(outcomes).transpose()\n",
    "for outcome_band, name, i in zip(outcome_band_shares, change_bin_names, range(N)):\n",
    "  text = [f\"{int(percent * 100)}%\" for percent in outcome_band]\n",
    "  fig.add_trace(go.Bar(text=text, textposition=\"inside\", orientation=\"h\", y=decile_names, x=outcome_band, name=name, marker_color=COLORS[i]))\n",
    "\n",
    "fig.update_traces(marker_line_width=0)\n",
    "fig.update_layout(barmode=\"stack\", yaxis_title=\"Decile\", xaxis_title=\"Distribution of outcomes\", title=reform_name + \" - outcome distribution by decile\", yaxis_type=\"category\", xaxis=dict(tickvals=[0.1 * x for x in range(1, 11)], tickformat=\"%\")),\n",
    "ubi_chart(fig, \"intra_decile_continuous\")\n",
    "fig.show()"
   ]
  },
  {
   "cell_type": "code",
   "execution_count": null,
   "metadata": {
    "cellView": "form",
    "colab": {
     "base_uri": "https://localhost:8080/",
     "height": 817
    },
    "id": "v1H_tf5HGHww",
    "outputId": "8fa69375-6257-49ca-dc75-f4d8c2edb5b3",
    "tags": [
     "hide-input"
    ]
   },
   "outputs": [],
   "source": [
    "#@title\n",
    "import seaborn as sns\n",
    "import matplotlib\n",
    "N = 400\n",
    "COLORS = list(map(lambda rgba_color : matplotlib.colors.to_hex(rgba_color), sns.diverging_palette(220, 20, as_cmap=True)(np.linspace(0, 1, num=N))))[::-1]\n",
    "MIN_PCT_CHANGE = -0.25\n",
    "MAX_PCT_CHANGE = 0.25\n",
    "interval_size = (MAX_PCT_CHANGE - MIN_PCT_CHANGE) / (N - 2)\n",
    "change_bin_bands = pd.IntervalIndex.from_tuples([(-np.inf, MIN_PCT_CHANGE)] + [(MIN_PCT_CHANGE + i * interval_size, MIN_PCT_CHANGE + (i + 1) * interval_size) for i in range(N - 2)] + [(MAX_PCT_CHANGE, np.inf)])\n",
    "change_bin_names = np.array([f\"<{MIN_PCT_CHANGE * 100}%\"] + [f\"{round((MIN_PCT_CHANGE + i * interval_size) * 100)}%\" for i in range(N - 2)] + [f\">{MAX_PCT_CHANGE * 100}%\"])\n",
    "\n",
    "COLORS = COLORS[::-1]\n",
    "change_bin_bands = change_bin_bands[::-1]\n",
    "change_bin_names = change_bin_names[::-1]\n",
    "\n",
    "reform_sim = reform_sims[1]\n",
    "reform_name = reform_names[1]\n",
    "df = pd.DataFrame()\n",
    "df[\"household_weight\"] = baseline_sim.calc(\"household_weight\", map_to=\"person\")\n",
    "df[\"household_net_income\"] = np.maximum(0, baseline_sim.calc(\"equiv_household_net_income\", map_to=\"person\"))\n",
    "#change_bin_names = [f\"Decrease more than {interval}%\", f\"Decrease less than {interval}%\", f\"Gain less than {interval}%\", f\"Gain more than {interval}%\"]\n",
    "#change_bin_bands = pd.IntervalIndex.from_tuples([(-np.inf, - interval / 100), (- interval / 100, 0), (0, interval / 100), (interval / 100, np.inf)])\n",
    "\n",
    "decile_names = list(map(str, range(1, 11))) + [\"All\"]\n",
    "'''\n",
    "COLORS = [\n",
    "    \"#004ba0\",  # Dark blue.\n",
    "    \"#63a4ff\",  # Light blue.\n",
    "    \"#ffc046\",  # Light amber.\n",
    "    \"#c56000\",  # Medium amber.\n",
    "]\n",
    "'''\n",
    "\n",
    "df[\"income_abs_change\"] = np.maximum(0, reform_sim.calc(\"equiv_household_net_income\", map_to=\"person\")) - df[\"household_net_income\"]\n",
    "df[\"income_rel_change\"] = df[\"income_abs_change\"] / df[\"household_net_income\"]\n",
    "df[\"income_rel_change_band\"] = pd.cut(df[\"income_rel_change\"], change_bin_bands)\n",
    "df[\"is_disabled_for_ubi\"] = baseline_sim.calc(\"is_disabled_for_ubi\") > 0\n",
    "df[\"lone_parent\"] = baseline_sim.calc(\"is_lone_parent\", map_to=\"person\") > 0\n",
    "df[\"lone_senior\"] = baseline_sim.calc(\"is_single_person\", map_to=\"person\") * baseline_sim.calc(\"is_SP_age\") > 0\n",
    "df[\"poverty\"] = baseline_sim.calc(\"in_poverty_bhc\", map_to=\"person\") > 0\n",
    "mdf.add_weighted_quantiles(df, \"household_net_income\", \"household_weight\")\n",
    "\n",
    "def get_distr(df, condition=None):\n",
    "  if condition is not None:\n",
    "    filtered_df = df[condition]\n",
    "  else:\n",
    "    filtered_df = df\n",
    "  grouped_by_outcome = filtered_df.groupby(\"income_rel_change_band\").sum()[\"household_weight\"]\n",
    "  return grouped_by_outcome / grouped_by_outcome.sum()\n",
    "\n",
    "fig = go.Figure()\n",
    "\n",
    "outcomes = []\n",
    "for subset in [df[\"household_net_income_decile\"] == i for i in range(1, 11)] + [None]:\n",
    "  outcomes += [get_distr(df, subset)]\n",
    "\n",
    "outcome_band_shares = np.array(outcomes).transpose()\n",
    "for outcome_band, name, i in zip(outcome_band_shares, change_bin_names, range(N)):\n",
    "  labels = np.array([change_bin_names[i]] * 11)\n",
    "  fig.add_trace(go.Bar(showlegend = i in [0, len(change_bin_bands) // 2 - 1, len(change_bin_bands) - 1], customdata=labels, orientation=\"h\", y=decile_names, x=outcome_band, name=name, marker_color=COLORS[i], hovertemplate=[\"Outcome %{customdata}<extra></extra>\"]))\n",
    "\n",
    "fig.update_traces(marker_line_width=0)\n",
    "fig.update_layout(barmode=\"stack\", yaxis_title=\"Decile\", xaxis_title=\"Distribution of outcomes\", title=reform_name + \" - outcome distribution by decile\", yaxis_type=\"category\", xaxis=dict(tickvals=[0.1 * x for x in range(1, 11)], tickformat=\"%\")),\n",
    "ubi_chart(fig, \"intra_decile_discrete\")\n",
    "fig.show()"
   ]
  },
  {
   "cell_type": "markdown",
   "metadata": {
    "id": "m0nA2tn2Gs76"
   },
   "source": [
    "### Intra-group changes"
   ]
  },
  {
   "cell_type": "code",
   "execution_count": null,
   "metadata": {
    "cellView": "form",
    "colab": {
     "base_uri": "https://localhost:8080/",
     "height": 817
    },
    "id": "H5UlEv-qGvuX",
    "outputId": "3d4b6d91-d358-4a1d-9269-21398bf76771",
    "tags": [
     "hide-input"
    ]
   },
   "outputs": [],
   "source": [
    "#@title\n",
    "import seaborn as sns\n",
    "import matplotlib\n",
    "from rdbl import num\n",
    "N = 4\n",
    "MIN_PCT_CHANGE = -0.05\n",
    "MAX_PCT_CHANGE = 0.05\n",
    "pivot = int(MAX_PCT_CHANGE * 100)\n",
    "change_bin_names = [f\"Lose more than {pivot}%\", f\"Lose less than {pivot}%\", f\"Gain less than {pivot}%\", f\"Gain more than {pivot}%\"]\n",
    "\n",
    "COLORS = list(map(lambda rgba_color : matplotlib.colors.to_hex(rgba_color), sns.diverging_palette(220, 20, as_cmap=True)(np.linspace(0, 1, num=N))))[::-1]\n",
    "\n",
    "interval_size = (MAX_PCT_CHANGE - MIN_PCT_CHANGE) / (N - 2)\n",
    "change_bin_bands = pd.IntervalIndex.from_tuples([(-np.inf, MIN_PCT_CHANGE)] + [(MIN_PCT_CHANGE + i * interval_size, MIN_PCT_CHANGE + (i + 1) * interval_size) for i in range(N - 2)] + [(MAX_PCT_CHANGE, np.inf)])\n",
    "\n",
    "COLORS = COLORS[::-1]\n",
    "change_bin_bands = change_bin_bands[::-1]\n",
    "change_bin_names = change_bin_names[::-1]\n",
    "\n",
    "reform_sim = reform_sims[1]\n",
    "reform_name = reform_names[1]\n",
    "df = pd.DataFrame()\n",
    "df[\"household_weight\"] = baseline_sim.calc(\"household_weight\", map_to=\"person\")\n",
    "df[\"household_net_income\"] = np.maximum(0, baseline_sim.calc(\"equiv_household_net_income\", map_to=\"person\"))\n",
    "#change_bin_names = [f\"Decrease more than {interval}%\", f\"Decrease less than {interval}%\", f\"Gain less than {interval}%\", f\"Gain more than {interval}%\"]\n",
    "#change_bin_bands = pd.IntervalIndex.from_tuples([(-np.inf, - interval / 100), (- interval / 100, 0), (0, interval / 100), (interval / 100, np.inf)])\n",
    "\n",
    "decile_names = [\"Single, with children\", \"Single, no children\", \"Couples, no children\", \"Couples, with children\"]\n",
    "'''\n",
    "COLORS = [\n",
    "    \"#004ba0\",  # Dark blue.\n",
    "    \"#63a4ff\",  # Light blue.\n",
    "    \"#ffc046\",  # Light amber.\n",
    "    \"#c56000\",  # Medium amber.\n",
    "]\n",
    "'''\n",
    "\n",
    "df[\"income_abs_change\"] = np.maximum(0, reform_sim.calc(\"equiv_household_net_income\", map_to=\"person\")) - df[\"household_net_income\"]\n",
    "df[\"income_rel_change\"] = df[\"income_abs_change\"] / df[\"household_net_income\"]\n",
    "df[\"income_rel_change_band\"] = pd.cut(df[\"income_rel_change\"], change_bin_bands)\n",
    "\n",
    "single = baseline_sim.calc(\"is_single\", map_to=\"person\")\n",
    "kids = baseline_sim.map_to(baseline_sim.calc(\"is_child\", map_to=\"benunit\"), entity=\"benunit\", target_entity=\"person\")\n",
    "\n",
    "df[\"single_no_kids\"] = single * (kids == 0)\n",
    "df[\"couple_no_kids\"] = (1 - single) * (kids == 0)\n",
    "df[\"single_kids\"] = single * (kids > 0)\n",
    "df[\"couple_kids\"] = (1 - single) * (kids > 0)\n",
    "\n",
    "cols = [\"single_kids\", \"single_no_kids\", \"couple_no_kids\", \"couple_kids\"]\n",
    "mdf.add_weighted_quantiles(df, \"household_net_income\", \"household_weight\")\n",
    "\n",
    "for i in range(len(decile_names)):\n",
    "    total_pop = np.sum(df[cols[i]] * df[\"household_weight\"])\n",
    "    decile_names[i] += f\" ({num(total_pop)})\"\n",
    "\n",
    "def get_distr(df, condition=None):\n",
    "  if condition is not None:\n",
    "    filtered_df = df[condition]\n",
    "  else:\n",
    "    filtered_df = df\n",
    "  grouped_by_outcome = filtered_df.groupby(\"income_rel_change_band\").sum()[\"household_weight\"]\n",
    "  return grouped_by_outcome / grouped_by_outcome.sum()\n",
    "\n",
    "fig = go.Figure()\n",
    "\n",
    "outcomes = []\n",
    "for subset in [df[x] > 0 for x in cols]:\n",
    "  outcomes += [get_distr(df, subset)]\n",
    "\n",
    "outcome_band_shares = np.array(outcomes).transpose()\n",
    "for outcome_band, name, i in zip(outcome_band_shares, change_bin_names, range(N)):\n",
    "  text = [f\"{int(percent * 100)}%\" for percent in outcome_band]\n",
    "  fig.add_trace(go.Bar(text=text, textposition=\"inside\", orientation=\"h\", y=decile_names, x=outcome_band, name=name, marker_color=COLORS[i]))\n",
    "\n",
    "fig.update_traces(marker_line_width=0)\n",
    "fig.update_layout(xaxis=dict(tickvals=[0.1 * x for x in range(1, 11)], tickformat=\"%\"), hovermode=False, barmode=\"stack\", yaxis_title=\"Family composition\", xaxis_title=\"Distribution of outcomes\", title=reform_name + \" - outcome distribution by family composition\", yaxis_type=\"category\"),\n",
    "ubi_chart(fig, \"intra_family_type\")\n",
    "fig.show()"
   ]
  },
  {
   "cell_type": "code",
   "execution_count": null,
   "metadata": {
    "tags": [
     "hide-input"
    ]
   },
   "outputs": [],
   "source": [
    "#@title\n",
    "import seaborn as sns\n",
    "import matplotlib\n",
    "N = 4\n",
    "MIN_PCT_CHANGE = -0.05\n",
    "MAX_PCT_CHANGE = 0.05\n",
    "pivot = int(MAX_PCT_CHANGE * 100)\n",
    "change_bin_names = [f\"Lose more than {pivot}%\", f\"Lose less than {pivot}%\", f\"Gain less than {pivot}%\", f\"Gain more than {pivot}%\"]\n",
    "\n",
    "COLORS = list(map(lambda rgba_color : matplotlib.colors.to_hex(rgba_color), sns.diverging_palette(220, 20, as_cmap=True)(np.linspace(0, 1, num=N))))[::-1]\n",
    "\n",
    "interval_size = (MAX_PCT_CHANGE - MIN_PCT_CHANGE) / (N - 2)\n",
    "change_bin_bands = pd.IntervalIndex.from_tuples([(-np.inf, MIN_PCT_CHANGE)] + [(MIN_PCT_CHANGE + i * interval_size, MIN_PCT_CHANGE + (i + 1) * interval_size) for i in range(N - 2)] + [(MAX_PCT_CHANGE, np.inf)])\n",
    "\n",
    "COLORS = COLORS[::-1]\n",
    "change_bin_bands = change_bin_bands[::-1]\n",
    "change_bin_names = change_bin_names[::-1]\n",
    "\n",
    "reform_sim = reform_sims[1]\n",
    "reform_name = reform_names[1]\n",
    "df = pd.DataFrame()\n",
    "df[\"household_weight\"] = baseline_sim.calc(\"household_weight\", map_to=\"person\")\n",
    "df[\"household_net_income\"] = np.maximum(0, baseline_sim.calc(\"equiv_household_net_income\", map_to=\"person\"))\n",
    "#change_bin_names = [f\"Decrease more than {interval}%\", f\"Decrease less than {interval}%\", f\"Gain less than {interval}%\", f\"Gain more than {interval}%\"]\n",
    "#change_bin_bands = pd.IntervalIndex.from_tuples([(-np.inf, - interval / 100), (- interval / 100, 0), (0, interval / 100), (interval / 100, np.inf)])\n",
    "\n",
    "ages = [10, 20, 30, 40, 50, 60, 70, 80, 120]\n",
    "\n",
    "decile_names = [\"Under 10\"] + [str(ages[i]) + \" - \" + str(ages[i + 1]-1) for i in range(7)] + [\"80 or over\"]\n",
    "'''\n",
    "COLORS = [\n",
    "    \"#004ba0\",  # Dark blue.\n",
    "    \"#63a4ff\",  # Light blue.\n",
    "    \"#ffc046\",  # Light amber.\n",
    "    \"#c56000\",  # Medium amber.\n",
    "]\n",
    "'''\n",
    "\n",
    "df[\"income_abs_change\"] = np.maximum(0, reform_sim.calc(\"equiv_household_net_income\", map_to=\"person\")) - df[\"household_net_income\"]\n",
    "df[\"income_rel_change\"] = df[\"income_abs_change\"] / df[\"household_net_income\"]\n",
    "df[\"income_rel_change_band\"] = pd.cut(df[\"income_rel_change\"], change_bin_bands)\n",
    "\n",
    "age = baseline_sim.calc(\"age\")\n",
    "\n",
    "df[\"min\"] = age < 10\n",
    "df[\"max\"] = age > 79\n",
    "\n",
    "names = [\"min\"]\n",
    "\n",
    "for i in range(len(ages) - 1):\n",
    "    names += [f\"{ages[i]}\"]\n",
    "    df[f\"{ages[i]}\"] = (age >= ages[i]) * (age < ages[i + 1])\n",
    "mdf.add_weighted_quantiles(df, \"household_net_income\", \"household_weight\")\n",
    "\n",
    "names += [\"max\"]\n",
    "\n",
    "\n",
    "for i in range(len(decile_names)):\n",
    "    total_pop = np.sum(df[names[i]] * df[\"household_weight\"])\n",
    "    decile_names[i] += f\" ({num(total_pop)})\"\n",
    "\n",
    "def get_distr(df, condition=None):\n",
    "  if condition is not None:\n",
    "    filtered_df = df[condition]\n",
    "  else:\n",
    "    filtered_df = df\n",
    "  grouped_by_outcome = filtered_df.groupby(\"income_rel_change_band\").sum()[\"household_weight\"]\n",
    "  return grouped_by_outcome / grouped_by_outcome.sum()\n",
    "\n",
    "fig = go.Figure()\n",
    "\n",
    "outcomes = []\n",
    "for subset in [df[x] > 0 for x in names]:\n",
    "  outcomes += [get_distr(df, subset)]\n",
    "\n",
    "outcome_band_shares = np.array(outcomes).transpose()\n",
    "for outcome_band, name, i in zip(outcome_band_shares, change_bin_names, range(N)):\n",
    "  text = [f\"{int(percent * 100)}%\" for percent in outcome_band]\n",
    "  fig.add_trace(go.Bar(text=text, textposition=\"inside\", orientation=\"h\", y=decile_names, x=outcome_band, name=name, marker_color=COLORS[i]))\n",
    "\n",
    "fig.update_traces(marker_line_width=0)\n",
    "fig.update_layout(xaxis=dict(tickvals=[0.1 * x for x in range(1, 11)], tickformat=\"%\"), hovermode=False, barmode=\"stack\", yaxis_title=\"Age group\", xaxis_title=\"Distribution of outcomes\", title=reform_name + \" - outcome distribution by age\", yaxis_type=\"category\"),\n",
    "ubi_chart(fig, \"intra_age\")\n",
    "fig.show()"
   ]
  },
  {
   "cell_type": "markdown",
   "metadata": {
    "id": "PZHjEZ-tRj5J"
   },
   "source": [
    "### Poverty changes by group\n",
    "\n",
    "Below we show the changes to two metrics of poverty. We define poverty in line with official UK statistics, as whether the equivalised household (before housing costs) income of a person falls below a threshold (£253 per week in this case). This gives us the metrics of the poverty rate, which is the number of individuals whose household fulfils this requirement, and the poverty gap, which is minimum spending necessary to eliminate poverty."
   ]
  },
  {
   "cell_type": "code",
   "execution_count": null,
   "metadata": {
    "tags": [
     "hide-input"
    ]
   },
   "outputs": [],
   "source": [
    "# @title\n",
    "from rdbl import gbp\n",
    "\n",
    "\n",
    "def poverty_gap(sim, weight):\n",
    "    return np.sum(\n",
    "        sim.calc(\"poverty_gap_bhc\", map_to=\"household\")\n",
    "        * sim.calc(\"household_weight\", map_to=\"household\")\n",
    "        * weight\n",
    "    )\n",
    "\n",
    "\n",
    "def poverty_rate(sim, weight):\n",
    "    return np.average(\n",
    "        sim.calc(\"in_poverty_bhc\", map_to=\"person\") > 0,\n",
    "        weights=sim.calc(\"household_weight\", map_to=\"person\") * weight,\n",
    "    )\n",
    "\n",
    "person, household, benunit = baseline_sim.model.populations.values()\n",
    "\n",
    "weights = [\n",
    "    None,\n",
    "    \"is_WA_adult\",\n",
    "    \"is_child\",\n",
    "    \"is_SP_age\",\n",
    "    \"tax_credits\",\n",
    "    \"is_disabled_for_ubi\",\n",
    "    \"is_lone_parent\",\n",
    "]\n",
    "\n",
    "fig = go.Figure()\n",
    "\n",
    "group_names = [\n",
    "    \"All\",\n",
    "    \"Working-age adults\",\n",
    "    \"Children\",\n",
    "    \"Pension-age adults\",\n",
    "    \"People receiving Tax Credits\",\n",
    "    \"Disabled\",\n",
    "    \"Lone parent families\",\n",
    "]\n",
    "for reform_sim, reform_name in zip(reform_sims, reform_names):\n",
    "    poverty_gap_reductions = []\n",
    "    poverty_rate_reductions = []\n",
    "    for weight in weights:\n",
    "        if weight == \"tax_credits\":\n",
    "            weight_arr = (\n",
    "                household.sum(baseline_sim.calc(\"working_tax_credit\", map_to=\"person\"))\n",
    "                + household.sum(baseline_sim.calc(\"child_tax_credit\", map_to=\"person\"))\n",
    "                > 0\n",
    "            )\n",
    "            weight_arr_p = (\n",
    "                baseline_sim.calc(\n",
    "                    \"working_tax_credit_reported\", map_to=\"person\"\n",
    "                )\n",
    "                + baseline_sim.calc(\n",
    "                    \"child_tax_credit_reported\", map_to=\"person\"\n",
    "                )\n",
    "                > 0\n",
    "            )\n",
    "        elif weight == \"is_lone_parent\":\n",
    "            weight_arr = (\n",
    "                household.sum(baseline_sim.calc(\"is_lone_parent\", map_to=\"person\")) / household.nb_persons()\n",
    "                > 0\n",
    "            )\n",
    "            weight_arr_p = (\n",
    "                baseline_sim.calc(\n",
    "                    \"is_lone_parent\", map_to=\"person\"\n",
    "                )\n",
    "                > 0\n",
    "            )\n",
    "            \n",
    "        elif weight is None:\n",
    "            weight_arr = True\n",
    "            weight_arr_p = True\n",
    "        else:\n",
    "            weight_arr = baseline_sim.calc(weight, map_to=\"household\") > 0\n",
    "            weight_arr_p = baseline_sim.calc(weight, map_to=\"person\") > 0\n",
    "        baseline_gap = poverty_gap(baseline_sim, weight_arr)\n",
    "        reformed_gap = poverty_gap(reform_sim, weight_arr)\n",
    "        baseline_rate = poverty_rate(baseline_sim, weight_arr_p)\n",
    "        reformed_rate = poverty_rate(reform_sim, weight_arr_p)\n",
    "        # print(f\"{weight}: base = {gbp(baseline_gap)}, reformed = {gbp(reformed_gap)}\")\n",
    "        # print(f\"{weight}: base = {round(baseline_rate * 100)}%, reformed = {round(reformed_rate * 100)}%\")\n",
    "        gap_reduction = (reformed_gap - baseline_gap) / baseline_gap\n",
    "        rate_reduction = (reformed_rate - baseline_rate) / baseline_rate\n",
    "        poverty_gap_reductions += [gap_reduction]\n",
    "        poverty_rate_reductions += [rate_reduction]\n",
    "    if reform_name == \"Reform 2\":\n",
    "        visible = True\n",
    "    else:\n",
    "        visible = \"legendonly\"\n",
    "    fig.add_trace(\n",
    "        go.Bar(\n",
    "            x=group_names,\n",
    "            y=poverty_gap_reductions,\n",
    "            name=reform_name + \" poverty gap change\",\n",
    "            visible=visible,\n",
    "        )\n",
    "    )\n",
    "    fig.add_trace(\n",
    "        go.Bar(\n",
    "            x=group_names,\n",
    "            y=poverty_rate_reductions,\n",
    "            name=reform_name + \" poverty rate change\",\n",
    "            visible=visible,\n",
    "        )\n",
    "    )\n",
    "\n",
    "fig.update_layout(\n",
    "    title=\"Poverty gap reductions, BHC\",\n",
    "    xaxis_title=\"Group\",\n",
    "    yaxis_title=\"BHC Poverty gap change\",\n",
    "    yaxis_tickformat=\"%\",\n",
    ")\n",
    "\n",
    "ubi_chart(fig, \"poverty_changes\")\n",
    "fig.show()"
   ]
  },
  {
   "cell_type": "markdown",
   "metadata": {
    "id": "cdqmZjMdyS-C"
   },
   "source": [
    "## Marginal tax rates\n",
    "\n",
    "The marginal tax rates (calculated as the proportion of a hypothetical increase in earnings which would not increase a person's household's disposable income) for individuals are determined by the tax rates and benefit phase-out rates.\n",
    "\n",
    "### Changes to eligible marginal tax schedules by claimant type\n",
    "\n",
    "We examine four hypothetical scenarios:\n",
    "\n",
    "1. Single person living alone\n",
    "2. Couple with two children\n",
    "3. Lone parent with two children\n",
    "4. Pensioner couple\n",
    "\n",
    "In each, we show the baseline and reformed marginal tax rate schedules defined by UK tax and benefits."
   ]
  },
  {
   "cell_type": "code",
   "execution_count": null,
   "metadata": {
    "cellView": "form",
    "colab": {
     "base_uri": "https://localhost:8080/",
     "height": 817
    },
    "id": "v1r5FdeYjQiy",
    "outputId": "329d378f-ca0d-4c36-ef96-644bec097ece",
    "tags": [
     "hide-input"
    ]
   },
   "outputs": [],
   "source": [
    "#@title\n",
    "from openfisca_uk import IndividualSim\n",
    "\n",
    "def single_person(sim):\n",
    "  sim.add_person(name=\"head\", age=23, is_benunit_head=True, is_household_head=True)\n",
    "  sim.add_benunit(adults=[\"head\"], universal_credit_reported=True)\n",
    "  sim.add_household(adults=[\"head\"])\n",
    "  return sim\n",
    "\n",
    "def couple_kids(sim):\n",
    "  sim.add_person(name=\"head\", age=23, is_benunit_head=True, is_household_head=True)\n",
    "  sim.add_person(name=\"secondary\", age=22)\n",
    "  sim.add_person(name=\"child\", age=6),\n",
    "  sim.add_person(name=\"child2\", age=4),\n",
    "  sim.add_benunit(adults=[\"head\", \"secondary\"], children=[\"child\", \"child2\"], universal_credit_reported=True)\n",
    "  sim.add_household(adults=[\"head\", \"secondary\"], children=[\"child\", \"child2\"])\n",
    "  return sim\n",
    "\n",
    "\n",
    "def lone_parent(sim):\n",
    "  sim.add_person(name=\"head\", age=23, is_benunit_head=True, is_household_head=True)\n",
    "  sim.add_person(name=\"child\", age=6),\n",
    "  sim.add_person(name=\"child2\", age=4),\n",
    "  sim.add_benunit(adults=[\"head\"], children=[\"child\", \"child2\"], universal_credit_reported=True)\n",
    "  sim.add_household(adults=[\"head\"], children=[\"child\", \"child2\"])\n",
    "  return sim\n",
    "\n",
    "def lone_pensioner(sim):\n",
    "  sim.add_person(name=\"head\", age=68, is_benunit_head=True, is_household_head=True)\n",
    "  sim.add_benunit(adults=[\"head\"], pension_credit_reported=True)\n",
    "  sim.add_household(adults=[\"head\"])\n",
    "  return sim\n",
    "\n",
    "archetypes = [single_person, couple_kids, lone_parent, lone_pensioner]\n",
    "archetype_names = [\"Single\", \"Couple with children\", \"Lone parent\", \"Lone pensioner\"]\n",
    "\n",
    "fig = go.Figure()\n",
    "\n",
    "default_shown = \"Couple with children\"\n",
    "\n",
    "for archetype, name in zip(archetypes, archetype_names):\n",
    "  baseline = IndividualSim()\n",
    "  ubi = IndividualSim(reforms[0])\n",
    "  baseline = archetype(baseline)\n",
    "  ubi = archetype(ubi)\n",
    "  baseline.vary(\"earnings\", min=0, max=200000, step=100)\n",
    "  baseline.vary(\"hours\", min=0, max=100, step=100 / 2000)\n",
    "  ubi.vary(\"earnings\", min=0, max=200000, step=100)\n",
    "  ubi.vary(\"hours\", min=0, max=100, step=100 / 2000)\n",
    "  earnings = baseline.calc(\"earnings\", target=\"head\")\n",
    "  mtr_b = baseline.calc_mtr(target=\"head\")\n",
    "  mtr_r = ubi.calc_mtr(target=\"head\")\n",
    "  if name == default_shown:\n",
    "    visible = True\n",
    "  else:\n",
    "    visible = \"legendonly\"\n",
    "  fig.add_trace(go.Scatter(x=earnings, y=mtr_b, name=name + \" - baseline\", visible=visible))\n",
    "  fig.add_trace(go.Scatter(x=earnings, y=mtr_r, name=name + \" - reform\", visible=visible))\n",
    "  fig.add_annotation(x=12500, y=0.78, text=\"1\")\n",
    "  fig.add_annotation(x=50000, y=0.6, text=\"2\")\n",
    "  fig.add_annotation(x=100000, y=0.62, text=\"3\")\n",
    "\n",
    "\n",
    "fig.update_layout(title=\"Changes to marginal tax rates\", yaxis_tickformat=\"%\", xaxis_tickprefix=\"£\", xaxis_title=\"Earnings\", yaxis_title=\"Marginal tax rate\")\n",
    "ubi_chart(fig, \"mtr_policy\")\n",
    "fig.show()"
   ]
  },
  {
   "cell_type": "markdown",
   "metadata": {},
   "source": [
    "## Actual marginal tax rates\n",
    "\n",
    "However, in reality marginal tax rates are often different due to non-receipt of eligible benefits.\n",
    "\n",
    "The UK contains significant diversity in each person's receipt of targeted benefits and assessed taxable income. The first graph below shows the rolling average of effective marginal tax rates by income, grouped by family archetype. The graph broadly shows the high marginal tax rate schedules imposed on working families with children, as well as the tax increase on earnings between £100k-125k due to withdrawal of the personal allowance.\n"
   ]
  },
  {
   "cell_type": "code",
   "execution_count": null,
   "metadata": {
    "cellView": "form",
    "id": "7Yjxiwlx2nwF",
    "tags": [
     "hide-input"
    ]
   },
   "outputs": [],
   "source": [
    "#@title\n",
    "mtr_sim = PopulationSim()\n",
    "mtr = mtr_sim.calc_mtr()\n",
    "\n",
    "#@title\n",
    "taxable_income = mtr_sim.calc(\"taxable_income\")\n",
    "\n",
    "group_names = [\n",
    "               \"Single, no children\",\n",
    "               \"Couple, no children\",\n",
    "               \"Single, with children\",\n",
    "               \"Couple, with children\",\n",
    "]\n",
    "\n",
    "single = mtr_sim.calc(\"is_single\", map_to=\"person\") > 0\n",
    "couple = single == 0\n",
    "children = mtr_sim.map_to(mtr_sim.calc(\"is_child\", map_to=\"benunit\"), entity=\"benunit\", target_entity=\"person\")\n",
    "\n",
    "filters = [\n",
    "           single * (children == 0),\n",
    "           couple * (children == 0),\n",
    "           single * (children > 0),\n",
    "           couple * (children > 0),\n",
    "]\n",
    "\n",
    "mtr_groups = []\n",
    "\n",
    "is_adult = mtr_sim.calc(\"is_adult\")\n",
    "\n",
    "def round_(x, to_nearest=5000):\n",
    "  return to_nearest * (x // to_nearest)\n",
    "\n",
    "weight = mtr_sim.calc(\"adult_weight\")\n",
    "for filter_var in filters:\n",
    "  subset = pd.DataFrame()\n",
    "  condition = is_adult * filter_var > 0\n",
    "  subset[\"income\"] = taxable_income[condition]\n",
    "  subset[\"mtr\"] = mtr[condition]\n",
    "  subset[\"weight\"] = weight[condition]\n",
    "  subset[\"income\"] = subset[\"income\"].apply(round_)\n",
    "  subset = subset[subset[\"income\"] < 150000]\n",
    "  grouped_subset = subset.groupby(\"income\").mean()\n",
    "  grouped_subset = grouped_subset[subset.groupby(\"income\").sum()[\"weight\"] > 10000]\n",
    "  mtr_groups += [grouped_subset]\n",
    "\n",
    "#@title\n",
    "fig = go.Figure()\n",
    "\n",
    "for group, name in zip(mtr_groups, group_names):\n",
    "  fig.add_trace(go.Scatter(x=group.index, y=group[\"mtr\"], mode=\"lines\", name=name))\n",
    "\n",
    "fig.update_layout(title=\"Current effective marginal tax rates\", xaxis_title=\"Taxable income\", yaxis_title=\"Effective marginal tax rate\", yaxis_tickformat=\"%\")\n",
    "ubi_chart(fig, \"mtr_actual\")\n",
    "fig.show()"
   ]
  },
  {
   "cell_type": "markdown",
   "metadata": {
    "id": "CFd--4Q5Qsqa"
   },
   "source": [
    "This graph shows the distribution of marginal tax rates, reflecting the fact that many face no marginal tax rates, a substantial number face between the basic and higher income tax rates alone, and a smaller but still significant minority pay between 60% and 100% effective marginal tax rates."
   ]
  },
  {
   "cell_type": "code",
   "execution_count": null,
   "metadata": {
    "colab": {
     "base_uri": "https://localhost:8080/",
     "height": 817
    },
    "id": "hmVQUa3kAhGJ",
    "outputId": "2a5dc7c5-e19a-4dd4-ee33-132087c4782a",
    "tags": [
     "hide-input"
    ]
   },
   "outputs": [],
   "source": [
    "#@title\n",
    "mtr_df = pd.DataFrame()\n",
    "mtr_df[\"income\"] = mtr_sim.calc(\"taxable_income\")\n",
    "mtr_df[\"mtr\"] = mtr\n",
    "mtr_df[\"weight\"] = mtr_sim.calc(\"household_weight\", map_to=\"person\")\n",
    "mtr_df = mtr_df[mtr_sim.calc(\"is_adult\") > 0]\n",
    "\n",
    "import plotly.figure_factory as ff\n",
    "\n",
    "fig = ff.create_distplot([mtr_df[\"mtr\"][np.isfinite(mtr_df[\"mtr\"])]], [\"MTR\"], show_hist=True, show_rug=False, bin_size=0.01)\n",
    "fig.update_layout(title=\"Current effective marginal tax rates\", xaxis_title=\"Effective marginal tax rate\", yaxis_title=\"Relative frequency\", xaxis_range=[0, 1], xaxis_tickformat=\"%\", showlegend=False)\n",
    "ubi_chart(fig, \"mtr_hist\")\n",
    "fig.show()"
   ]
  },
  {
   "cell_type": "code",
   "execution_count": null,
   "metadata": {},
   "outputs": [],
   "source": [
    "names = [\"Less than 20%\", \"21% to 40%\", \"41% to 60%\", \"61% to 80%\", \"81% and over\"]\n",
    "bands = pd.IntervalIndex.from_tuples([(-np.inf, 0.2), (0.2, 0.4), (0.4, 0.6), (0.6, 0.8), (0.8, np.inf)])\n",
    "mtr_df[\"Marginal tax rate\"] = pd.cut(mtr_df[\"mtr\"], bands, labels=names).map(dict(zip(bands, names)))\n",
    "grouped_df = mtr_df.groupby(\"Marginal tax rate\").sum().reset_index()\n",
    "\n",
    "grouped_df[\"Population\"] = grouped_df[\"weight\"].apply(num)\n",
    "\n",
    "grouped_df = grouped_df.set_index(\"Marginal tax rate\")\n",
    "\n",
    "output = grouped_df[grouped_df.columns[[3]]]\n",
    "output.transpose()"
   ]
  }
 ],
 "metadata": {
  "celltoolbar": "Tags",
  "colab": {
   "collapsed_sections": [],
   "name": "UK UBI Notebook.ipynb",
   "provenance": [],
   "toc_visible": true
  },
  "kernelspec": {
   "display_name": "Python 3",
   "language": "python",
   "name": "python3"
  },
  "language_info": {
   "codemirror_mode": {
    "name": "ipython",
    "version": 3
   },
   "file_extension": ".py",
   "mimetype": "text/x-python",
   "name": "python",
   "nbconvert_exporter": "python",
   "pygments_lexer": "ipython3",
   "version": "3.7.9"
  }
 },
 "nbformat": 4,
 "nbformat_minor": 4
}
