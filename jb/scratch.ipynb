{
 "cells": [
  {
   "cell_type": "code",
   "execution_count": 1,
   "id": "innovative-fraction",
   "metadata": {},
   "outputs": [],
   "source": [
    "import os\n",
    "if \"py\" not in os.listdir(\".\"):\n",
    "    os.chdir(\"..\")\n",
    "    \n",
    "%config Completer.use_jedi = False"
   ]
  },
  {
   "cell_type": "code",
   "execution_count": 2,
   "id": "freelance-flush",
   "metadata": {},
   "outputs": [],
   "source": [
    "import microdf as mdf\n",
    "import numpy as np\n",
    "import openfisca_uk as o\n",
    "import pandas as pd\n",
    "from openfisca_uk import IndividualSim, PopulationSim\n",
    "from openfisca_uk.reforms.modelling import reported_benefits\n",
    "from py.calc_ubi import ubi_reform\n",
    "\n",
    "REGIONS = [\n",
    "    \"NORTH_EAST\",\n",
    "    \"NORTH_WEST\",\n",
    "    \"YORKSHIRE\",\n",
    "    \"EAST_MIDLANDS\",\n",
    "    \"WEST_MIDLANDS\",\n",
    "    \"EAST_OF_ENGLAND\",\n",
    "    \"LONDON\",\n",
    "    \"SOUTH_EAST\",\n",
    "    \"SOUTH_WEST\",\n",
    "    \"WALES\",\n",
    "    \"SCOTLAND\",\n",
    "    \"NORTHERN_IRELAND\",\n",
    "]\n",
    "\n",
    "region_map = dict(zip(range(len(REGIONS)), REGIONS))\n",
    "\n",
    "optimal_params = pd.read_csv(\"optimal_params.csv\")  # Up a folder.\n",
    "\n",
    "\n",
    "def reform(i):\n",
    "    row = optimal_params.iloc[i].round()\n",
    "    return ubi_reform(\n",
    "        adult=row.adult,\n",
    "        child=row.child,\n",
    "        senior=row.senior,\n",
    "        dis_base=row.dis_base,\n",
    "        geo=row[REGIONS],\n",
    "    )\n",
    "\n",
    "\n",
    "reforms = [reform(i) for i in range(3)]\n",
    "\n",
    "baseline_sim = PopulationSim(reported_benefits)\n",
    "reform_sims = [PopulationSim(reported_benefits, reform) for reform in reforms]\n",
    "\n",
    "REFORM_NAMES = [\"1: Foundational\", \"2: Disability\", \"3: Disability + geo\"]\n",
    "\n",
    "BASELINE_PERSON_COLS = [\n",
    "    \"household_weight\",\n",
    "    \"age\",\n",
    "    \"region\",\n",
    "    \"is_disabled_for_ubi\",\n",
    "]\n",
    "\n",
    "# Extract these for baseline too.\n",
    "REFORM_PERSON_COLS = [\"household_net_income\", \"in_poverty_bhc\", \"in_deep_poverty_bhc\"]\n",
    "\n",
    "BASELINE_HH_COLS = [\n",
    "    \"household_weight\",\n",
    "    \"poverty_gap_bhc\",\n",
    "    \"poverty_gap_ahc\",\n",
    "    \"people_in_household\",\n",
    "]\n",
    "\n",
    "# Extract these for baseline too.\n",
    "REFORM_HH_COLS = [\n",
    "    \"household_net_income\",\n",
    "    \"equiv_household_net_income\",\n",
    "    \"poverty_gap_bhc\",\n",
    "    \"poverty_gap_ahc\",\n",
    "]\n",
    "\n",
    "p_base = mdf.MicroDataFrame(\n",
    "    baseline_sim.df(BASELINE_PERSON_COLS + REFORM_PERSON_COLS, map_to=\"person\"),\n",
    "    weights=\"household_weight\",\n",
    ")\n",
    "p_base.rename(\n",
    "    dict(zip(REFORM_PERSON_COLS, [i + \"_base\" for i in REFORM_PERSON_COLS])),\n",
    "    axis=1,\n",
    "    inplace=True,\n",
    ")\n",
    "\n",
    "hh_base = mdf.MicroDataFrame(\n",
    "    baseline_sim.df(BASELINE_HH_COLS + REFORM_HH_COLS, map_to=\"household\"),\n",
    "    weights=\"household_weight\",\n",
    ")\n",
    "hh_base.rename(\n",
    "    dict(zip(REFORM_HH_COLS, [i + \"_base\" for i in REFORM_HH_COLS])),\n",
    "    axis=1,\n",
    "    inplace=True,\n",
    ")\n",
    "hh_base[\"person_weight\"] = hh_base.household_weight * hh_base.people_in_household\n",
    "\n",
    "# Change weight column to represent people for decile groups.\n",
    "hh_base.set_weights(hh_base.person_weight)\n",
    "hh_base[\"decile\"] = np.ceil(hh_base.equiv_household_net_income_base.rank(pct=True) * 10)\n",
    "\n",
    "# Change weight back to household weight for correct calculation of totals.\n",
    "hh_base.set_weights(hh_base.household_weight)\n",
    "\n",
    "\n",
    "def reform_p(i):\n",
    "    p = reform_sims[i].df(REFORM_PERSON_COLS, map_to=\"person\")\n",
    "    p[\"reform\"] = REFORM_NAMES[i]\n",
    "    return mdf.concat([p_base, p], axis=1)\n",
    "\n",
    "\n",
    "def reform_hh(i):\n",
    "    hh = reform_sims[i].df(REFORM_HH_COLS, map_to=\"household\")\n",
    "    hh[\"reform\"] = REFORM_NAMES[i]\n",
    "    return mdf.concat([hh_base, hh], axis=1)"
   ]
  },
  {
   "cell_type": "code",
   "execution_count": 3,
   "id": "asian-scottish",
   "metadata": {},
   "outputs": [
    {
     "data": {
      "text/plain": [
       "27828788.0"
      ]
     },
     "execution_count": 3,
     "metadata": {},
     "output_type": "execute_result"
    }
   ],
   "source": [
    "pd.Series(hh_base.household_weight).sum()"
   ]
  },
  {
   "cell_type": "code",
   "execution_count": 8,
   "id": "requested-damages",
   "metadata": {},
   "outputs": [
    {
     "ename": "NameError",
     "evalue": "name 'h' is not defined",
     "output_type": "error",
     "traceback": [
      "\u001b[0;31m---------------------------------------------------------------------------\u001b[0m",
      "\u001b[0;31mNameError\u001b[0m                                 Traceback (most recent call last)",
      "\u001b[0;32m<ipython-input-8-7e856df4a31f>\u001b[0m in \u001b[0;36m<module>\u001b[0;34m\u001b[0m\n\u001b[1;32m      1\u001b[0m decile = (\n\u001b[1;32m      2\u001b[0m         \u001b[0;31m# Remove non-positive income, for whom income change is unhelpful.\u001b[0m\u001b[0;34m\u001b[0m\u001b[0;34m\u001b[0m\u001b[0;34m\u001b[0m\u001b[0m\n\u001b[0;32m----> 3\u001b[0;31m         \u001b[0mh\u001b[0m\u001b[0;34m[\u001b[0m\u001b[0mh\u001b[0m\u001b[0;34m.\u001b[0m\u001b[0mhousehold_net_income_base\u001b[0m \u001b[0;34m>\u001b[0m \u001b[0;36m0\u001b[0m\u001b[0;34m]\u001b[0m\u001b[0;34m\u001b[0m\u001b[0;34m\u001b[0m\u001b[0m\n\u001b[0m\u001b[1;32m      4\u001b[0m         .groupby([\"reform\", \"decile\"])[\n\u001b[1;32m      5\u001b[0m             [\n",
      "\u001b[0;31mNameError\u001b[0m: name 'h' is not defined"
     ]
    }
   ],
   "source": [
    "decile = (\n",
    "        # Remove non-positive income, for whom income change is unhelpful.\n",
    "        h[h.household_net_income_base > 0]\n",
    "        .groupby([\"reform\", \"decile\"])[\n",
    "            [\n",
    "                \"household_net_income_base\",\n",
    "                \"household_net_income\",\n",
    "                \"household_weight\",\n",
    "            ]\n",
    "        ]\n",
    "        .sum()\n",
    "        .reset_index()\n",
    "    )\n",
    "decile[\"chg\"] = (\n",
    "    decile.household_net_income - decile.household_net_income_base\n",
    ")\n",
    "decile[\"chg_per_hh\"] = decile.chg / decile.household_weight\n",
    "decile[\"pc\"] = decile.chg / decile.household_net_income_base"
   ]
  },
  {
   "cell_type": "code",
   "execution_count": 5,
   "id": "organizational-suggestion",
   "metadata": {},
   "outputs": [
    {
     "data": {
      "text/plain": [
       "decile\n",
       "1.0     6544922.0\n",
       "2.0     6549727.0\n",
       "3.0     6544810.0\n",
       "4.0     6546580.0\n",
       "5.0     6547964.0\n",
       "6.0     6552148.0\n",
       "7.0     6546026.0\n",
       "8.0     6548129.0\n",
       "9.0     6541254.0\n",
       "10.0    6556995.0\n",
       "Name: person_weight, dtype: float32"
      ]
     },
     "execution_count": 5,
     "metadata": {},
     "output_type": "execute_result"
    }
   ],
   "source": [
    "pd.DataFrame(hh_base).groupby(\"decile\").person_weight.sum()"
   ]
  },
  {
   "cell_type": "code",
   "execution_count": 6,
   "id": "administrative-necklace",
   "metadata": {},
   "outputs": [
    {
     "data": {
      "text/plain": [
       "0        False\n",
       "1        False\n",
       "2         True\n",
       "3        False\n",
       "4        False\n",
       "         ...  \n",
       "19164    False\n",
       "19165    False\n",
       "19166    False\n",
       "19167    False\n",
       "19168    False\n",
       "Name: equiv_household_net_income_base, Length: 19169, dtype: bool"
      ]
     },
     "execution_count": 6,
     "metadata": {},
     "output_type": "execute_result"
    }
   ],
   "source": [
    "hh_base.equiv_household_net_income_base < (295 * 52)"
   ]
  },
  {
   "cell_type": "code",
   "execution_count": 7,
   "id": "convinced-terrain",
   "metadata": {},
   "outputs": [
    {
     "ename": "AttributeError",
     "evalue": "'MicroDataFrame' object has no attribute 'in_poverty_bhc'",
     "output_type": "error",
     "traceback": [
      "\u001b[0;31m---------------------------------------------------------------------------\u001b[0m",
      "\u001b[0;31mAttributeError\u001b[0m                            Traceback (most recent call last)",
      "\u001b[0;32m<ipython-input-7-32a83f6bb7ea>\u001b[0m in \u001b[0;36m<module>\u001b[0;34m\u001b[0m\n\u001b[0;32m----> 1\u001b[0;31m \u001b[0;34m(\u001b[0m\u001b[0;34m(\u001b[0m\u001b[0mhh_base\u001b[0m\u001b[0;34m.\u001b[0m\u001b[0mequiv_household_net_income_base\u001b[0m \u001b[0;34m<\u001b[0m \u001b[0;34m(\u001b[0m\u001b[0;36m295\u001b[0m \u001b[0;34m*\u001b[0m \u001b[0;36m52\u001b[0m\u001b[0;34m)\u001b[0m\u001b[0;34m)\u001b[0m \u001b[0;34m!=\u001b[0m \u001b[0mhh_base\u001b[0m\u001b[0;34m.\u001b[0m\u001b[0min_poverty_bhc\u001b[0m\u001b[0;34m)\u001b[0m\u001b[0;34m.\u001b[0m\u001b[0mmean\u001b[0m\u001b[0;34m(\u001b[0m\u001b[0;34m)\u001b[0m\u001b[0;34m\u001b[0m\u001b[0;34m\u001b[0m\u001b[0m\n\u001b[0m",
      "\u001b[0;32m~/anaconda3/lib/python3.7/site-packages/pandas/core/generic.py\u001b[0m in \u001b[0;36m__getattr__\u001b[0;34m(self, name)\u001b[0m\n\u001b[1;32m   5137\u001b[0m             \u001b[0;32mif\u001b[0m \u001b[0mself\u001b[0m\u001b[0;34m.\u001b[0m\u001b[0m_info_axis\u001b[0m\u001b[0;34m.\u001b[0m\u001b[0m_can_hold_identifiers_and_holds_name\u001b[0m\u001b[0;34m(\u001b[0m\u001b[0mname\u001b[0m\u001b[0;34m)\u001b[0m\u001b[0;34m:\u001b[0m\u001b[0;34m\u001b[0m\u001b[0;34m\u001b[0m\u001b[0m\n\u001b[1;32m   5138\u001b[0m                 \u001b[0;32mreturn\u001b[0m \u001b[0mself\u001b[0m\u001b[0;34m[\u001b[0m\u001b[0mname\u001b[0m\u001b[0;34m]\u001b[0m\u001b[0;34m\u001b[0m\u001b[0;34m\u001b[0m\u001b[0m\n\u001b[0;32m-> 5139\u001b[0;31m             \u001b[0;32mreturn\u001b[0m \u001b[0mobject\u001b[0m\u001b[0;34m.\u001b[0m\u001b[0m__getattribute__\u001b[0m\u001b[0;34m(\u001b[0m\u001b[0mself\u001b[0m\u001b[0;34m,\u001b[0m \u001b[0mname\u001b[0m\u001b[0;34m)\u001b[0m\u001b[0;34m\u001b[0m\u001b[0;34m\u001b[0m\u001b[0m\n\u001b[0m\u001b[1;32m   5140\u001b[0m \u001b[0;34m\u001b[0m\u001b[0m\n\u001b[1;32m   5141\u001b[0m     \u001b[0;32mdef\u001b[0m \u001b[0m__setattr__\u001b[0m\u001b[0;34m(\u001b[0m\u001b[0mself\u001b[0m\u001b[0;34m,\u001b[0m \u001b[0mname\u001b[0m\u001b[0;34m:\u001b[0m \u001b[0mstr\u001b[0m\u001b[0;34m,\u001b[0m \u001b[0mvalue\u001b[0m\u001b[0;34m)\u001b[0m \u001b[0;34m->\u001b[0m \u001b[0;32mNone\u001b[0m\u001b[0;34m:\u001b[0m\u001b[0;34m\u001b[0m\u001b[0;34m\u001b[0m\u001b[0m\n",
      "\u001b[0;31mAttributeError\u001b[0m: 'MicroDataFrame' object has no attribute 'in_poverty_bhc'"
     ]
    }
   ],
   "source": [
    "((hh_base.equiv_household_net_income_base < (295 * 52)) != hh_base.in_poverty_bhc).mean()"
   ]
  },
  {
   "cell_type": "code",
   "execution_count": null,
   "id": "second-finance",
   "metadata": {},
   "outputs": [],
   "source": [
    "(hh_base.equiv_household_net_income_base < hh_base.poverty_line_bhc) != hh_base.in_poverty_bhc"
   ]
  },
  {
   "cell_type": "code",
   "execution_count": null,
   "id": "handled-original",
   "metadata": {},
   "outputs": [],
   "source": [
    "o.tools.aggregates.poverty_rate(baseline_sim)"
   ]
  }
 ],
 "metadata": {
  "kernelspec": {
   "display_name": "Python 3",
   "language": "python",
   "name": "python3"
  },
  "language_info": {
   "codemirror_mode": {
    "name": "ipython",
    "version": 3
   },
   "file_extension": ".py",
   "mimetype": "text/x-python",
   "name": "python",
   "nbconvert_exporter": "python",
   "pygments_lexer": "ipython3",
   "version": "3.7.10"
  }
 },
 "nbformat": 4,
 "nbformat_minor": 5
}
