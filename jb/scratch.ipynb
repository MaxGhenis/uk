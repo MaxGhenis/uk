{
 "cells": [
  {
   "cell_type": "code",
   "execution_count": 11,
   "id": "moving-spice",
   "metadata": {},
   "outputs": [],
   "source": [
    "import os\n",
    "if \"py\" not in os.listdir(\".\"):\n",
    "    os.chdir(\"..\")\n",
    "    \n",
    "%config Completer.use_jedi = False"
   ]
  },
  {
   "cell_type": "code",
   "execution_count": 12,
   "id": "pleased-adrian",
   "metadata": {},
   "outputs": [],
   "source": [
    "import microdf as mdf\n",
    "import numpy as np\n",
    "import openfisca_uk as o\n",
    "import pandas as pd\n",
    "from openfisca_uk import IndividualSim, PopulationSim\n",
    "from openfisca_uk.reforms.modelling import reported_benefits\n",
    "from py.calc_ubi import ubi_reform\n",
    "\n",
    "REGION_CODES = [\n",
    "    \"NORTH_EAST\",\n",
    "    \"NORTH_WEST\",\n",
    "    \"YORKSHIRE\",\n",
    "    \"EAST_MIDLANDS\",\n",
    "    \"WEST_MIDLANDS\",\n",
    "    \"EAST_OF_ENGLAND\",\n",
    "    \"LONDON\",\n",
    "    \"SOUTH_EAST\",\n",
    "    \"SOUTH_WEST\",\n",
    "    \"WALES\",\n",
    "    \"SCOTLAND\",\n",
    "    \"NORTHERN_IRELAND\",\n",
    "]\n",
    "\n",
    "REGION_NAMES = [\n",
    "    \"North East\",\n",
    "    \"North West\",\n",
    "    \"Yorkshire and the Humber\",\n",
    "    \"East Midlands\",\n",
    "    \"West Midlands\",\n",
    "    \"East of England\",\n",
    "    \"London\",\n",
    "    \"South East\",\n",
    "    \"South West\",\n",
    "    \"Wales\",\n",
    "    \"Scotland\",\n",
    "    \"Northern Ireland\",\n",
    "]\n",
    "\n",
    "region_code_map = dict(zip(range(len(REGION_CODES)), REGION_CODES))\n",
    "region_name_map = dict(zip(range(len(REGION_NAMES)), REGION_NAMES))\n",
    "\n",
    "optimal_params = pd.read_csv(\"optimal_params.csv\")  # Up a folder.\n",
    "\n",
    "\n",
    "def reform(i):\n",
    "    row = optimal_params.iloc[i].round()\n",
    "    return ubi_reform(\n",
    "        adult=row.adult,\n",
    "        child=row.child,\n",
    "        senior=row.senior,\n",
    "        dis_base=row.dis_base,\n",
    "        geo=row[REGION_CODES],\n",
    "    )\n",
    "\n",
    "\n",
    "reforms = [reform(i) for i in range(3)]\n",
    "\n",
    "baseline_sim = PopulationSim(reported_benefits)\n",
    "reform_sims = [PopulationSim(reported_benefits, reform) for reform in reforms]\n",
    "\n",
    "REFORM_NAMES = [\"1: Foundational\", \"2: Disability\", \"3: Disability + geo\"]\n",
    "\n",
    "BASELINE_PERSON_COLS = [\n",
    "    \"household_weight\",\n",
    "    \"age\",\n",
    "    \"region\",\n",
    "    \"is_disabled_for_ubi\",\n",
    "]\n",
    "\n",
    "# Extract these for baseline too.\n",
    "REFORM_PERSON_COLS = [\n",
    "    \"household_net_income\",\n",
    "    \"in_poverty_bhc\",\n",
    "    \"in_deep_poverty_bhc\",\n",
    "]\n",
    "\n",
    "BASELINE_HH_COLS = [\"household_weight\", \"people_in_household\", \"region\"]\n",
    "\n",
    "# Extract these for baseline too.\n",
    "REFORM_HH_COLS = [\n",
    "    \"household_net_income\",\n",
    "    \"equiv_household_net_income\",\n",
    "    \"poverty_gap_bhc\",\n",
    "    \"poverty_gap_ahc\",\n",
    "]\n",
    "\n",
    "p_base = mdf.MicroDataFrame(\n",
    "    baseline_sim.df(\n",
    "        BASELINE_PERSON_COLS + REFORM_PERSON_COLS, map_to=\"person\"\n",
    "    ),\n",
    "    weights=\"household_weight\",\n",
    ")\n",
    "p_base.rename(\n",
    "    dict(zip(REFORM_PERSON_COLS, [i + \"_base\" for i in REFORM_PERSON_COLS])),\n",
    "    axis=1,\n",
    "    inplace=True,\n",
    ")\n",
    "\n",
    "hh_base = mdf.MicroDataFrame(\n",
    "    baseline_sim.df(BASELINE_HH_COLS + REFORM_HH_COLS, map_to=\"household\"),\n",
    "    weights=\"household_weight\",\n",
    ")\n",
    "hh_base.rename(\n",
    "    dict(zip(REFORM_HH_COLS, [i + \"_base\" for i in REFORM_HH_COLS])),\n",
    "    axis=1,\n",
    "    inplace=True,\n",
    ")\n",
    "hh_base[\"person_weight\"] = (\n",
    "    hh_base.household_weight * hh_base.people_in_household\n",
    ")\n",
    "\n",
    "# # Add region code and names\n",
    "# hh_base[\"region_code\"] = hh_base.region.map(region_code_map)\n",
    "# hh_base[\"region_name\"] = hh_base.region.map(region_name_map)\n",
    "# p_base[\"region_code\"] = p_base.region.map(region_code_map)\n",
    "# p_base[\"region_name\"] = p_base.region.map(region_name_map)\n",
    "\n",
    "# Change weight column to represent people for decile groups.\n",
    "hh_base.set_weights(hh_base.person_weight)\n",
    "hh_base[\"decile\"] = np.ceil(\n",
    "    hh_base.equiv_household_net_income_base.rank(pct=True) * 10\n",
    ")\n",
    "\n",
    "# Change weight back to household weight for correct calculation of totals.\n",
    "hh_base.set_weights(hh_base.household_weight)\n",
    "\n",
    "\n",
    "def reform_p(i):\n",
    "    p = reform_sims[i].df(REFORM_PERSON_COLS, map_to=\"person\")\n",
    "    p[\"reform\"] = REFORM_NAMES[i]\n",
    "    return mdf.concat([p_base, p], axis=1)\n",
    "\n",
    "\n",
    "def reform_hh(i):\n",
    "    hh = reform_sims[i].df(REFORM_HH_COLS, map_to=\"household\")\n",
    "    hh[\"reform\"] = REFORM_NAMES[i]\n",
    "    return mdf.concat([hh_base, hh], axis=1)\n",
    "\n",
    "\n",
    "def pct_chg(base, new):\n",
    "    return (new - base) / base\n",
    "\n",
    "\n",
    "def reform_stats(df):\n",
    "    # For applying over a groupby(reform) or a .\n",
    "    gini = df.equiv_household_net_income_base.aggregate(\n",
    "        [\"gini\", \"top_10pct_share\"]\n",
    "    )\n",
    "    p_agg = df[[\"household_net_income_pl\", \"winner\"]].mean()\n",
    "\n",
    "\n",
    "\n",
    "p = mdf.concat([reform_p(i) for i in range(3)])\n",
    "h = mdf.concat([reform_hh(i) for i in range(3)])\n",
    "\n",
    "p = p.reset_index(drop=True)#.drop(\"index\", axis=1)\n",
    "h = h.reset_index(drop=True)#.drop(\"index\", axis=1)\n",
    "\n",
    "def chg(df, col):\n",
    "    df[col + \"_chg\"] = df[col] - df[col + \"_base\"]\n",
    "    # Percentage change, only defined for positive baselines.\n",
    "    df[col + \"_pc\"] = np.where(\n",
    "        df[col + \"_base\"] > 0,\n",
    "        df[col + \"_chg\"] / df[col + \"_base\"],\n",
    "        np.nan,\n",
    "    )\n",
    "    # Percentage loss. NB: np.minimum(np.nan, 0) -> np.nan.\n",
    "    df[col + \"_pl\"] = np.minimum(0, df[col + \"_pc\"])\n",
    "\n",
    "chg(p, \"household_net_income\")\n",
    "chg(h, \"household_net_income\")\n",
    "p[\"winner\"] = p.household_net_income_chg > 0\n",
    "h[\"winner\"] = h.household_net_income_chg > 0\n",
    "# Per-reform.\n",
    "INEQS = [\"gini\", \"top_10_pct_share\", \"top_1_pct_share\"]\n",
    "ineq_base = h.groupby(\"reform\").equiv_household_net_income_base.agg(INEQS)\n",
    "ineq_base.columns = [i + \"_base\" for i in ineq_base.columns]\n",
    "ineq_reform = h.groupby(\"reform\").equiv_household_net_income.agg(INEQS)\n",
    "ineq_reform.columns = [i + \"_reform\" for i in ineq_reform.columns]\n",
    "p_agg = p.groupby(\"reform\")[[\"household_net_income_pl\", \"winner\"]].mean()\n",
    "r = p_agg.join(ineq_base).join(ineq_reform, on=\"reform\")\n",
    "r[\"reform\"] = r.index  # Easier for plotting.\n",
    "for i in INEQS:\n",
    "    r[i + \"_pc\"] = pct_chg(r[i + \"_base\"], r[i + \"_reform\"])\n",
    "\n",
    "# Per reform per decile (by household).\n",
    "\n",
    "decile = (\n",
    "    h.groupby([\"reform\", \"decile\"])\n",
    "    .sum()[\n",
    "        [\n",
    "            \"household_net_income\",\n",
    "            \"household_net_income_base\",\n",
    "            \"people_in_household\",\n",
    "        ]\n",
    "    ]\n",
    "    .reset_index()\n",
    ")\n",
    "decile[\"chg\"] = (\n",
    "    decile.household_net_income - decile.household_net_income_base\n",
    ")\n",
    "decile[\"chg_pp\"] = decile.chg / decile.people_in_household\n",
    "decile[\"pc\"] = decile.chg / decile.household_net_income_base\n",
    "# return p, h, r, decile"
   ]
  },
  {
   "cell_type": "code",
   "execution_count": 60,
   "id": "defensive-satellite",
   "metadata": {},
   "outputs": [],
   "source": [
    "BUCKETS = [\"Lose more than 5%\", \"Lose less than 5%\", \"Gain less than 5%\", \"Gain more than 5%\"]\n",
    "h[\"household_net_income_pc_group\"] = pd.cut(h.household_net_income_pc, [-np.inf, -0.05, 0, 0.05, np.inf],\n",
    "                                            labels=BUCKETS)"
   ]
  },
  {
   "cell_type": "code",
   "execution_count": 73,
   "id": "established-spokesman",
   "metadata": {},
   "outputs": [
    {
     "data": {
      "text/html": [
       "<div>\n",
       "<style scoped>\n",
       "    .dataframe tbody tr th:only-of-type {\n",
       "        vertical-align: middle;\n",
       "    }\n",
       "\n",
       "    .dataframe tbody tr th {\n",
       "        vertical-align: top;\n",
       "    }\n",
       "\n",
       "    .dataframe thead th {\n",
       "        text-align: right;\n",
       "    }\n",
       "</style>\n",
       "<table border=\"1\" class=\"dataframe\">\n",
       "  <thead>\n",
       "    <tr style=\"text-align: right;\">\n",
       "      <th></th>\n",
       "      <th>reform</th>\n",
       "      <th>decile</th>\n",
       "      <th>household_net_income_pc_group</th>\n",
       "      <th>people_in_household</th>\n",
       "      <th>total_people_in_household</th>\n",
       "      <th>share_of_decile</th>\n",
       "      <th>order</th>\n",
       "    </tr>\n",
       "  </thead>\n",
       "  <tbody>\n",
       "    <tr>\n",
       "      <th>119</th>\n",
       "      <td>3: Disability + geo</td>\n",
       "      <td>10.0</td>\n",
       "      <td>Gain more than 5%</td>\n",
       "      <td>551368.0</td>\n",
       "      <td>6556995.0</td>\n",
       "      <td>0.084089</td>\n",
       "      <td>3</td>\n",
       "    </tr>\n",
       "    <tr>\n",
       "      <th>23</th>\n",
       "      <td>1: Foundational</td>\n",
       "      <td>6.0</td>\n",
       "      <td>Gain more than 5%</td>\n",
       "      <td>1762852.0</td>\n",
       "      <td>6552148.0</td>\n",
       "      <td>0.269049</td>\n",
       "      <td>3</td>\n",
       "    </tr>\n",
       "    <tr>\n",
       "      <th>31</th>\n",
       "      <td>1: Foundational</td>\n",
       "      <td>8.0</td>\n",
       "      <td>Gain more than 5%</td>\n",
       "      <td>1490442.0</td>\n",
       "      <td>6548129.0</td>\n",
       "      <td>0.227613</td>\n",
       "      <td>3</td>\n",
       "    </tr>\n",
       "    <tr>\n",
       "      <th>111</th>\n",
       "      <td>3: Disability + geo</td>\n",
       "      <td>8.0</td>\n",
       "      <td>Gain more than 5%</td>\n",
       "      <td>1552945.0</td>\n",
       "      <td>6548129.0</td>\n",
       "      <td>0.237159</td>\n",
       "      <td>3</td>\n",
       "    </tr>\n",
       "    <tr>\n",
       "      <th>35</th>\n",
       "      <td>1: Foundational</td>\n",
       "      <td>9.0</td>\n",
       "      <td>Gain more than 5%</td>\n",
       "      <td>1492258.0</td>\n",
       "      <td>6541254.0</td>\n",
       "      <td>0.228130</td>\n",
       "      <td>3</td>\n",
       "    </tr>\n",
       "    <tr>\n",
       "      <th>...</th>\n",
       "      <td>...</td>\n",
       "      <td>...</td>\n",
       "      <td>...</td>\n",
       "      <td>...</td>\n",
       "      <td>...</td>\n",
       "      <td>...</td>\n",
       "      <td>...</td>\n",
       "    </tr>\n",
       "    <tr>\n",
       "      <th>72</th>\n",
       "      <td>2: Disability</td>\n",
       "      <td>9.0</td>\n",
       "      <td>Lose more than 5%</td>\n",
       "      <td>3176819.0</td>\n",
       "      <td>6541254.0</td>\n",
       "      <td>0.485659</td>\n",
       "      <td>0</td>\n",
       "    </tr>\n",
       "    <tr>\n",
       "      <th>76</th>\n",
       "      <td>2: Disability</td>\n",
       "      <td>10.0</td>\n",
       "      <td>Lose more than 5%</td>\n",
       "      <td>4151604.0</td>\n",
       "      <td>6556995.0</td>\n",
       "      <td>0.633156</td>\n",
       "      <td>0</td>\n",
       "    </tr>\n",
       "    <tr>\n",
       "      <th>80</th>\n",
       "      <td>3: Disability + geo</td>\n",
       "      <td>1.0</td>\n",
       "      <td>Lose more than 5%</td>\n",
       "      <td>109156.0</td>\n",
       "      <td>5366167.0</td>\n",
       "      <td>0.020342</td>\n",
       "      <td>0</td>\n",
       "    </tr>\n",
       "    <tr>\n",
       "      <th>84</th>\n",
       "      <td>3: Disability + geo</td>\n",
       "      <td>2.0</td>\n",
       "      <td>Lose more than 5%</td>\n",
       "      <td>955766.0</td>\n",
       "      <td>6549727.0</td>\n",
       "      <td>0.145925</td>\n",
       "      <td>0</td>\n",
       "    </tr>\n",
       "    <tr>\n",
       "      <th>60</th>\n",
       "      <td>2: Disability</td>\n",
       "      <td>6.0</td>\n",
       "      <td>Lose more than 5%</td>\n",
       "      <td>2456618.0</td>\n",
       "      <td>6552148.0</td>\n",
       "      <td>0.374933</td>\n",
       "      <td>0</td>\n",
       "    </tr>\n",
       "  </tbody>\n",
       "</table>\n",
       "<p>120 rows × 7 columns</p>\n",
       "</div>"
      ],
      "text/plain": [
       "                  reform  decile household_net_income_pc_group  \\\n",
       "119  3: Disability + geo    10.0             Gain more than 5%   \n",
       "23       1: Foundational     6.0             Gain more than 5%   \n",
       "31       1: Foundational     8.0             Gain more than 5%   \n",
       "111  3: Disability + geo     8.0             Gain more than 5%   \n",
       "35       1: Foundational     9.0             Gain more than 5%   \n",
       "..                   ...     ...                           ...   \n",
       "72         2: Disability     9.0             Lose more than 5%   \n",
       "76         2: Disability    10.0             Lose more than 5%   \n",
       "80   3: Disability + geo     1.0             Lose more than 5%   \n",
       "84   3: Disability + geo     2.0             Lose more than 5%   \n",
       "60         2: Disability     6.0             Lose more than 5%   \n",
       "\n",
       "     people_in_household  total_people_in_household  share_of_decile  order  \n",
       "119             551368.0                  6556995.0         0.084089      3  \n",
       "23             1762852.0                  6552148.0         0.269049      3  \n",
       "31             1490442.0                  6548129.0         0.227613      3  \n",
       "111            1552945.0                  6548129.0         0.237159      3  \n",
       "35             1492258.0                  6541254.0         0.228130      3  \n",
       "..                   ...                        ...              ...    ...  \n",
       "72             3176819.0                  6541254.0         0.485659      0  \n",
       "76             4151604.0                  6556995.0         0.633156      0  \n",
       "80              109156.0                  5366167.0         0.020342      0  \n",
       "84              955766.0                  6549727.0         0.145925      0  \n",
       "60             2456618.0                  6552148.0         0.374933      0  \n",
       "\n",
       "[120 rows x 7 columns]"
      ]
     },
     "execution_count": 73,
     "metadata": {},
     "output_type": "execute_result"
    }
   ],
   "source": [
    "def group(groupby, name=\"people_in_household\"):\n",
    "    return (\n",
    "        h[h.household_net_income_base > 0].groupby(groupby)\n",
    "        .people_in_household.sum()\n",
    "        .reset_index()\n",
    "        .rename({0: name}, axis=1)\n",
    "    )\n",
    "\n",
    "\n",
    "chg_bucket = group([\"reform\", \"decile\", \"household_net_income_pc_group\"])\n",
    "chg_bucket_decile_total = group([\"reform\", \"decile\"], \"total_people_in_household\")\n",
    "chg_bucket_total = group([\"reform\", \"household_net_income_pc_group\"])\n",
    "reform_total = group(\"reform\")\n",
    "# Calculate share of decile.\n",
    "chg_bucket = chg_bucket.merge(chg_bucket_decile_total, on=[\"reform\", \"decile\"])\n",
    "chg_bucket[\"share_of_decile\"] = chg_bucket.people_in_household / chg_bucket.total_people_in_household\n",
    "\n",
    "# Sort for correct stack order.\n",
    "chg_bucket[\"order\"] = chg_bucket.household_net_income_pc_group.map(dict(zip(BUCKETS, range(len(BUCKETS)))))\n",
    "chg_bucket.sort_values(\"order\", ascending=False, inplace=True)\n",
    "chg_bucket"
   ]
  },
  {
   "cell_type": "code",
   "execution_count": 79,
   "id": "suspended-queens",
   "metadata": {},
   "outputs": [],
   "source": [
    "chg_bucket1 = chg_bucket[chg_bucket.reform == \"1: Foundational\"]\n",
    "WITHIN_COLORS = [\n",
    "    \"#c56000\",  # Medium amber.\n",
    "    \"#ffc046\",  # Light amber.\n",
    "    \"#63a4ff\",  # Light blue.\n",
    "    \"#004ba0\",  # Dark blue.\n",
    "]\n",
    "WITHIN_COLOR_MAP = dict(zip(BUCKETS, WITHIN_COLORS))"
   ]
  },
  {
   "cell_type": "code",
   "execution_count": 86,
   "id": "alternative-defense",
   "metadata": {},
   "outputs": [
    {
     "data": {
      "application/vnd.plotly.v1+json": {
       "config": {
        "displayModeBar": false,
        "plotlyServerURL": "https://plot.ly"
       },
       "data": [
        {
         "alignmentgroup": "True",
         "hovertemplate": "household_net_income_pc_group=Gain more than 5%<br>share_of_decile=%{x}<br>decile=%{y}<extra></extra>",
         "legendgroup": "Gain more than 5%",
         "marker": {
          "color": "#004ba0"
         },
         "name": "Gain more than 5%",
         "offsetgroup": "Gain more than 5%",
         "orientation": "h",
         "showlegend": true,
         "textposition": "auto",
         "type": "bar",
         "x": [
          0.26904947812534147,
          0.2276134144577787,
          0.22813026370784562,
          0.08911094182624815,
          0.24663788380919965,
          0.9553778330044518,
          0.5713519119906882,
          0.6527436243374521,
          0.4681328425141006,
          0.7504360105390652
         ],
         "xaxis": "x",
         "y": [
          6,
          8,
          9,
          10,
          7,
          1,
          4,
          3,
          5,
          2
         ],
         "yaxis": "y"
        },
        {
         "alignmentgroup": "True",
         "hovertemplate": "household_net_income_pc_group=Gain less than 5%<br>share_of_decile=%{x}<br>decile=%{y}<extra></extra>",
         "legendgroup": "Gain less than 5%",
         "marker": {
          "color": "#63a4ff"
         },
         "name": "Gain less than 5%",
         "offsetgroup": "Gain less than 5%",
         "orientation": "h",
         "showlegend": true,
         "textposition": "auto",
         "type": "bar",
         "x": [
          0.008801813286839563,
          0.05932991179270292,
          0.05132549799403853,
          0.06836027360851009,
          0.19509983596219133,
          0.11079892542239242,
          0.12470833449179701,
          0.1607030826681393,
          0.15512759480062996,
          0.0829268940792095
         ],
         "xaxis": "x",
         "y": [
          1,
          3,
          2,
          4,
          6,
          10,
          7,
          5,
          9,
          8
         ],
         "yaxis": "y"
        },
        {
         "alignmentgroup": "True",
         "hovertemplate": "household_net_income_pc_group=Lose less than 5%<br>share_of_decile=%{x}<br>decile=%{y}<extra></extra>",
         "legendgroup": "Lose less than 5%",
         "marker": {
          "color": "#ffc046"
         },
         "name": "Lose less than 5%",
         "offsetgroup": "Lose less than 5%",
         "orientation": "h",
         "showlegend": true,
         "textposition": "auto",
         "type": "bar",
         "x": [
          0.04071849101496902,
          0.1472937757806072,
          0.21100077093241645,
          0.14212685791620783,
          0.22360239725964676,
          0.14157719507988512,
          0.1175762420196568,
          0.06709087047599549,
          0.08589248126502692,
          0.00903941304845712
         ],
         "xaxis": "x",
         "y": [
          2,
          9,
          10,
          8,
          6,
          7,
          5,
          3,
          4,
          1
         ],
         "yaxis": "y"
        },
        {
         "alignmentgroup": "True",
         "hovertemplate": "household_net_income_pc_group=Lose more than 5%<br>share_of_decile=%{x}<br>decile=%{y}<extra></extra>",
         "legendgroup": "Lose more than 5%",
         "marker": {
          "color": "#c56000"
         },
         "name": "Lose more than 5%",
         "offsetgroup": "Lose more than 5%",
         "orientation": "h",
         "showlegend": true,
         "textposition": "auto",
         "type": "bar",
         "x": [
          0.026780940660251534,
          0.15752000045192724,
          0.22083559339384948,
          0.2743953331357747,
          0.2535878327981034,
          0.3122482886528204,
          0.48707658661911823,
          0.547332833546804,
          0.4694483657109172,
          0.589089361818943
         ],
         "xaxis": "x",
         "y": [
          1,
          2,
          3,
          4,
          5,
          6,
          7,
          8,
          9,
          10
         ],
         "yaxis": "y"
        }
       ],
       "layout": {
        "barmode": "relative",
        "font": {
         "family": "Roboto"
        },
        "height": 800,
        "hoverlabel": {
         "align": "right"
        },
        "images": [
         {
          "sizex": 0.12,
          "sizey": 0.12,
          "source": "https://raw.githubusercontent.com/UBICenter/blog/master/jb/_static/ubi_center_logo_wide_blue.png",
          "x": 0.98,
          "xanchor": "right",
          "xref": "paper",
          "y": -0.12,
          "yanchor": "bottom",
          "yref": "paper"
         },
         {
          "sizex": 0.12,
          "sizey": 0.12,
          "source": "https://raw.githubusercontent.com/UBICenter/blog/master/jb/_static/ubi_center_logo_wide_blue.png",
          "x": 0.98,
          "xanchor": "right",
          "xref": "paper",
          "y": -0.12,
          "yanchor": "bottom",
          "yref": "paper"
         }
        ],
        "legend": {
         "title": {
          "text": ""
         },
         "tracegroupgap": 0
        },
        "margin": {
         "t": 60
        },
        "paper_bgcolor": "white",
        "plot_bgcolor": "white",
        "template": {
         "data": {
          "bar": [
           {
            "error_x": {
             "color": "#2a3f5f"
            },
            "error_y": {
             "color": "#2a3f5f"
            },
            "marker": {
             "line": {
              "color": "#E5ECF6",
              "width": 0.5
             }
            },
            "type": "bar"
           }
          ],
          "barpolar": [
           {
            "marker": {
             "line": {
              "color": "#E5ECF6",
              "width": 0.5
             }
            },
            "type": "barpolar"
           }
          ],
          "carpet": [
           {
            "aaxis": {
             "endlinecolor": "#2a3f5f",
             "gridcolor": "white",
             "linecolor": "white",
             "minorgridcolor": "white",
             "startlinecolor": "#2a3f5f"
            },
            "baxis": {
             "endlinecolor": "#2a3f5f",
             "gridcolor": "white",
             "linecolor": "white",
             "minorgridcolor": "white",
             "startlinecolor": "#2a3f5f"
            },
            "type": "carpet"
           }
          ],
          "choropleth": [
           {
            "colorbar": {
             "outlinewidth": 0,
             "ticks": ""
            },
            "type": "choropleth"
           }
          ],
          "contour": [
           {
            "colorbar": {
             "outlinewidth": 0,
             "ticks": ""
            },
            "colorscale": [
             [
              0,
              "#0d0887"
             ],
             [
              0.1111111111111111,
              "#46039f"
             ],
             [
              0.2222222222222222,
              "#7201a8"
             ],
             [
              0.3333333333333333,
              "#9c179e"
             ],
             [
              0.4444444444444444,
              "#bd3786"
             ],
             [
              0.5555555555555556,
              "#d8576b"
             ],
             [
              0.6666666666666666,
              "#ed7953"
             ],
             [
              0.7777777777777778,
              "#fb9f3a"
             ],
             [
              0.8888888888888888,
              "#fdca26"
             ],
             [
              1,
              "#f0f921"
             ]
            ],
            "type": "contour"
           }
          ],
          "contourcarpet": [
           {
            "colorbar": {
             "outlinewidth": 0,
             "ticks": ""
            },
            "type": "contourcarpet"
           }
          ],
          "heatmap": [
           {
            "colorbar": {
             "outlinewidth": 0,
             "ticks": ""
            },
            "colorscale": [
             [
              0,
              "#0d0887"
             ],
             [
              0.1111111111111111,
              "#46039f"
             ],
             [
              0.2222222222222222,
              "#7201a8"
             ],
             [
              0.3333333333333333,
              "#9c179e"
             ],
             [
              0.4444444444444444,
              "#bd3786"
             ],
             [
              0.5555555555555556,
              "#d8576b"
             ],
             [
              0.6666666666666666,
              "#ed7953"
             ],
             [
              0.7777777777777778,
              "#fb9f3a"
             ],
             [
              0.8888888888888888,
              "#fdca26"
             ],
             [
              1,
              "#f0f921"
             ]
            ],
            "type": "heatmap"
           }
          ],
          "heatmapgl": [
           {
            "colorbar": {
             "outlinewidth": 0,
             "ticks": ""
            },
            "colorscale": [
             [
              0,
              "#0d0887"
             ],
             [
              0.1111111111111111,
              "#46039f"
             ],
             [
              0.2222222222222222,
              "#7201a8"
             ],
             [
              0.3333333333333333,
              "#9c179e"
             ],
             [
              0.4444444444444444,
              "#bd3786"
             ],
             [
              0.5555555555555556,
              "#d8576b"
             ],
             [
              0.6666666666666666,
              "#ed7953"
             ],
             [
              0.7777777777777778,
              "#fb9f3a"
             ],
             [
              0.8888888888888888,
              "#fdca26"
             ],
             [
              1,
              "#f0f921"
             ]
            ],
            "type": "heatmapgl"
           }
          ],
          "histogram": [
           {
            "marker": {
             "colorbar": {
              "outlinewidth": 0,
              "ticks": ""
             }
            },
            "type": "histogram"
           }
          ],
          "histogram2d": [
           {
            "colorbar": {
             "outlinewidth": 0,
             "ticks": ""
            },
            "colorscale": [
             [
              0,
              "#0d0887"
             ],
             [
              0.1111111111111111,
              "#46039f"
             ],
             [
              0.2222222222222222,
              "#7201a8"
             ],
             [
              0.3333333333333333,
              "#9c179e"
             ],
             [
              0.4444444444444444,
              "#bd3786"
             ],
             [
              0.5555555555555556,
              "#d8576b"
             ],
             [
              0.6666666666666666,
              "#ed7953"
             ],
             [
              0.7777777777777778,
              "#fb9f3a"
             ],
             [
              0.8888888888888888,
              "#fdca26"
             ],
             [
              1,
              "#f0f921"
             ]
            ],
            "type": "histogram2d"
           }
          ],
          "histogram2dcontour": [
           {
            "colorbar": {
             "outlinewidth": 0,
             "ticks": ""
            },
            "colorscale": [
             [
              0,
              "#0d0887"
             ],
             [
              0.1111111111111111,
              "#46039f"
             ],
             [
              0.2222222222222222,
              "#7201a8"
             ],
             [
              0.3333333333333333,
              "#9c179e"
             ],
             [
              0.4444444444444444,
              "#bd3786"
             ],
             [
              0.5555555555555556,
              "#d8576b"
             ],
             [
              0.6666666666666666,
              "#ed7953"
             ],
             [
              0.7777777777777778,
              "#fb9f3a"
             ],
             [
              0.8888888888888888,
              "#fdca26"
             ],
             [
              1,
              "#f0f921"
             ]
            ],
            "type": "histogram2dcontour"
           }
          ],
          "mesh3d": [
           {
            "colorbar": {
             "outlinewidth": 0,
             "ticks": ""
            },
            "type": "mesh3d"
           }
          ],
          "parcoords": [
           {
            "line": {
             "colorbar": {
              "outlinewidth": 0,
              "ticks": ""
             }
            },
            "type": "parcoords"
           }
          ],
          "pie": [
           {
            "automargin": true,
            "type": "pie"
           }
          ],
          "scatter": [
           {
            "marker": {
             "colorbar": {
              "outlinewidth": 0,
              "ticks": ""
             }
            },
            "type": "scatter"
           }
          ],
          "scatter3d": [
           {
            "line": {
             "colorbar": {
              "outlinewidth": 0,
              "ticks": ""
             }
            },
            "marker": {
             "colorbar": {
              "outlinewidth": 0,
              "ticks": ""
             }
            },
            "type": "scatter3d"
           }
          ],
          "scattercarpet": [
           {
            "marker": {
             "colorbar": {
              "outlinewidth": 0,
              "ticks": ""
             }
            },
            "type": "scattercarpet"
           }
          ],
          "scattergeo": [
           {
            "marker": {
             "colorbar": {
              "outlinewidth": 0,
              "ticks": ""
             }
            },
            "type": "scattergeo"
           }
          ],
          "scattergl": [
           {
            "marker": {
             "colorbar": {
              "outlinewidth": 0,
              "ticks": ""
             }
            },
            "type": "scattergl"
           }
          ],
          "scattermapbox": [
           {
            "marker": {
             "colorbar": {
              "outlinewidth": 0,
              "ticks": ""
             }
            },
            "type": "scattermapbox"
           }
          ],
          "scatterpolar": [
           {
            "marker": {
             "colorbar": {
              "outlinewidth": 0,
              "ticks": ""
             }
            },
            "type": "scatterpolar"
           }
          ],
          "scatterpolargl": [
           {
            "marker": {
             "colorbar": {
              "outlinewidth": 0,
              "ticks": ""
             }
            },
            "type": "scatterpolargl"
           }
          ],
          "scatterternary": [
           {
            "marker": {
             "colorbar": {
              "outlinewidth": 0,
              "ticks": ""
             }
            },
            "type": "scatterternary"
           }
          ],
          "surface": [
           {
            "colorbar": {
             "outlinewidth": 0,
             "ticks": ""
            },
            "colorscale": [
             [
              0,
              "#0d0887"
             ],
             [
              0.1111111111111111,
              "#46039f"
             ],
             [
              0.2222222222222222,
              "#7201a8"
             ],
             [
              0.3333333333333333,
              "#9c179e"
             ],
             [
              0.4444444444444444,
              "#bd3786"
             ],
             [
              0.5555555555555556,
              "#d8576b"
             ],
             [
              0.6666666666666666,
              "#ed7953"
             ],
             [
              0.7777777777777778,
              "#fb9f3a"
             ],
             [
              0.8888888888888888,
              "#fdca26"
             ],
             [
              1,
              "#f0f921"
             ]
            ],
            "type": "surface"
           }
          ],
          "table": [
           {
            "cells": {
             "fill": {
              "color": "#EBF0F8"
             },
             "line": {
              "color": "white"
             }
            },
            "header": {
             "fill": {
              "color": "#C8D4E3"
             },
             "line": {
              "color": "white"
             }
            },
            "type": "table"
           }
          ]
         },
         "layout": {
          "annotationdefaults": {
           "arrowcolor": "#2a3f5f",
           "arrowhead": 0,
           "arrowwidth": 1
          },
          "autotypenumbers": "strict",
          "coloraxis": {
           "colorbar": {
            "outlinewidth": 0,
            "ticks": ""
           }
          },
          "colorscale": {
           "diverging": [
            [
             0,
             "#8e0152"
            ],
            [
             0.1,
             "#c51b7d"
            ],
            [
             0.2,
             "#de77ae"
            ],
            [
             0.3,
             "#f1b6da"
            ],
            [
             0.4,
             "#fde0ef"
            ],
            [
             0.5,
             "#f7f7f7"
            ],
            [
             0.6,
             "#e6f5d0"
            ],
            [
             0.7,
             "#b8e186"
            ],
            [
             0.8,
             "#7fbc41"
            ],
            [
             0.9,
             "#4d9221"
            ],
            [
             1,
             "#276419"
            ]
           ],
           "sequential": [
            [
             0,
             "#0d0887"
            ],
            [
             0.1111111111111111,
             "#46039f"
            ],
            [
             0.2222222222222222,
             "#7201a8"
            ],
            [
             0.3333333333333333,
             "#9c179e"
            ],
            [
             0.4444444444444444,
             "#bd3786"
            ],
            [
             0.5555555555555556,
             "#d8576b"
            ],
            [
             0.6666666666666666,
             "#ed7953"
            ],
            [
             0.7777777777777778,
             "#fb9f3a"
            ],
            [
             0.8888888888888888,
             "#fdca26"
            ],
            [
             1,
             "#f0f921"
            ]
           ],
           "sequentialminus": [
            [
             0,
             "#0d0887"
            ],
            [
             0.1111111111111111,
             "#46039f"
            ],
            [
             0.2222222222222222,
             "#7201a8"
            ],
            [
             0.3333333333333333,
             "#9c179e"
            ],
            [
             0.4444444444444444,
             "#bd3786"
            ],
            [
             0.5555555555555556,
             "#d8576b"
            ],
            [
             0.6666666666666666,
             "#ed7953"
            ],
            [
             0.7777777777777778,
             "#fb9f3a"
            ],
            [
             0.8888888888888888,
             "#fdca26"
            ],
            [
             1,
             "#f0f921"
            ]
           ]
          },
          "colorway": [
           "#636efa",
           "#EF553B",
           "#00cc96",
           "#ab63fa",
           "#FFA15A",
           "#19d3f3",
           "#FF6692",
           "#B6E880",
           "#FF97FF",
           "#FECB52"
          ],
          "font": {
           "color": "#2a3f5f"
          },
          "geo": {
           "bgcolor": "white",
           "lakecolor": "white",
           "landcolor": "#E5ECF6",
           "showlakes": true,
           "showland": true,
           "subunitcolor": "white"
          },
          "hoverlabel": {
           "align": "left"
          },
          "hovermode": "closest",
          "mapbox": {
           "style": "light"
          },
          "paper_bgcolor": "white",
          "plot_bgcolor": "#E5ECF6",
          "polar": {
           "angularaxis": {
            "gridcolor": "white",
            "linecolor": "white",
            "ticks": ""
           },
           "bgcolor": "#E5ECF6",
           "radialaxis": {
            "gridcolor": "white",
            "linecolor": "white",
            "ticks": ""
           }
          },
          "scene": {
           "xaxis": {
            "backgroundcolor": "#E5ECF6",
            "gridcolor": "white",
            "gridwidth": 2,
            "linecolor": "white",
            "showbackground": true,
            "ticks": "",
            "zerolinecolor": "white"
           },
           "yaxis": {
            "backgroundcolor": "#E5ECF6",
            "gridcolor": "white",
            "gridwidth": 2,
            "linecolor": "white",
            "showbackground": true,
            "ticks": "",
            "zerolinecolor": "white"
           },
           "zaxis": {
            "backgroundcolor": "#E5ECF6",
            "gridcolor": "white",
            "gridwidth": 2,
            "linecolor": "white",
            "showbackground": true,
            "ticks": "",
            "zerolinecolor": "white"
           }
          },
          "shapedefaults": {
           "line": {
            "color": "#2a3f5f"
           }
          },
          "ternary": {
           "aaxis": {
            "gridcolor": "white",
            "linecolor": "white",
            "ticks": ""
           },
           "baxis": {
            "gridcolor": "white",
            "linecolor": "white",
            "ticks": ""
           },
           "bgcolor": "#E5ECF6",
           "caxis": {
            "gridcolor": "white",
            "linecolor": "white",
            "ticks": ""
           }
          },
          "title": {
           "x": 0.05
          },
          "xaxis": {
           "automargin": true,
           "gridcolor": "white",
           "linecolor": "white",
           "ticks": "",
           "title": {
            "standoff": 15
           },
           "zerolinecolor": "white",
           "zerolinewidth": 2
          },
          "yaxis": {
           "automargin": true,
           "gridcolor": "white",
           "linecolor": "white",
           "ticks": "",
           "title": {
            "standoff": 15
           },
           "zerolinecolor": "white",
           "zerolinewidth": 2
          }
         }
        },
        "title": {
         "font": {
          "size": 20
         },
         "text": "Distribution of impacts within deciles"
        },
        "width": 1000,
        "xaxis": {
         "anchor": "y",
         "autorange": true,
         "domain": [
          0,
          1
         ],
         "range": [
          0,
          1.0526315789473684
         ],
         "tickfont": {
          "size": 14
         },
         "tickformat": "%",
         "title": {
          "font": {
           "color": "black",
           "size": 16
          },
          "text": "Population share of decile"
         },
         "type": "linear"
        },
        "yaxis": {
         "anchor": "x",
         "autorange": true,
         "domain": [
          0,
          1
         ],
         "dtick": 1,
         "range": [
          0.5,
          10.5
         ],
         "tickfont": {
          "size": 14
         },
         "title": {
          "font": {
           "color": "black",
           "size": 16
          },
          "text": "Person-weighted decile of baseline household equivalized income"
         },
         "type": "linear"
        }
       }
      },
      "image/png": "[encoded data removed]",
      "text/html": [
       "<div>                            <div id=\"c0a6d0e0-6ec8-4f97-adb3-3b1fe643b172\" class=\"plotly-graph-div\" style=\"height:800px; width:1000px;\"></div>            <script type=\"text/javascript\">                require([\"plotly\"], function(Plotly) {                    window.PLOTLYENV=window.PLOTLYENV || {};                                    if (document.getElementById(\"c0a6d0e0-6ec8-4f97-adb3-3b1fe643b172\")) {                    Plotly.newPlot(                        \"c0a6d0e0-6ec8-4f97-adb3-3b1fe643b172\",                        [{\"alignmentgroup\": \"True\", \"hovertemplate\": \"household_net_income_pc_group=Gain more than 5%<br>share_of_decile=%{x}<br>decile=%{y}<extra></extra>\", \"legendgroup\": \"Gain more than 5%\", \"marker\": {\"color\": \"#004ba0\"}, \"name\": \"Gain more than 5%\", \"offsetgroup\": \"Gain more than 5%\", \"orientation\": \"h\", \"showlegend\": true, \"textposition\": \"auto\", \"type\": \"bar\", \"x\": [0.26904947812534147, 0.2276134144577787, 0.22813026370784562, 0.08911094182624815, 0.24663788380919965, 0.9553778330044518, 0.5713519119906882, 0.6527436243374521, 0.4681328425141006, 0.7504360105390652], \"xaxis\": \"x\", \"y\": [6.0, 8.0, 9.0, 10.0, 7.0, 1.0, 4.0, 3.0, 5.0, 2.0], \"yaxis\": \"y\"}, {\"alignmentgroup\": \"True\", \"hovertemplate\": \"household_net_income_pc_group=Gain less than 5%<br>share_of_decile=%{x}<br>decile=%{y}<extra></extra>\", \"legendgroup\": \"Gain less than 5%\", \"marker\": {\"color\": \"#63a4ff\"}, \"name\": \"Gain less than 5%\", \"offsetgroup\": \"Gain less than 5%\", \"orientation\": \"h\", \"showlegend\": true, \"textposition\": \"auto\", \"type\": \"bar\", \"x\": [0.008801813286839563, 0.05932991179270292, 0.05132549799403853, 0.06836027360851009, 0.19509983596219133, 0.11079892542239242, 0.12470833449179701, 0.1607030826681393, 0.15512759480062996, 0.0829268940792095], \"xaxis\": \"x\", \"y\": [1.0, 3.0, 2.0, 4.0, 6.0, 10.0, 7.0, 5.0, 9.0, 8.0], \"yaxis\": \"y\"}, {\"alignmentgroup\": \"True\", \"hovertemplate\": \"household_net_income_pc_group=Lose less than 5%<br>share_of_decile=%{x}<br>decile=%{y}<extra></extra>\", \"legendgroup\": \"Lose less than 5%\", \"marker\": {\"color\": \"#ffc046\"}, \"name\": \"Lose less than 5%\", \"offsetgroup\": \"Lose less than 5%\", \"orientation\": \"h\", \"showlegend\": true, \"textposition\": \"auto\", \"type\": \"bar\", \"x\": [0.04071849101496902, 0.1472937757806072, 0.21100077093241645, 0.14212685791620783, 0.22360239725964676, 0.14157719507988512, 0.1175762420196568, 0.06709087047599549, 0.08589248126502692, 0.00903941304845712], \"xaxis\": \"x\", \"y\": [2.0, 9.0, 10.0, 8.0, 6.0, 7.0, 5.0, 3.0, 4.0, 1.0], \"yaxis\": \"y\"}, {\"alignmentgroup\": \"True\", \"hovertemplate\": \"household_net_income_pc_group=Lose more than 5%<br>share_of_decile=%{x}<br>decile=%{y}<extra></extra>\", \"legendgroup\": \"Lose more than 5%\", \"marker\": {\"color\": \"#c56000\"}, \"name\": \"Lose more than 5%\", \"offsetgroup\": \"Lose more than 5%\", \"orientation\": \"h\", \"showlegend\": true, \"textposition\": \"auto\", \"type\": \"bar\", \"x\": [0.026780940660251534, 0.15752000045192724, 0.22083559339384948, 0.2743953331357747, 0.2535878327981034, 0.3122482886528204, 0.48707658661911823, 0.547332833546804, 0.4694483657109172, 0.589089361818943], \"xaxis\": \"x\", \"y\": [1.0, 2.0, 3.0, 4.0, 5.0, 6.0, 7.0, 8.0, 9.0, 10.0], \"yaxis\": \"y\"}],                        {\"barmode\": \"relative\", \"font\": {\"family\": \"Roboto\"}, \"height\": 800, \"hoverlabel\": {\"align\": \"right\"}, \"images\": [{\"sizex\": 0.12, \"sizey\": 0.12, \"source\": \"https://raw.githubusercontent.com/UBICenter/blog/master/jb/_static/ubi_center_logo_wide_blue.png\", \"x\": 0.98, \"xanchor\": \"right\", \"xref\": \"paper\", \"y\": -0.12, \"yanchor\": \"bottom\", \"yref\": \"paper\"}, {\"sizex\": 0.12, \"sizey\": 0.12, \"source\": \"https://raw.githubusercontent.com/UBICenter/blog/master/jb/_static/ubi_center_logo_wide_blue.png\", \"x\": 0.98, \"xanchor\": \"right\", \"xref\": \"paper\", \"y\": -0.12, \"yanchor\": \"bottom\", \"yref\": \"paper\"}], \"legend\": {\"title\": {\"text\": \"\"}, \"tracegroupgap\": 0}, \"margin\": {\"t\": 60}, \"paper_bgcolor\": \"white\", \"plot_bgcolor\": \"white\", \"template\": {\"data\": {\"bar\": [{\"error_x\": {\"color\": \"#2a3f5f\"}, \"error_y\": {\"color\": \"#2a3f5f\"}, \"marker\": {\"line\": {\"color\": \"#E5ECF6\", \"width\": 0.5}}, \"type\": \"bar\"}], \"barpolar\": [{\"marker\": {\"line\": {\"color\": \"#E5ECF6\", \"width\": 0.5}}, \"type\": \"barpolar\"}], \"carpet\": [{\"aaxis\": {\"endlinecolor\": \"#2a3f5f\", \"gridcolor\": \"white\", \"linecolor\": \"white\", \"minorgridcolor\": \"white\", \"startlinecolor\": \"#2a3f5f\"}, \"baxis\": {\"endlinecolor\": \"#2a3f5f\", \"gridcolor\": \"white\", \"linecolor\": \"white\", \"minorgridcolor\": \"white\", \"startlinecolor\": \"#2a3f5f\"}, \"type\": \"carpet\"}], \"choropleth\": [{\"colorbar\": {\"outlinewidth\": 0, \"ticks\": \"\"}, \"type\": \"choropleth\"}], \"contour\": [{\"colorbar\": {\"outlinewidth\": 0, \"ticks\": \"\"}, \"colorscale\": [[0.0, \"#0d0887\"], [0.1111111111111111, \"#46039f\"], [0.2222222222222222, \"#7201a8\"], [0.3333333333333333, \"#9c179e\"], [0.4444444444444444, \"#bd3786\"], [0.5555555555555556, \"#d8576b\"], [0.6666666666666666, \"#ed7953\"], [0.7777777777777778, \"#fb9f3a\"], [0.8888888888888888, \"#fdca26\"], [1.0, \"#f0f921\"]], \"type\": \"contour\"}], \"contourcarpet\": [{\"colorbar\": {\"outlinewidth\": 0, \"ticks\": \"\"}, \"type\": \"contourcarpet\"}], \"heatmap\": [{\"colorbar\": {\"outlinewidth\": 0, \"ticks\": \"\"}, \"colorscale\": [[0.0, \"#0d0887\"], [0.1111111111111111, \"#46039f\"], [0.2222222222222222, \"#7201a8\"], [0.3333333333333333, \"#9c179e\"], [0.4444444444444444, \"#bd3786\"], [0.5555555555555556, \"#d8576b\"], [0.6666666666666666, \"#ed7953\"], [0.7777777777777778, \"#fb9f3a\"], [0.8888888888888888, \"#fdca26\"], [1.0, \"#f0f921\"]], \"type\": \"heatmap\"}], \"heatmapgl\": [{\"colorbar\": {\"outlinewidth\": 0, \"ticks\": \"\"}, \"colorscale\": [[0.0, \"#0d0887\"], [0.1111111111111111, \"#46039f\"], [0.2222222222222222, \"#7201a8\"], [0.3333333333333333, \"#9c179e\"], [0.4444444444444444, \"#bd3786\"], [0.5555555555555556, \"#d8576b\"], [0.6666666666666666, \"#ed7953\"], [0.7777777777777778, \"#fb9f3a\"], [0.8888888888888888, \"#fdca26\"], [1.0, \"#f0f921\"]], \"type\": \"heatmapgl\"}], \"histogram\": [{\"marker\": {\"colorbar\": {\"outlinewidth\": 0, \"ticks\": \"\"}}, \"type\": \"histogram\"}], \"histogram2d\": [{\"colorbar\": {\"outlinewidth\": 0, \"ticks\": \"\"}, \"colorscale\": [[0.0, \"#0d0887\"], [0.1111111111111111, \"#46039f\"], [0.2222222222222222, \"#7201a8\"], [0.3333333333333333, \"#9c179e\"], [0.4444444444444444, \"#bd3786\"], [0.5555555555555556, \"#d8576b\"], [0.6666666666666666, \"#ed7953\"], [0.7777777777777778, \"#fb9f3a\"], [0.8888888888888888, \"#fdca26\"], [1.0, \"#f0f921\"]], \"type\": \"histogram2d\"}], \"histogram2dcontour\": [{\"colorbar\": {\"outlinewidth\": 0, \"ticks\": \"\"}, \"colorscale\": [[0.0, \"#0d0887\"], [0.1111111111111111, \"#46039f\"], [0.2222222222222222, \"#7201a8\"], [0.3333333333333333, \"#9c179e\"], [0.4444444444444444, \"#bd3786\"], [0.5555555555555556, \"#d8576b\"], [0.6666666666666666, \"#ed7953\"], [0.7777777777777778, \"#fb9f3a\"], [0.8888888888888888, \"#fdca26\"], [1.0, \"#f0f921\"]], \"type\": \"histogram2dcontour\"}], \"mesh3d\": [{\"colorbar\": {\"outlinewidth\": 0, \"ticks\": \"\"}, \"type\": \"mesh3d\"}], \"parcoords\": [{\"line\": {\"colorbar\": {\"outlinewidth\": 0, \"ticks\": \"\"}}, \"type\": \"parcoords\"}], \"pie\": [{\"automargin\": true, \"type\": \"pie\"}], \"scatter\": [{\"marker\": {\"colorbar\": {\"outlinewidth\": 0, \"ticks\": \"\"}}, \"type\": \"scatter\"}], \"scatter3d\": [{\"line\": {\"colorbar\": {\"outlinewidth\": 0, \"ticks\": \"\"}}, \"marker\": {\"colorbar\": {\"outlinewidth\": 0, \"ticks\": \"\"}}, \"type\": \"scatter3d\"}], \"scattercarpet\": [{\"marker\": {\"colorbar\": {\"outlinewidth\": 0, \"ticks\": \"\"}}, \"type\": \"scattercarpet\"}], \"scattergeo\": [{\"marker\": {\"colorbar\": {\"outlinewidth\": 0, \"ticks\": \"\"}}, \"type\": \"scattergeo\"}], \"scattergl\": [{\"marker\": {\"colorbar\": {\"outlinewidth\": 0, \"ticks\": \"\"}}, \"type\": \"scattergl\"}], \"scattermapbox\": [{\"marker\": {\"colorbar\": {\"outlinewidth\": 0, \"ticks\": \"\"}}, \"type\": \"scattermapbox\"}], \"scatterpolar\": [{\"marker\": {\"colorbar\": {\"outlinewidth\": 0, \"ticks\": \"\"}}, \"type\": \"scatterpolar\"}], \"scatterpolargl\": [{\"marker\": {\"colorbar\": {\"outlinewidth\": 0, \"ticks\": \"\"}}, \"type\": \"scatterpolargl\"}], \"scatterternary\": [{\"marker\": {\"colorbar\": {\"outlinewidth\": 0, \"ticks\": \"\"}}, \"type\": \"scatterternary\"}], \"surface\": [{\"colorbar\": {\"outlinewidth\": 0, \"ticks\": \"\"}, \"colorscale\": [[0.0, \"#0d0887\"], [0.1111111111111111, \"#46039f\"], [0.2222222222222222, \"#7201a8\"], [0.3333333333333333, \"#9c179e\"], [0.4444444444444444, \"#bd3786\"], [0.5555555555555556, \"#d8576b\"], [0.6666666666666666, \"#ed7953\"], [0.7777777777777778, \"#fb9f3a\"], [0.8888888888888888, \"#fdca26\"], [1.0, \"#f0f921\"]], \"type\": \"surface\"}], \"table\": [{\"cells\": {\"fill\": {\"color\": \"#EBF0F8\"}, \"line\": {\"color\": \"white\"}}, \"header\": {\"fill\": {\"color\": \"#C8D4E3\"}, \"line\": {\"color\": \"white\"}}, \"type\": \"table\"}]}, \"layout\": {\"annotationdefaults\": {\"arrowcolor\": \"#2a3f5f\", \"arrowhead\": 0, \"arrowwidth\": 1}, \"autotypenumbers\": \"strict\", \"coloraxis\": {\"colorbar\": {\"outlinewidth\": 0, \"ticks\": \"\"}}, \"colorscale\": {\"diverging\": [[0, \"#8e0152\"], [0.1, \"#c51b7d\"], [0.2, \"#de77ae\"], [0.3, \"#f1b6da\"], [0.4, \"#fde0ef\"], [0.5, \"#f7f7f7\"], [0.6, \"#e6f5d0\"], [0.7, \"#b8e186\"], [0.8, \"#7fbc41\"], [0.9, \"#4d9221\"], [1, \"#276419\"]], \"sequential\": [[0.0, \"#0d0887\"], [0.1111111111111111, \"#46039f\"], [0.2222222222222222, \"#7201a8\"], [0.3333333333333333, \"#9c179e\"], [0.4444444444444444, \"#bd3786\"], [0.5555555555555556, \"#d8576b\"], [0.6666666666666666, \"#ed7953\"], [0.7777777777777778, \"#fb9f3a\"], [0.8888888888888888, \"#fdca26\"], [1.0, \"#f0f921\"]], \"sequentialminus\": [[0.0, \"#0d0887\"], [0.1111111111111111, \"#46039f\"], [0.2222222222222222, \"#7201a8\"], [0.3333333333333333, \"#9c179e\"], [0.4444444444444444, \"#bd3786\"], [0.5555555555555556, \"#d8576b\"], [0.6666666666666666, \"#ed7953\"], [0.7777777777777778, \"#fb9f3a\"], [0.8888888888888888, \"#fdca26\"], [1.0, \"#f0f921\"]]}, \"colorway\": [\"#636efa\", \"#EF553B\", \"#00cc96\", \"#ab63fa\", \"#FFA15A\", \"#19d3f3\", \"#FF6692\", \"#B6E880\", \"#FF97FF\", \"#FECB52\"], \"font\": {\"color\": \"#2a3f5f\"}, \"geo\": {\"bgcolor\": \"white\", \"lakecolor\": \"white\", \"landcolor\": \"#E5ECF6\", \"showlakes\": true, \"showland\": true, \"subunitcolor\": \"white\"}, \"hoverlabel\": {\"align\": \"left\"}, \"hovermode\": \"closest\", \"mapbox\": {\"style\": \"light\"}, \"paper_bgcolor\": \"white\", \"plot_bgcolor\": \"#E5ECF6\", \"polar\": {\"angularaxis\": {\"gridcolor\": \"white\", \"linecolor\": \"white\", \"ticks\": \"\"}, \"bgcolor\": \"#E5ECF6\", \"radialaxis\": {\"gridcolor\": \"white\", \"linecolor\": \"white\", \"ticks\": \"\"}}, \"scene\": {\"xaxis\": {\"backgroundcolor\": \"#E5ECF6\", \"gridcolor\": \"white\", \"gridwidth\": 2, \"linecolor\": \"white\", \"showbackground\": true, \"ticks\": \"\", \"zerolinecolor\": \"white\"}, \"yaxis\": {\"backgroundcolor\": \"#E5ECF6\", \"gridcolor\": \"white\", \"gridwidth\": 2, \"linecolor\": \"white\", \"showbackground\": true, \"ticks\": \"\", \"zerolinecolor\": \"white\"}, \"zaxis\": {\"backgroundcolor\": \"#E5ECF6\", \"gridcolor\": \"white\", \"gridwidth\": 2, \"linecolor\": \"white\", \"showbackground\": true, \"ticks\": \"\", \"zerolinecolor\": \"white\"}}, \"shapedefaults\": {\"line\": {\"color\": \"#2a3f5f\"}}, \"ternary\": {\"aaxis\": {\"gridcolor\": \"white\", \"linecolor\": \"white\", \"ticks\": \"\"}, \"baxis\": {\"gridcolor\": \"white\", \"linecolor\": \"white\", \"ticks\": \"\"}, \"bgcolor\": \"#E5ECF6\", \"caxis\": {\"gridcolor\": \"white\", \"linecolor\": \"white\", \"ticks\": \"\"}}, \"title\": {\"x\": 0.05}, \"xaxis\": {\"automargin\": true, \"gridcolor\": \"white\", \"linecolor\": \"white\", \"ticks\": \"\", \"title\": {\"standoff\": 15}, \"zerolinecolor\": \"white\", \"zerolinewidth\": 2}, \"yaxis\": {\"automargin\": true, \"gridcolor\": \"white\", \"linecolor\": \"white\", \"ticks\": \"\", \"title\": {\"standoff\": 15}, \"zerolinecolor\": \"white\", \"zerolinewidth\": 2}}}, \"title\": {\"font\": {\"size\": 20}, \"text\": \"Distribution of impacts within deciles\"}, \"width\": 1000, \"xaxis\": {\"anchor\": \"y\", \"domain\": [0.0, 1.0], \"tickfont\": {\"size\": 14}, \"tickformat\": \"%\", \"title\": {\"font\": {\"color\": \"black\", \"size\": 16}, \"text\": \"Population share of decile\"}}, \"yaxis\": {\"anchor\": \"x\", \"domain\": [0.0, 1.0], \"dtick\": 1, \"tickfont\": {\"size\": 14}, \"title\": {\"font\": {\"color\": \"black\", \"size\": 16}, \"text\": \"Person-weighted decile of baseline household equivalized income\"}}},                        {\"displayModeBar\": false, \"responsive\": true}                    ).then(function(){\n",
       "                            \n",
       "var gd = document.getElementById('c0a6d0e0-6ec8-4f97-adb3-3b1fe643b172');\n",
       "var x = new MutationObserver(function (mutations, observer) {{\n",
       "        var display = window.getComputedStyle(gd).display;\n",
       "        if (!display || display === 'none') {{\n",
       "            console.log([gd, 'removed!']);\n",
       "            Plotly.purge(gd);\n",
       "            observer.disconnect();\n",
       "        }}\n",
       "}});\n",
       "\n",
       "// Listen for the removal of the full notebook cells\n",
       "var notebookContainer = gd.closest('#notebook-container');\n",
       "if (notebookContainer) {{\n",
       "    x.observe(notebookContainer, {childList: true});\n",
       "}}\n",
       "\n",
       "// Listen for the clearing of the current output cell\n",
       "var outputEl = gd.closest('.output');\n",
       "if (outputEl) {{\n",
       "    x.observe(outputEl, {childList: true});\n",
       "}}\n",
       "\n",
       "                        })                };                });            </script>        </div>"
      ]
     },
     "metadata": {},
     "output_type": "display_data"
    }
   ],
   "source": [
    "import plotly.express as px\n",
    "fig = px.bar(chg_bucket1, \"share_of_decile\", \"decile\", color=\"household_net_income_pc_group\", orientation=\"h\", color_discrete_map=WITHIN_COLOR_MAP)\n",
    "fig.update_layout(title=\"Distribution of impacts within deciles\", yaxis_dtick=1, legend_title=\"\", xaxis_tickformat=\"%\", xaxis_title=\"Population share of decile\", yaxis_title=\"Person-weighted decile of baseline household equivalized income\")\n",
    "import ubicenter\n",
    "def ubi_chart(fig, name):\n",
    "    fig = ubicenter.format_fig(fig, show=False)\n",
    "    fig.write_image(f\"images/{name}.png\", scale=2)\n",
    "    ubicenter.format_fig(fig)\n",
    "ubi_chart(fig, \"dist1\")"
   ]
  },
  {
   "cell_type": "code",
   "execution_count": 5,
   "id": "american-clearance",
   "metadata": {},
   "outputs": [
    {
     "data": {
      "text/plain": [
       "microdf.generic.MicroDataFrame"
      ]
     },
     "execution_count": 5,
     "metadata": {},
     "output_type": "execute_result"
    }
   ],
   "source": [
    "h.reset_index().drop(\"index\", axis=1).__class__"
   ]
  },
  {
   "cell_type": "code",
   "execution_count": 6,
   "id": "drawn-lodge",
   "metadata": {},
   "outputs": [
    {
     "data": {
      "text/plain": [
       "reform\n",
       "1: Foundational        34792.426049\n",
       "2: Disability          34792.426049\n",
       "3: Disability + geo    34792.426049\n",
       "dtype: float64"
      ]
     },
     "execution_count": 6,
     "metadata": {},
     "output_type": "execute_result"
    }
   ],
   "source": [
    "h.groupby(\"reform\").equiv_household_net_income_base.mean()"
   ]
  },
  {
   "cell_type": "code",
   "execution_count": 7,
   "id": "banner-sleep",
   "metadata": {},
   "outputs": [
    {
     "data": {
      "text/plain": [
       "people_in_household    196435665.0\n",
       "dtype: float64"
      ]
     },
     "execution_count": 7,
     "metadata": {},
     "output_type": "execute_result"
    }
   ],
   "source": [
    "h[[\"people_in_household\"]].sum()"
   ]
  },
  {
   "cell_type": "code",
   "execution_count": 8,
   "id": "rising-prophet",
   "metadata": {},
   "outputs": [
    {
     "ename": "TypeError",
     "evalue": "can't multiply sequence by non-int of type 'float'",
     "output_type": "error",
     "traceback": [
      "\u001b[0;31m---------------------------------------------------------------------------\u001b[0m",
      "\u001b[0;31mTypeError\u001b[0m                                 Traceback (most recent call last)",
      "\u001b[0;32m<ipython-input-8-e1a68eb78213>\u001b[0m in \u001b[0;36m<module>\u001b[0;34m\u001b[0m\n\u001b[0;32m----> 1\u001b[0;31m \u001b[0mh\u001b[0m\u001b[0;34m.\u001b[0m\u001b[0mgroupby\u001b[0m\u001b[0;34m(\u001b[0m\u001b[0;34m\"decile\"\u001b[0m\u001b[0;34m)\u001b[0m\u001b[0;34m.\u001b[0m\u001b[0msum\u001b[0m\u001b[0;34m(\u001b[0m\u001b[0;34m)\u001b[0m\u001b[0;34m\u001b[0m\u001b[0;34m\u001b[0m\u001b[0m\n\u001b[0m",
      "\u001b[0;32m~/anaconda3/lib/python3.7/site-packages/microdf/generic.py\u001b[0m in \u001b[0;36mfn\u001b[0;34m(*args, **kwargs)\u001b[0m\n\u001b[1;32m    461\u001b[0m                                 \u001b[0;34m*\u001b[0m\u001b[0margs\u001b[0m\u001b[0;34m,\u001b[0m \u001b[0;34m**\u001b[0m\u001b[0mkwargs\u001b[0m\u001b[0;34m\u001b[0m\u001b[0;34m\u001b[0m\u001b[0m\n\u001b[1;32m    462\u001b[0m                             )\n\u001b[0;32m--> 463\u001b[0;31m                             \u001b[0;32mfor\u001b[0m \u001b[0mcol\u001b[0m \u001b[0;32min\u001b[0m \u001b[0mself\u001b[0m\u001b[0;34m.\u001b[0m\u001b[0mcolumns\u001b[0m\u001b[0;34m\u001b[0m\u001b[0;34m\u001b[0m\u001b[0m\n\u001b[0m\u001b[1;32m    464\u001b[0m                         }\n\u001b[1;32m    465\u001b[0m                     )\n",
      "\u001b[0;32m~/anaconda3/lib/python3.7/site-packages/microdf/generic.py\u001b[0m in \u001b[0;36m<dictcomp>\u001b[0;34m(.0)\u001b[0m\n\u001b[1;32m    461\u001b[0m                                 \u001b[0;34m*\u001b[0m\u001b[0margs\u001b[0m\u001b[0;34m,\u001b[0m \u001b[0;34m**\u001b[0m\u001b[0mkwargs\u001b[0m\u001b[0;34m\u001b[0m\u001b[0;34m\u001b[0m\u001b[0m\n\u001b[1;32m    462\u001b[0m                             )\n\u001b[0;32m--> 463\u001b[0;31m                             \u001b[0;32mfor\u001b[0m \u001b[0mcol\u001b[0m \u001b[0;32min\u001b[0m \u001b[0mself\u001b[0m\u001b[0;34m.\u001b[0m\u001b[0mcolumns\u001b[0m\u001b[0;34m\u001b[0m\u001b[0;34m\u001b[0m\u001b[0m\n\u001b[0m\u001b[1;32m    464\u001b[0m                         }\n\u001b[1;32m    465\u001b[0m                     )\n",
      "\u001b[0;32m~/anaconda3/lib/python3.7/site-packages/microdf/generic.py\u001b[0m in \u001b[0;36m_weighted_agg_fn\u001b[0;34m(*args, **kwargs)\u001b[0m\n\u001b[1;32m    423\u001b[0m                     result = df.agg(\n\u001b[1;32m    424\u001b[0m                         \u001b[0;32mlambda\u001b[0m \u001b[0mrow\u001b[0m\u001b[0;34m:\u001b[0m \u001b[0mvia_micro_series\u001b[0m\u001b[0;34m(\u001b[0m\u001b[0mrow\u001b[0m\u001b[0;34m,\u001b[0m \u001b[0;34m*\u001b[0m\u001b[0margs\u001b[0m\u001b[0;34m,\u001b[0m \u001b[0;34m**\u001b[0m\u001b[0mkwargs\u001b[0m\u001b[0;34m)\u001b[0m\u001b[0;34m,\u001b[0m\u001b[0;34m\u001b[0m\u001b[0;34m\u001b[0m\u001b[0m\n\u001b[0;32m--> 425\u001b[0;31m                         \u001b[0maxis\u001b[0m\u001b[0;34m=\u001b[0m\u001b[0;36m1\u001b[0m\u001b[0;34m,\u001b[0m\u001b[0;34m\u001b[0m\u001b[0;34m\u001b[0m\u001b[0m\n\u001b[0m\u001b[1;32m    426\u001b[0m                     )\n\u001b[1;32m    427\u001b[0m                 elif (\n",
      "\u001b[0;32m~/anaconda3/lib/python3.7/site-packages/pandas/core/frame.py\u001b[0m in \u001b[0;36maggregate\u001b[0;34m(self, func, axis, *args, **kwargs)\u001b[0m\n\u001b[1;32m   7372\u001b[0m             \u001b[0;32mraise\u001b[0m \u001b[0mexc\u001b[0m \u001b[0;32mfrom\u001b[0m \u001b[0merr\u001b[0m\u001b[0;34m\u001b[0m\u001b[0;34m\u001b[0m\u001b[0m\n\u001b[1;32m   7373\u001b[0m         \u001b[0;32mif\u001b[0m \u001b[0mresult\u001b[0m \u001b[0;32mis\u001b[0m \u001b[0;32mNone\u001b[0m\u001b[0;34m:\u001b[0m\u001b[0;34m\u001b[0m\u001b[0;34m\u001b[0m\u001b[0m\n\u001b[0;32m-> 7374\u001b[0;31m             \u001b[0;32mreturn\u001b[0m \u001b[0mself\u001b[0m\u001b[0;34m.\u001b[0m\u001b[0mapply\u001b[0m\u001b[0;34m(\u001b[0m\u001b[0mfunc\u001b[0m\u001b[0;34m,\u001b[0m \u001b[0maxis\u001b[0m\u001b[0;34m=\u001b[0m\u001b[0maxis\u001b[0m\u001b[0;34m,\u001b[0m \u001b[0margs\u001b[0m\u001b[0;34m=\u001b[0m\u001b[0margs\u001b[0m\u001b[0;34m,\u001b[0m \u001b[0;34m**\u001b[0m\u001b[0mkwargs\u001b[0m\u001b[0;34m)\u001b[0m\u001b[0;34m\u001b[0m\u001b[0;34m\u001b[0m\u001b[0m\n\u001b[0m\u001b[1;32m   7375\u001b[0m \u001b[0;34m\u001b[0m\u001b[0m\n\u001b[1;32m   7376\u001b[0m         \u001b[0;32mif\u001b[0m \u001b[0mrelabeling\u001b[0m\u001b[0;34m:\u001b[0m\u001b[0;34m\u001b[0m\u001b[0;34m\u001b[0m\u001b[0m\n",
      "\u001b[0;32m~/anaconda3/lib/python3.7/site-packages/pandas/core/frame.py\u001b[0m in \u001b[0;36mapply\u001b[0;34m(self, func, axis, raw, result_type, args, **kwds)\u001b[0m\n\u001b[1;32m   7550\u001b[0m             \u001b[0mkwds\u001b[0m\u001b[0;34m=\u001b[0m\u001b[0mkwds\u001b[0m\u001b[0;34m,\u001b[0m\u001b[0;34m\u001b[0m\u001b[0;34m\u001b[0m\u001b[0m\n\u001b[1;32m   7551\u001b[0m         )\n\u001b[0;32m-> 7552\u001b[0;31m         \u001b[0;32mreturn\u001b[0m \u001b[0mop\u001b[0m\u001b[0;34m.\u001b[0m\u001b[0mget_result\u001b[0m\u001b[0;34m(\u001b[0m\u001b[0;34m)\u001b[0m\u001b[0;34m\u001b[0m\u001b[0;34m\u001b[0m\u001b[0m\n\u001b[0m\u001b[1;32m   7553\u001b[0m \u001b[0;34m\u001b[0m\u001b[0m\n\u001b[1;32m   7554\u001b[0m     \u001b[0;32mdef\u001b[0m \u001b[0mapplymap\u001b[0m\u001b[0;34m(\u001b[0m\u001b[0mself\u001b[0m\u001b[0;34m,\u001b[0m \u001b[0mfunc\u001b[0m\u001b[0;34m)\u001b[0m \u001b[0;34m->\u001b[0m \u001b[0;34m\"DataFrame\"\u001b[0m\u001b[0;34m:\u001b[0m\u001b[0;34m\u001b[0m\u001b[0;34m\u001b[0m\u001b[0m\n",
      "\u001b[0;32m~/anaconda3/lib/python3.7/site-packages/pandas/core/apply.py\u001b[0m in \u001b[0;36mget_result\u001b[0;34m(self)\u001b[0m\n\u001b[1;32m    178\u001b[0m             \u001b[0;32mreturn\u001b[0m \u001b[0mself\u001b[0m\u001b[0;34m.\u001b[0m\u001b[0mapply_raw\u001b[0m\u001b[0;34m(\u001b[0m\u001b[0;34m)\u001b[0m\u001b[0;34m\u001b[0m\u001b[0;34m\u001b[0m\u001b[0m\n\u001b[1;32m    179\u001b[0m \u001b[0;34m\u001b[0m\u001b[0m\n\u001b[0;32m--> 180\u001b[0;31m         \u001b[0;32mreturn\u001b[0m \u001b[0mself\u001b[0m\u001b[0;34m.\u001b[0m\u001b[0mapply_standard\u001b[0m\u001b[0;34m(\u001b[0m\u001b[0;34m)\u001b[0m\u001b[0;34m\u001b[0m\u001b[0;34m\u001b[0m\u001b[0m\n\u001b[0m\u001b[1;32m    181\u001b[0m \u001b[0;34m\u001b[0m\u001b[0m\n\u001b[1;32m    182\u001b[0m     \u001b[0;32mdef\u001b[0m \u001b[0mapply_empty_result\u001b[0m\u001b[0;34m(\u001b[0m\u001b[0mself\u001b[0m\u001b[0;34m)\u001b[0m\u001b[0;34m:\u001b[0m\u001b[0;34m\u001b[0m\u001b[0;34m\u001b[0m\u001b[0m\n",
      "\u001b[0;32m~/anaconda3/lib/python3.7/site-packages/pandas/core/apply.py\u001b[0m in \u001b[0;36mapply_standard\u001b[0;34m(self)\u001b[0m\n\u001b[1;32m    269\u001b[0m \u001b[0;34m\u001b[0m\u001b[0m\n\u001b[1;32m    270\u001b[0m     \u001b[0;32mdef\u001b[0m \u001b[0mapply_standard\u001b[0m\u001b[0;34m(\u001b[0m\u001b[0mself\u001b[0m\u001b[0;34m)\u001b[0m\u001b[0;34m:\u001b[0m\u001b[0;34m\u001b[0m\u001b[0;34m\u001b[0m\u001b[0m\n\u001b[0;32m--> 271\u001b[0;31m         \u001b[0mresults\u001b[0m\u001b[0;34m,\u001b[0m \u001b[0mres_index\u001b[0m \u001b[0;34m=\u001b[0m \u001b[0mself\u001b[0m\u001b[0;34m.\u001b[0m\u001b[0mapply_series_generator\u001b[0m\u001b[0;34m(\u001b[0m\u001b[0;34m)\u001b[0m\u001b[0;34m\u001b[0m\u001b[0;34m\u001b[0m\u001b[0m\n\u001b[0m\u001b[1;32m    272\u001b[0m \u001b[0;34m\u001b[0m\u001b[0m\n\u001b[1;32m    273\u001b[0m         \u001b[0;31m# wrap results\u001b[0m\u001b[0;34m\u001b[0m\u001b[0;34m\u001b[0m\u001b[0;34m\u001b[0m\u001b[0m\n",
      "\u001b[0;32m~/anaconda3/lib/python3.7/site-packages/pandas/core/apply.py\u001b[0m in \u001b[0;36mapply_series_generator\u001b[0;34m(self)\u001b[0m\n\u001b[1;32m    298\u001b[0m                 \u001b[0;32mfor\u001b[0m \u001b[0mi\u001b[0m\u001b[0;34m,\u001b[0m \u001b[0mv\u001b[0m \u001b[0;32min\u001b[0m \u001b[0menumerate\u001b[0m\u001b[0;34m(\u001b[0m\u001b[0mseries_gen\u001b[0m\u001b[0;34m)\u001b[0m\u001b[0;34m:\u001b[0m\u001b[0;34m\u001b[0m\u001b[0;34m\u001b[0m\u001b[0m\n\u001b[1;32m    299\u001b[0m                     \u001b[0;31m# ignore SettingWithCopy here in case the user mutates\u001b[0m\u001b[0;34m\u001b[0m\u001b[0;34m\u001b[0m\u001b[0;34m\u001b[0m\u001b[0m\n\u001b[0;32m--> 300\u001b[0;31m                     \u001b[0mresults\u001b[0m\u001b[0;34m[\u001b[0m\u001b[0mi\u001b[0m\u001b[0;34m]\u001b[0m \u001b[0;34m=\u001b[0m \u001b[0mself\u001b[0m\u001b[0;34m.\u001b[0m\u001b[0mf\u001b[0m\u001b[0;34m(\u001b[0m\u001b[0mv\u001b[0m\u001b[0;34m)\u001b[0m\u001b[0;34m\u001b[0m\u001b[0;34m\u001b[0m\u001b[0m\n\u001b[0m\u001b[1;32m    301\u001b[0m                     \u001b[0;32mif\u001b[0m \u001b[0misinstance\u001b[0m\u001b[0;34m(\u001b[0m\u001b[0mresults\u001b[0m\u001b[0;34m[\u001b[0m\u001b[0mi\u001b[0m\u001b[0;34m]\u001b[0m\u001b[0;34m,\u001b[0m \u001b[0mABCSeries\u001b[0m\u001b[0;34m)\u001b[0m\u001b[0;34m:\u001b[0m\u001b[0;34m\u001b[0m\u001b[0;34m\u001b[0m\u001b[0m\n\u001b[1;32m    302\u001b[0m                         \u001b[0;31m# If we have a view on v, we need to make a copy because\u001b[0m\u001b[0;34m\u001b[0m\u001b[0;34m\u001b[0m\u001b[0;34m\u001b[0m\u001b[0m\n",
      "\u001b[0;32m~/anaconda3/lib/python3.7/site-packages/microdf/generic.py\u001b[0m in \u001b[0;36m<lambda>\u001b[0;34m(row)\u001b[0m\n\u001b[1;32m    422\u001b[0m                 ):\n\u001b[1;32m    423\u001b[0m                     result = df.agg(\n\u001b[0;32m--> 424\u001b[0;31m                         \u001b[0;32mlambda\u001b[0m \u001b[0mrow\u001b[0m\u001b[0;34m:\u001b[0m \u001b[0mvia_micro_series\u001b[0m\u001b[0;34m(\u001b[0m\u001b[0mrow\u001b[0m\u001b[0;34m,\u001b[0m \u001b[0;34m*\u001b[0m\u001b[0margs\u001b[0m\u001b[0;34m,\u001b[0m \u001b[0;34m**\u001b[0m\u001b[0mkwargs\u001b[0m\u001b[0;34m)\u001b[0m\u001b[0;34m,\u001b[0m\u001b[0;34m\u001b[0m\u001b[0;34m\u001b[0m\u001b[0m\n\u001b[0m\u001b[1;32m    425\u001b[0m                         \u001b[0maxis\u001b[0m\u001b[0;34m=\u001b[0m\u001b[0;36m1\u001b[0m\u001b[0;34m,\u001b[0m\u001b[0;34m\u001b[0m\u001b[0;34m\u001b[0m\u001b[0m\n\u001b[1;32m    426\u001b[0m                     )\n",
      "\u001b[0;32m~/anaconda3/lib/python3.7/site-packages/microdf/generic.py\u001b[0m in \u001b[0;36mvia_micro_series\u001b[0;34m(row, *args, **kwargs)\u001b[0m\n\u001b[1;32m    405\u001b[0m             \u001b[0;32mdef\u001b[0m \u001b[0mvia_micro_series\u001b[0m\u001b[0;34m(\u001b[0m\u001b[0mrow\u001b[0m\u001b[0;34m,\u001b[0m \u001b[0;34m*\u001b[0m\u001b[0margs\u001b[0m\u001b[0;34m,\u001b[0m \u001b[0;34m**\u001b[0m\u001b[0mkwargs\u001b[0m\u001b[0;34m)\u001b[0m\u001b[0;34m:\u001b[0m\u001b[0;34m\u001b[0m\u001b[0;34m\u001b[0m\u001b[0m\n\u001b[1;32m    406\u001b[0m                 return getattr(MicroSeries(row.a, weights=row.w), name)(\n\u001b[0;32m--> 407\u001b[0;31m                     \u001b[0;34m*\u001b[0m\u001b[0margs\u001b[0m\u001b[0;34m,\u001b[0m \u001b[0;34m**\u001b[0m\u001b[0mkwargs\u001b[0m\u001b[0;34m\u001b[0m\u001b[0;34m\u001b[0m\u001b[0m\n\u001b[0m\u001b[1;32m    408\u001b[0m                 )\n\u001b[1;32m    409\u001b[0m \u001b[0;34m\u001b[0m\u001b[0m\n",
      "\u001b[0;32m~/anaconda3/lib/python3.7/site-packages/microdf/generic.py\u001b[0m in \u001b[0;36msum\u001b[0;34m(self)\u001b[0m\n\u001b[1;32m     64\u001b[0m         \u001b[0;34m:\u001b[0m\u001b[0mrtype\u001b[0m\u001b[0;34m:\u001b[0m \u001b[0mfloat\u001b[0m\u001b[0;34m\u001b[0m\u001b[0;34m\u001b[0m\u001b[0m\n\u001b[1;32m     65\u001b[0m         \"\"\"\n\u001b[0;32m---> 66\u001b[0;31m         \u001b[0;32mreturn\u001b[0m \u001b[0mself\u001b[0m\u001b[0;34m.\u001b[0m\u001b[0mmultiply\u001b[0m\u001b[0;34m(\u001b[0m\u001b[0mself\u001b[0m\u001b[0;34m.\u001b[0m\u001b[0mweights\u001b[0m\u001b[0;34m)\u001b[0m\u001b[0;34m.\u001b[0m\u001b[0msum\u001b[0m\u001b[0;34m(\u001b[0m\u001b[0;34m)\u001b[0m\u001b[0;34m\u001b[0m\u001b[0;34m\u001b[0m\u001b[0m\n\u001b[0m\u001b[1;32m     67\u001b[0m \u001b[0;34m\u001b[0m\u001b[0m\n\u001b[1;32m     68\u001b[0m     \u001b[0;34m@\u001b[0m\u001b[0mscalar_function\u001b[0m\u001b[0;34m\u001b[0m\u001b[0;34m\u001b[0m\u001b[0m\n",
      "\u001b[0;32m~/anaconda3/lib/python3.7/site-packages/pandas/core/ops/__init__.py\u001b[0m in \u001b[0;36mflex_wrapper\u001b[0;34m(self, other, level, fill_value, axis)\u001b[0m\n\u001b[1;32m    411\u001b[0m \u001b[0;34m\u001b[0m\u001b[0m\n\u001b[1;32m    412\u001b[0m         \u001b[0;32mif\u001b[0m \u001b[0misinstance\u001b[0m\u001b[0;34m(\u001b[0m\u001b[0mother\u001b[0m\u001b[0;34m,\u001b[0m \u001b[0mABCSeries\u001b[0m\u001b[0;34m)\u001b[0m\u001b[0;34m:\u001b[0m\u001b[0;34m\u001b[0m\u001b[0;34m\u001b[0m\u001b[0m\n\u001b[0;32m--> 413\u001b[0;31m             \u001b[0;32mreturn\u001b[0m \u001b[0mself\u001b[0m\u001b[0;34m.\u001b[0m\u001b[0m_binop\u001b[0m\u001b[0;34m(\u001b[0m\u001b[0mother\u001b[0m\u001b[0;34m,\u001b[0m \u001b[0mop\u001b[0m\u001b[0;34m,\u001b[0m \u001b[0mlevel\u001b[0m\u001b[0;34m=\u001b[0m\u001b[0mlevel\u001b[0m\u001b[0;34m,\u001b[0m \u001b[0mfill_value\u001b[0m\u001b[0;34m=\u001b[0m\u001b[0mfill_value\u001b[0m\u001b[0;34m)\u001b[0m\u001b[0;34m\u001b[0m\u001b[0;34m\u001b[0m\u001b[0m\n\u001b[0m\u001b[1;32m    414\u001b[0m         \u001b[0;32melif\u001b[0m \u001b[0misinstance\u001b[0m\u001b[0;34m(\u001b[0m\u001b[0mother\u001b[0m\u001b[0;34m,\u001b[0m \u001b[0;34m(\u001b[0m\u001b[0mnp\u001b[0m\u001b[0;34m.\u001b[0m\u001b[0mndarray\u001b[0m\u001b[0;34m,\u001b[0m \u001b[0mlist\u001b[0m\u001b[0;34m,\u001b[0m \u001b[0mtuple\u001b[0m\u001b[0;34m)\u001b[0m\u001b[0;34m)\u001b[0m\u001b[0;34m:\u001b[0m\u001b[0;34m\u001b[0m\u001b[0;34m\u001b[0m\u001b[0m\n\u001b[1;32m    415\u001b[0m             \u001b[0;32mif\u001b[0m \u001b[0mlen\u001b[0m\u001b[0;34m(\u001b[0m\u001b[0mother\u001b[0m\u001b[0;34m)\u001b[0m \u001b[0;34m!=\u001b[0m \u001b[0mlen\u001b[0m\u001b[0;34m(\u001b[0m\u001b[0mself\u001b[0m\u001b[0;34m)\u001b[0m\u001b[0;34m:\u001b[0m\u001b[0;34m\u001b[0m\u001b[0;34m\u001b[0m\u001b[0m\n",
      "\u001b[0;32m~/anaconda3/lib/python3.7/site-packages/pandas/core/series.py\u001b[0m in \u001b[0;36m_binop\u001b[0;34m(self, other, func, level, fill_value)\u001b[0m\n\u001b[1;32m   2732\u001b[0m \u001b[0;34m\u001b[0m\u001b[0m\n\u001b[1;32m   2733\u001b[0m         \u001b[0;32mwith\u001b[0m \u001b[0mnp\u001b[0m\u001b[0;34m.\u001b[0m\u001b[0merrstate\u001b[0m\u001b[0;34m(\u001b[0m\u001b[0mall\u001b[0m\u001b[0;34m=\u001b[0m\u001b[0;34m\"ignore\"\u001b[0m\u001b[0;34m)\u001b[0m\u001b[0;34m:\u001b[0m\u001b[0;34m\u001b[0m\u001b[0;34m\u001b[0m\u001b[0m\n\u001b[0;32m-> 2734\u001b[0;31m             \u001b[0mresult\u001b[0m \u001b[0;34m=\u001b[0m \u001b[0mfunc\u001b[0m\u001b[0;34m(\u001b[0m\u001b[0mthis_vals\u001b[0m\u001b[0;34m,\u001b[0m \u001b[0mother_vals\u001b[0m\u001b[0;34m)\u001b[0m\u001b[0;34m\u001b[0m\u001b[0;34m\u001b[0m\u001b[0m\n\u001b[0m\u001b[1;32m   2735\u001b[0m \u001b[0;34m\u001b[0m\u001b[0m\n\u001b[1;32m   2736\u001b[0m         \u001b[0mname\u001b[0m \u001b[0;34m=\u001b[0m \u001b[0mops\u001b[0m\u001b[0;34m.\u001b[0m\u001b[0mget_op_result_name\u001b[0m\u001b[0;34m(\u001b[0m\u001b[0mself\u001b[0m\u001b[0;34m,\u001b[0m \u001b[0mother\u001b[0m\u001b[0;34m)\u001b[0m\u001b[0;34m\u001b[0m\u001b[0;34m\u001b[0m\u001b[0m\n",
      "\u001b[0;31mTypeError\u001b[0m: can't multiply sequence by non-int of type 'float'"
     ]
    }
   ],
   "source": [
    "h.groupby(\"decile\").sum()"
   ]
  },
  {
   "cell_type": "code",
   "execution_count": null,
   "id": "informal-bikini",
   "metadata": {},
   "outputs": [],
   "source": [
    "h.reform.rank()"
   ]
  },
  {
   "cell_type": "code",
   "execution_count": null,
   "id": "quality-future",
   "metadata": {},
   "outputs": [],
   "source": [
    "d = mdf.MicroDataFrame({\"x\": [1, 2, 3]}, index=[1, 1, 2], weights=pd.Series([4, 5, 6], index=[1, 1, 2]))"
   ]
  },
  {
   "cell_type": "code",
   "execution_count": null,
   "id": "separate-saying",
   "metadata": {},
   "outputs": [],
   "source": [
    "d.gini()"
   ]
  },
  {
   "cell_type": "code",
   "execution_count": null,
   "id": "suspended-castle",
   "metadata": {},
   "outputs": [],
   "source": [
    "h = h.reset_index().drop(\"index\", axis=1)"
   ]
  },
  {
   "cell_type": "code",
   "execution_count": null,
   "id": "express-store",
   "metadata": {},
   "outputs": [],
   "source": [
    "h.index"
   ]
  },
  {
   "cell_type": "code",
   "execution_count": null,
   "id": "brief-glucose",
   "metadata": {},
   "outputs": [],
   "source": [
    "h[h.household_net_income_base > 0][[\"reform\", \"decile\", \"household_net_income_base\", \"household_net_income\", \"household_weight\"]].groupby(\"reform\").sum()"
   ]
  },
  {
   "cell_type": "code",
   "execution_count": null,
   "id": "associate-practice",
   "metadata": {},
   "outputs": [],
   "source": [
    "h[h.household_net_income_base > 0][[\"reform\", \"decile\", \"household_net_income_base\", \"household_net_income\", \"household_weight\"]].groupby([\"reform\", \"decile\"]).sum()"
   ]
  },
  {
   "cell_type": "code",
   "execution_count": null,
   "id": "annual-advocate",
   "metadata": {},
   "outputs": [],
   "source": [
    "decile = (\n",
    "        # Remove non-positive income, for whom income change is unhelpful.\n",
    "        h[h.household_net_income_base > 0]\n",
    "        .groupby([\"reform\", \"decile\"])[\n",
    "            [\n",
    "                \"household_net_income_base\",\n",
    "                \"household_net_income\",\n",
    "                \"household_weight\",\n",
    "            ]\n",
    "        ]\n",
    "        .sum()\n",
    "        .reset_index()\n",
    "    )\n",
    "decile[\"chg\"] = (\n",
    "    decile.household_net_income - decile.household_net_income_base\n",
    ")\n",
    "decile[\"chg_per_hh\"] = decile.chg / decile.household_weight\n",
    "decile[\"pc\"] = decile.chg / decile.household_net_income_base"
   ]
  },
  {
   "cell_type": "code",
   "execution_count": null,
   "id": "handy-walnut",
   "metadata": {},
   "outputs": [],
   "source": [
    "pd.DataFrame(hh_base).groupby(\"decile\").person_weight.sum()"
   ]
  },
  {
   "cell_type": "code",
   "execution_count": null,
   "id": "german-andorra",
   "metadata": {},
   "outputs": [],
   "source": [
    "hh_base.equiv_household_net_income_base < (295 * 52)"
   ]
  },
  {
   "cell_type": "code",
   "execution_count": null,
   "id": "phantom-rover",
   "metadata": {},
   "outputs": [],
   "source": [
    "((hh_base.equiv_household_net_income_base < (295 * 52)) != hh_base.in_poverty_bhc).mean()"
   ]
  },
  {
   "cell_type": "code",
   "execution_count": null,
   "id": "furnished-gazette",
   "metadata": {},
   "outputs": [],
   "source": [
    "(hh_base.equiv_household_net_income_base < hh_base.poverty_line_bhc) != hh_base.in_poverty_bhc"
   ]
  },
  {
   "cell_type": "code",
   "execution_count": null,
   "id": "tender-quantity",
   "metadata": {},
   "outputs": [],
   "source": [
    "o.tools.aggregates.poverty_rate(baseline_sim)"
   ]
  }
 ],
 "metadata": {
  "kernelspec": {
   "display_name": "Python 3",
   "language": "python",
   "name": "python3"
  },
  "language_info": {
   "codemirror_mode": {
    "name": "ipython",
    "version": 3
   },
   "file_extension": ".py",
   "mimetype": "text/x-python",
   "name": "python",
   "nbconvert_exporter": "python",
   "pygments_lexer": "ipython3",
   "version": "3.7.10"
  }
 },
 "nbformat": 4,
 "nbformat_minor": 5
}
