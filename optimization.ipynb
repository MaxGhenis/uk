{
 "cells": [
  {
   "cell_type": "code",
   "execution_count": 1,
   "metadata": {
    "id": "TLKfx4iG98DY"
   },
   "outputs": [],
   "source": [
    "# Required imports.\n",
    "from py import calc_ubi\n",
    "from py.loss_functions import loss_metrics\n",
    "from py.optimize import optimize\n",
    "\n",
    "import pandas as pd"
   ]
  },
  {
   "cell_type": "code",
   "execution_count": 2,
   "metadata": {
    "colab": {
     "base_uri": "https://localhost:8080/"
    },
    "id": "IpjEW-rk-C-G",
    "outputId": "a25bcdef-6b01-4139-ad78-695ace3943f3"
   },
   "outputs": [
    {
     "name": "stdout",
     "output_type": "stream",
     "text": [
      "{'senior': (40, 240), 'child': (40, 240), 'dis_base': (0, 100), 'dis_severe': (0, 100), 'dis_enhanced': (0, 100), 'NORTH_EAST': (-50, 50), 'NORTH_WEST': (-50, 50), 'YORKSHIRE': (-50, 50), 'EAST_MIDLANDS': (-50, 50), 'WEST_MIDLANDS': (-50, 50), 'EAST_OF_ENGLAND': (-50, 50), 'LONDON': (-50, 50), 'SOUTH_EAST': (-50, 50), 'SOUTH_WEST': (-50, 50), 'WALES': (-50, 50), 'SCOTLAND': (-50, 50), 'NORTHERN_IRELAND': (-50, 50)}\n"
     ]
    }
   ],
   "source": [
    "AGE_CATEGORIES = [\"senior\", \"child\"]\n",
    "DIS_CATEGORIES = [\"dis_base\", \"dis_severe\", \"dis_enhanced\"]\n",
    "REGIONS = [\n",
    "    \"NORTH_EAST\",\n",
    "    \"NORTH_WEST\",\n",
    "    \"YORKSHIRE\",\n",
    "    \"EAST_MIDLANDS\",\n",
    "    \"WEST_MIDLANDS\",\n",
    "    \"EAST_OF_ENGLAND\",\n",
    "    \"LONDON\",\n",
    "    \"SOUTH_EAST\",\n",
    "    \"SOUTH_WEST\",\n",
    "    \"WALES\",\n",
    "    \"SCOTLAND\",\n",
    "    \"NORTHERN_IRELAND\",\n",
    "]\n",
    "categories = AGE_CATEGORIES + DIS_CATEGORIES + REGIONS\n",
    "\n",
    "# Define bounds\n",
    "AGE_BOUNDS = (40, 240)  # Child, working-age adult, senior.\n",
    "DIS_BOUNDS = (0, 100)  # Base, severe, and enhanced disability UBI supplements.\n",
    "GEO_BOUNDS = (-50, 50)  # Will be relative to a baseline geo.\n",
    "# Skip adult which is calculated.\n",
    "bounds = ([AGE_BOUNDS] * len(AGE_CATEGORIES) +\n",
    "          [DIS_BOUNDS] * len(DIS_CATEGORIES) +\n",
    "          [GEO_BOUNDS] * len(REGIONS))\n",
    "\n",
    "input_dict = {category: bound for category, bound in zip(categories, bounds)}\n",
    "print(input_dict)"
   ]
  },
  {
   "cell_type": "code",
   "execution_count": 3,
   "metadata": {},
   "outputs": [],
   "source": [
    "def opt(reform):\n",
    "    return optimize(input_dict, \"mean_pct_loss\", reform,\n",
    "                    verbose=False, maxiter=None, seed=0,\n",
    "                    # reform_3 > reform_2 with default of 0.01, or 0.005.\n",
    "                    tol=0.001)"
   ]
  },
  {
   "cell_type": "code",
   "execution_count": 4,
   "metadata": {
    "colab": {
     "base_uri": "https://localhost:8080/"
    },
    "id": "US_TgMgmmrRX",
    "outputId": "65fe601b-0015-4b79-8bb5-e47d25af0fb9",
    "scrolled": false
   },
   "outputs": [
    {
     "name": "stdout",
     "output_type": "stream",
     "text": [
      "Loss by all metrics:\n",
      " loser_share           4.515000e-01\n",
      "losses                1.401599e+11\n",
      "mean_pct_loss         5.190000e-02\n",
      "mean_pct_loss_pwd2    5.910000e-02\n",
      "gini                  2.749000e-01\n",
      "dtype: float64 \n",
      "\n",
      "Optimal mean_pct_loss: 0.0519 \n",
      "\n",
      "Optimal solution:\n",
      " adult               124\n",
      "senior              205\n",
      "child                76\n",
      "dis_base              0\n",
      "dis_severe            0\n",
      "dis_enhanced          0\n",
      "NORTH_EAST            0\n",
      "NORTH_WEST            0\n",
      "YORKSHIRE             0\n",
      "EAST_MIDLANDS         0\n",
      "WEST_MIDLANDS         0\n",
      "EAST_OF_ENGLAND       0\n",
      "LONDON                0\n",
      "SOUTH_EAST            0\n",
      "SOUTH_WEST            0\n",
      "WALES                 0\n",
      "SCOTLAND              0\n",
      "NORTHERN_IRELAND      0\n",
      "dtype: int64\n",
      "     fun: 0.05193291339399926\n",
      " message: 'Optimization terminated successfully.'\n",
      "    nfev: 2841\n",
      "     nit: 10\n",
      " success: True\n",
      "       x: array([205.22258067,  75.59287535,   0.        ,   0.        ,\n",
      "         0.        ,   0.        ,   0.        ,   0.        ,\n",
      "         0.        ,   0.        ,   0.        ,   0.        ,\n",
      "         0.        ,   0.        ,   0.        ,   0.        ,\n",
      "         0.        ])\n",
      "CPU times: user 2min 5s, sys: 10.9 s, total: 2min 16s\n",
      "Wall time: 2min 13s\n"
     ]
    }
   ],
   "source": [
    "%%time\n",
    "reform_1 = opt(\"reform_1\")\n",
    "print(reform_1[0])  # OptimizeResult."
   ]
  },
  {
   "cell_type": "code",
   "execution_count": 5,
   "metadata": {
    "colab": {
     "base_uri": "https://localhost:8080/"
    },
    "id": "T0-cLB1PKK5o",
    "outputId": "8d0d68cb-3bea-46f1-a363-52450f677b15"
   },
   "outputs": [
    {
     "name": "stdout",
     "output_type": "stream",
     "text": [
      "Loss by all metrics:\n",
      " loser_share           4.530000e-01\n",
      "losses                1.420697e+11\n",
      "mean_pct_loss         4.960000e-02\n",
      "mean_pct_loss_pwd2    5.330000e-02\n",
      "gini                  2.702000e-01\n",
      "dtype: float64 \n",
      "\n",
      "Optimal mean_pct_loss: 0.0496 \n",
      "\n",
      "Optimal solution:\n",
      " adult               119\n",
      "senior              204\n",
      "child                78\n",
      "dis_base             95\n",
      "dis_severe            1\n",
      "dis_enhanced          1\n",
      "NORTH_EAST            0\n",
      "NORTH_WEST            0\n",
      "YORKSHIRE             0\n",
      "EAST_MIDLANDS         0\n",
      "WEST_MIDLANDS         0\n",
      "EAST_OF_ENGLAND       0\n",
      "LONDON                0\n",
      "SOUTH_EAST            0\n",
      "SOUTH_WEST            0\n",
      "WALES                 0\n",
      "SCOTLAND              0\n",
      "NORTHERN_IRELAND      0\n",
      "dtype: int64\n",
      "     fun: 0.04964600533389416\n",
      " message: 'Optimization terminated successfully.'\n",
      "    nfev: 4881\n",
      "     nit: 18\n",
      " success: True\n",
      "       x: array([204.42660757,  77.6707806 ,  95.11091214,   1.29386508,\n",
      "         1.48564273,   0.        ,   0.        ,   0.        ,\n",
      "         0.        ,   0.        ,   0.        ,   0.        ,\n",
      "         0.        ,   0.        ,   0.        ,   0.        ,\n",
      "         0.        ])\n",
      "CPU times: user 3min 36s, sys: 16.1 s, total: 3min 52s\n",
      "Wall time: 3min 47s\n"
     ]
    }
   ],
   "source": [
    "%%time\n",
    "reform_2 = opt(\"reform_2\")\n",
    "print(reform_2[0])  # OptimizeResult."
   ]
  },
  {
   "cell_type": "code",
   "execution_count": 6,
   "metadata": {
    "colab": {
     "base_uri": "https://localhost:8080/"
    },
    "id": "ofIfMhuMUVOy",
    "outputId": "8ff83e5b-0a48-446f-cd6d-3a9c5200ab93"
   },
   "outputs": [
    {
     "name": "stdout",
     "output_type": "stream",
     "text": [
      "Loss by all metrics:\n",
      " loser_share           4.536000e-01\n",
      "losses                1.424248e+11\n",
      "mean_pct_loss         4.960000e-02\n",
      "mean_pct_loss_pwd2    5.310000e-02\n",
      "gini                  2.699000e-01\n",
      "dtype: float64 \n",
      "\n",
      "Optimal mean_pct_loss: 0.0496 \n",
      "\n",
      "Optimal solution:\n",
      " adult               113\n",
      "senior              200\n",
      "child                73\n",
      "dis_base             98\n",
      "dis_severe            3\n",
      "dis_enhanced          0\n",
      "NORTH_EAST            7\n",
      "NORTH_WEST            9\n",
      "YORKSHIRE             0\n",
      "EAST_MIDLANDS         7\n",
      "WEST_MIDLANDS         6\n",
      "EAST_OF_ENGLAND       2\n",
      "LONDON                8\n",
      "SOUTH_EAST            1\n",
      "SOUTH_WEST           10\n",
      "WALES                 4\n",
      "SCOTLAND              6\n",
      "NORTHERN_IRELAND      9\n",
      "dtype: int64\n",
      "     fun: 0.049608217299912764\n",
      " message: 'Optimization terminated successfully.'\n",
      "    nfev: 16101\n",
      "     nit: 62\n",
      " success: True\n",
      "       x: array([208.74918757,  82.18154776,  97.84394976,   2.86254812,\n",
      "         0.45167836,  -2.40476102,   0.27217166,  -8.95768311,\n",
      "        -1.86305005,  -2.62512227,  -7.35344614,  -0.93984648,\n",
      "        -7.48633831,   0.9047686 ,  -4.98649767,  -2.81877288,\n",
      "         0.        ])\n",
      "CPU times: user 11min 45s, sys: 53.4 s, total: 12min 39s\n",
      "Wall time: 12min 24s\n"
     ]
    }
   ],
   "source": [
    "%%time\n",
    "reform_3 = opt(\"reform_3\")\n",
    "print(reform_3[0])  # OptimizeResult."
   ]
  },
  {
   "cell_type": "markdown",
   "metadata": {},
   "source": [
    "Check that iterations improve."
   ]
  },
  {
   "cell_type": "code",
   "execution_count": 7,
   "metadata": {},
   "outputs": [],
   "source": [
    "assert reform_2[0].fun < reform_1[0].fun, \"Reform 2 doesn't improve on 1\"\n",
    "assert reform_3[0].fun < reform_2[0].fun, \"Reform 3 doesn't improve on 2\""
   ]
  },
  {
   "cell_type": "markdown",
   "metadata": {},
   "source": [
    "Construct DataFrame to export, with parameter and optimization values."
   ]
  },
  {
   "cell_type": "code",
   "execution_count": 8,
   "metadata": {},
   "outputs": [
    {
     "data": {
      "text/html": [
       "<div>\n",
       "<style scoped>\n",
       "    .dataframe tbody tr th:only-of-type {\n",
       "        vertical-align: middle;\n",
       "    }\n",
       "\n",
       "    .dataframe tbody tr th {\n",
       "        vertical-align: top;\n",
       "    }\n",
       "\n",
       "    .dataframe thead th {\n",
       "        text-align: right;\n",
       "    }\n",
       "</style>\n",
       "<table border=\"1\" class=\"dataframe\">\n",
       "  <thead>\n",
       "    <tr style=\"text-align: right;\">\n",
       "      <th></th>\n",
       "      <th>adult</th>\n",
       "      <th>senior</th>\n",
       "      <th>child</th>\n",
       "      <th>dis_base</th>\n",
       "      <th>dis_severe</th>\n",
       "      <th>dis_enhanced</th>\n",
       "      <th>NORTH_EAST</th>\n",
       "      <th>NORTH_WEST</th>\n",
       "      <th>YORKSHIRE</th>\n",
       "      <th>EAST_MIDLANDS</th>\n",
       "      <th>WEST_MIDLANDS</th>\n",
       "      <th>EAST_OF_ENGLAND</th>\n",
       "      <th>LONDON</th>\n",
       "      <th>SOUTH_EAST</th>\n",
       "      <th>SOUTH_WEST</th>\n",
       "      <th>WALES</th>\n",
       "      <th>SCOTLAND</th>\n",
       "      <th>NORTHERN_IRELAND</th>\n",
       "      <th>mean_pct_loss</th>\n",
       "    </tr>\n",
       "  </thead>\n",
       "  <tbody>\n",
       "    <tr>\n",
       "      <th>0</th>\n",
       "      <td>123.922887</td>\n",
       "      <td>205.222581</td>\n",
       "      <td>75.592875</td>\n",
       "      <td>0.000000</td>\n",
       "      <td>0.000000</td>\n",
       "      <td>0.000000</td>\n",
       "      <td>0.000000</td>\n",
       "      <td>0.000000</td>\n",
       "      <td>0.0</td>\n",
       "      <td>0.000000</td>\n",
       "      <td>0.000000</td>\n",
       "      <td>0.000000</td>\n",
       "      <td>0.000000</td>\n",
       "      <td>0.000000</td>\n",
       "      <td>0.000000</td>\n",
       "      <td>0.000000</td>\n",
       "      <td>0.00000</td>\n",
       "      <td>0.000000</td>\n",
       "      <td>0.051933</td>\n",
       "    </tr>\n",
       "    <tr>\n",
       "      <th>1</th>\n",
       "      <td>119.440596</td>\n",
       "      <td>204.426608</td>\n",
       "      <td>77.670781</td>\n",
       "      <td>95.110912</td>\n",
       "      <td>1.293865</td>\n",
       "      <td>1.485643</td>\n",
       "      <td>0.000000</td>\n",
       "      <td>0.000000</td>\n",
       "      <td>0.0</td>\n",
       "      <td>0.000000</td>\n",
       "      <td>0.000000</td>\n",
       "      <td>0.000000</td>\n",
       "      <td>0.000000</td>\n",
       "      <td>0.000000</td>\n",
       "      <td>0.000000</td>\n",
       "      <td>0.000000</td>\n",
       "      <td>0.00000</td>\n",
       "      <td>0.000000</td>\n",
       "      <td>0.049646</td>\n",
       "    </tr>\n",
       "    <tr>\n",
       "      <th>2</th>\n",
       "      <td>113.114604</td>\n",
       "      <td>199.791504</td>\n",
       "      <td>73.223865</td>\n",
       "      <td>97.843950</td>\n",
       "      <td>2.862548</td>\n",
       "      <td>0.451678</td>\n",
       "      <td>6.552922</td>\n",
       "      <td>9.229855</td>\n",
       "      <td>0.0</td>\n",
       "      <td>7.094633</td>\n",
       "      <td>6.332561</td>\n",
       "      <td>1.604237</td>\n",
       "      <td>8.017837</td>\n",
       "      <td>1.471345</td>\n",
       "      <td>9.862452</td>\n",
       "      <td>3.971185</td>\n",
       "      <td>6.13891</td>\n",
       "      <td>8.957683</td>\n",
       "      <td>0.049608</td>\n",
       "    </tr>\n",
       "  </tbody>\n",
       "</table>\n",
       "</div>"
      ],
      "text/plain": [
       "        adult      senior      child   dis_base  dis_severe  dis_enhanced  \\\n",
       "0  123.922887  205.222581  75.592875   0.000000    0.000000      0.000000   \n",
       "1  119.440596  204.426608  77.670781  95.110912    1.293865      1.485643   \n",
       "2  113.114604  199.791504  73.223865  97.843950    2.862548      0.451678   \n",
       "\n",
       "   NORTH_EAST  NORTH_WEST  YORKSHIRE  EAST_MIDLANDS  WEST_MIDLANDS  \\\n",
       "0    0.000000    0.000000        0.0       0.000000       0.000000   \n",
       "1    0.000000    0.000000        0.0       0.000000       0.000000   \n",
       "2    6.552922    9.229855        0.0       7.094633       6.332561   \n",
       "\n",
       "   EAST_OF_ENGLAND    LONDON  SOUTH_EAST  SOUTH_WEST     WALES  SCOTLAND  \\\n",
       "0         0.000000  0.000000    0.000000    0.000000  0.000000   0.00000   \n",
       "1         0.000000  0.000000    0.000000    0.000000  0.000000   0.00000   \n",
       "2         1.604237  8.017837    1.471345    9.862452  3.971185   6.13891   \n",
       "\n",
       "   NORTHERN_IRELAND  mean_pct_loss  \n",
       "0          0.000000       0.051933  \n",
       "1          0.000000       0.049646  \n",
       "2          8.957683       0.049608  "
      ]
     },
     "execution_count": 8,
     "metadata": {},
     "output_type": "execute_result"
    }
   ],
   "source": [
    "ubi_params = pd.DataFrame(reform_1[1]).T\n",
    "ubi_params.loc[1] = reform_2[1]\n",
    "ubi_params.loc[2] = reform_3[1]\n",
    "ubi_params['mean_pct_loss'] = [reform_1[0].fun,\n",
    "                               reform_2[0].fun,\n",
    "                               reform_3[0].fun]\n",
    "ubi_params"
   ]
  },
  {
   "cell_type": "code",
   "execution_count": 9,
   "metadata": {},
   "outputs": [],
   "source": [
    "ubi_params.to_csv(\"optimal_params.csv\", index=False)"
   ]
  }
 ],
 "metadata": {
  "colab": {
   "collapsed_sections": [],
   "name": "Reform Level Optimization V3.ipynb",
   "provenance": []
  },
  "kernelspec": {
   "display_name": "Python 3",
   "language": "python",
   "name": "python3"
  },
  "language_info": {
   "codemirror_mode": {
    "name": "ipython",
    "version": 3
   },
   "file_extension": ".py",
   "mimetype": "text/x-python",
   "name": "python",
   "nbconvert_exporter": "python",
   "pygments_lexer": "ipython3",
   "version": "3.7.9"
  }
 },
 "nbformat": 4,
 "nbformat_minor": 1
}
