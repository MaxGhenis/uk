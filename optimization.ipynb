{
 "cells": [
  {
   "cell_type": "code",
   "execution_count": 1,
   "metadata": {
    "id": "TLKfx4iG98DY"
   },
   "outputs": [],
   "source": [
    "# Required imports.\n",
    "from py import calc_ubi\n",
    "from py.loss_functions import loss_metrics\n",
    "from py.optimize import optimize"
   ]
  },
  {
   "cell_type": "code",
   "execution_count": 2,
   "metadata": {
    "colab": {
     "base_uri": "https://localhost:8080/"
    },
    "id": "IpjEW-rk-C-G",
    "outputId": "a25bcdef-6b01-4139-ad78-695ace3943f3"
   },
   "outputs": [
    {
     "name": "stdout",
     "output_type": "stream",
     "text": [
      "{'senior': (40, 240), 'child': (40, 240), 'dis_base': (0, 40), 'dis_severe': (0, 40), 'dis_enhanced': (0, 40), 'NORTH_EAST': (-50, 50), 'NORTH_WEST': (-50, 50), 'YORKSHIRE': (-50, 50), 'EAST_MIDLANDS': (-50, 50), 'WEST_MIDLANDS': (-50, 50), 'EAST_OF_ENGLAND': (-50, 50), 'LONDON': (-50, 50), 'SOUTH_EAST': (-50, 50), 'SOUTH_WEST': (-50, 50), 'WALES': (-50, 50), 'SCOTLAND': (-50, 50), 'NORTHERN_IRELAND': (-50, 50)}\n"
     ]
    }
   ],
   "source": [
    "AGE_CATEGORIES = [\"senior\", \"child\"]\n",
    "DIS_CATEGORIES = [\"dis_base\", \"dis_severe\", \"dis_enhanced\"]\n",
    "REGIONS = [\n",
    "    \"NORTH_EAST\",\n",
    "    \"NORTH_WEST\",\n",
    "    \"YORKSHIRE\",\n",
    "    \"EAST_MIDLANDS\",\n",
    "    \"WEST_MIDLANDS\",\n",
    "    \"EAST_OF_ENGLAND\",\n",
    "    \"LONDON\",\n",
    "    \"SOUTH_EAST\",\n",
    "    \"SOUTH_WEST\",\n",
    "    \"WALES\",\n",
    "    \"SCOTLAND\",\n",
    "    \"NORTHERN_IRELAND\",\n",
    "]\n",
    "categories = AGE_CATEGORIES + DIS_CATEGORIES + REGIONS\n",
    "\n",
    "# Define bounds\n",
    "AGE_BOUNDS = (40, 240)  # Child, working-age adult, senior.\n",
    "DIS_BOUNDS = (0, 40)  # Base, severe, and enhanced disability UBI supplements.\n",
    "GEO_BOUNDS = (-50, 50)  # Will be relative to a baseline geo.\n",
    "# Skip adult which is calculated.\n",
    "bounds = ([AGE_BOUNDS] * len(AGE_CATEGORIES) +\n",
    "          [DIS_BOUNDS] * len(DIS_CATEGORIES) +\n",
    "          [GEO_BOUNDS] * len(REGIONS))\n",
    "\n",
    "input_dict = {category: bound for category, bound in zip(categories, bounds)}\n",
    "print(input_dict)"
   ]
  },
  {
   "cell_type": "code",
   "execution_count": 3,
   "metadata": {},
   "outputs": [],
   "source": [
    "def opt(reform):\n",
    "    return optimize(input_dict, \"mean_pct_loss\", reform,\n",
    "                    verbose=False, maxiter=5, seed=0)"
   ]
  },
  {
   "cell_type": "code",
   "execution_count": 4,
   "metadata": {
    "colab": {
     "base_uri": "https://localhost:8080/"
    },
    "id": "US_TgMgmmrRX",
    "outputId": "65fe601b-0015-4b79-8bb5-e47d25af0fb9",
    "scrolled": false
   },
   "outputs": [
    {
     "name": "stdout",
     "output_type": "stream",
     "text": [
      "Loss by all metrics:\n",
      " {'loser_share': 0.45116838812828064, 'losses': 140052527376.32785, 'mean_pct_loss': 0.05193752501849348, 'mean_pct_loss_pwd2': 0.0591431658340114, 'gini': 0.274602609317129} \n",
      "\n",
      "Optimal mean_pct_loss: 0.05193752501849348 \n",
      "\n",
      "Optimal solution:\n",
      " adult               124.0\n",
      "senior              204.0\n",
      "child                77.0\n",
      "dis_base              0.0\n",
      "dis_severe            0.0\n",
      "dis_enhanced          0.0\n",
      "NORTH_EAST            0.0\n",
      "NORTH_WEST            0.0\n",
      "YORKSHIRE             0.0\n",
      "EAST_MIDLANDS         0.0\n",
      "WEST_MIDLANDS         0.0\n",
      "EAST_OF_ENGLAND       0.0\n",
      "LONDON                0.0\n",
      "SOUTH_EAST            0.0\n",
      "SOUTH_WEST            0.0\n",
      "WALES                 0.0\n",
      "SCOTLAND              0.0\n",
      "NORTHERN_IRELAND      0.0\n",
      "dtype: float64\n"
     ]
    }
   ],
   "source": [
    "reform_1 = opt(\"reform_1\")"
   ]
  },
  {
   "cell_type": "code",
   "execution_count": 5,
   "metadata": {
    "colab": {
     "base_uri": "https://localhost:8080/"
    },
    "id": "T0-cLB1PKK5o",
    "outputId": "8d0d68cb-3bea-46f1-a363-52450f677b15"
   },
   "outputs": [
    {
     "name": "stdout",
     "output_type": "stream",
     "text": [
      "Loss by all metrics:\n",
      " {'loser_share': 0.4528057873249054, 'losses': 140338346018.8568, 'mean_pct_loss': 0.05049859787014706, 'mean_pct_loss_pwd2': 0.055914149337698935, 'gini': 0.2728642990516222} \n",
      "\n",
      "Optimal mean_pct_loss: 0.05049859787014706 \n",
      "\n",
      "Optimal solution:\n",
      " adult               122.0\n",
      "senior              205.0\n",
      "child                76.0\n",
      "dis_base             39.0\n",
      "dis_severe            3.0\n",
      "dis_enhanced         16.0\n",
      "NORTH_EAST            0.0\n",
      "NORTH_WEST            0.0\n",
      "YORKSHIRE             0.0\n",
      "EAST_MIDLANDS         0.0\n",
      "WEST_MIDLANDS         0.0\n",
      "EAST_OF_ENGLAND       0.0\n",
      "LONDON                0.0\n",
      "SOUTH_EAST            0.0\n",
      "SOUTH_WEST            0.0\n",
      "WALES                 0.0\n",
      "SCOTLAND              0.0\n",
      "NORTHERN_IRELAND      0.0\n",
      "dtype: float64\n"
     ]
    }
   ],
   "source": [
    "reform_2 = opt(\"reform_2\")"
   ]
  },
  {
   "cell_type": "code",
   "execution_count": 6,
   "metadata": {
    "colab": {
     "base_uri": "https://localhost:8080/"
    },
    "id": "ofIfMhuMUVOy",
    "outputId": "8ff83e5b-0a48-446f-cd6d-3a9c5200ab93"
   },
   "outputs": [
    {
     "name": "stdout",
     "output_type": "stream",
     "text": [
      "Loss by all metrics:\n",
      " {'loser_share': 0.4531685709953308, 'losses': 151854895473.60327, 'mean_pct_loss': 0.05408027431242688, 'mean_pct_loss_pwd2': 0.05975921170295499, 'gini': 0.27128238766433677} \n",
      "\n",
      "Optimal mean_pct_loss: 0.05408027431242688 \n",
      "\n",
      "Optimal solution:\n",
      " adult                86.0\n",
      "senior              186.0\n",
      "child                59.0\n",
      "dis_base             32.0\n",
      "dis_severe           21.0\n",
      "dis_enhanced          6.0\n",
      "NORTH_EAST           45.0\n",
      "NORTH_WEST           41.0\n",
      "YORKSHIRE            28.0\n",
      "EAST_MIDLANDS        44.0\n",
      "WEST_MIDLANDS        29.0\n",
      "EAST_OF_ENGLAND      31.0\n",
      "LONDON               23.0\n",
      "SOUTH_EAST           37.0\n",
      "SOUTH_WEST           19.0\n",
      "WALES                29.0\n",
      "SCOTLAND              0.0\n",
      "NORTHERN_IRELAND     15.0\n",
      "dtype: float64\n"
     ]
    }
   ],
   "source": [
    "reform_3 = opt(\"reform_3\")"
   ]
  }
 ],
 "metadata": {
  "colab": {
   "collapsed_sections": [],
   "name": "Reform Level Optimization V3.ipynb",
   "provenance": []
  },
  "kernelspec": {
   "display_name": "Python 3",
   "language": "python",
   "name": "python3"
  },
  "language_info": {
   "codemirror_mode": {
    "name": "ipython",
    "version": 3
   },
   "file_extension": ".py",
   "mimetype": "text/x-python",
   "name": "python",
   "nbconvert_exporter": "python",
   "pygments_lexer": "ipython3",
   "version": "3.7.9"
  }
 },
 "nbformat": 4,
 "nbformat_minor": 1
}
