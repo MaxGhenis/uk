{
 "cells": [
  {
   "cell_type": "code",
   "execution_count": 1,
   "metadata": {
    "id": "TLKfx4iG98DY"
   },
   "outputs": [],
   "source": [
    "# Required imports.\n",
    "from py import calc_ubi\n",
    "from py.loss_functions import loss_metrics\n",
    "from py.optimize import optimize"
   ]
  },
  {
   "cell_type": "code",
   "execution_count": 2,
   "metadata": {
    "colab": {
     "base_uri": "https://localhost:8080/"
    },
    "id": "IpjEW-rk-C-G",
    "outputId": "a25bcdef-6b01-4139-ad78-695ace3943f3"
   },
   "outputs": [
    {
     "name": "stdout",
     "output_type": "stream",
     "text": [
      "{'senior': (40, 240), 'child': (40, 240), 'dis_base': (0, 40), 'dis_severe': (0, 40), 'dis_enhanced': (0, 40), 'NORTH_EAST': (-50, 50), 'NORTH_WEST': (-50, 50), 'YORKSHIRE': (-50, 50), 'EAST_MIDLANDS': (-50, 50), 'WEST_MIDLANDS': (-50, 50), 'EAST_OF_ENGLAND': (-50, 50), 'LONDON': (-50, 50), 'SOUTH_EAST': (-50, 50), 'SOUTH_WEST': (-50, 50), 'WALES': (-50, 50), 'SCOTLAND': (-50, 50), 'NORTHERN_IRELAND': (-50, 50)}\n"
     ]
    }
   ],
   "source": [
    "AGE_CATEGORIES = [\"senior\", \"child\"]\n",
    "DIS_CATEGORIES = [\"dis_base\", \"dis_severe\", \"dis_enhanced\"]\n",
    "REGIONS = [\n",
    "    \"NORTH_EAST\",\n",
    "    \"NORTH_WEST\",\n",
    "    \"YORKSHIRE\",\n",
    "    \"EAST_MIDLANDS\",\n",
    "    \"WEST_MIDLANDS\",\n",
    "    \"EAST_OF_ENGLAND\",\n",
    "    \"LONDON\",\n",
    "    \"SOUTH_EAST\",\n",
    "    \"SOUTH_WEST\",\n",
    "    \"WALES\",\n",
    "    \"SCOTLAND\",\n",
    "    \"NORTHERN_IRELAND\",\n",
    "]\n",
    "categories = AGE_CATEGORIES + DIS_CATEGORIES + REGIONS\n",
    "\n",
    "# Define bounds\n",
    "AGE_BOUNDS = (40, 240)  # Child, working-age adult, senior.\n",
    "DIS_BOUNDS = (0, 40)  # Base, severe, and enhanced disability UBI supplements.\n",
    "GEO_BOUNDS = (-50, 50)  # Will be relative to a baseline geo.\n",
    "# Skip adult which is calculated.\n",
    "bounds = ([AGE_BOUNDS] * len(AGE_CATEGORIES) +\n",
    "          [DIS_BOUNDS] * len(DIS_CATEGORIES) +\n",
    "          [GEO_BOUNDS] * len(REGIONS))\n",
    "\n",
    "input_dict = {category: bound for category, bound in zip(categories, bounds)}\n",
    "print(input_dict)"
   ]
  },
  {
   "cell_type": "code",
   "execution_count": 3,
   "metadata": {},
   "outputs": [],
   "source": [
    "def opt(reform):\n",
    "    return optimize(input_dict, \"mean_pct_loss\", reform,\n",
    "                    verbose=False, maxiter=None, seed=0,\n",
    "                    # reform_3 > reform_2 with default of 0.01, or 0.005.\n",
    "                    tol=0.001)"
   ]
  },
  {
   "cell_type": "code",
   "execution_count": 4,
   "metadata": {
    "colab": {
     "base_uri": "https://localhost:8080/"
    },
    "id": "US_TgMgmmrRX",
    "outputId": "65fe601b-0015-4b79-8bb5-e47d25af0fb9",
    "scrolled": false
   },
   "outputs": [
    {
     "name": "stdout",
     "output_type": "stream",
     "text": [
      "Loss by all metrics:\n",
      " loser_share           4.515000e-01\n",
      "losses                1.401599e+11\n",
      "mean_pct_loss         5.190000e-02\n",
      "mean_pct_loss_pwd2    5.910000e-02\n",
      "gini                  2.749000e-01\n",
      "dtype: float64 \n",
      "\n",
      "Optimal mean_pct_loss: 0.0519 \n",
      "\n",
      "Optimal solution:\n",
      " adult               124\n",
      "senior              205\n",
      "child                76\n",
      "dis_base              0\n",
      "dis_severe            0\n",
      "dis_enhanced          0\n",
      "NORTH_EAST            0\n",
      "NORTH_WEST            0\n",
      "YORKSHIRE             0\n",
      "EAST_MIDLANDS         0\n",
      "WEST_MIDLANDS         0\n",
      "EAST_OF_ENGLAND       0\n",
      "LONDON                0\n",
      "SOUTH_EAST            0\n",
      "SOUTH_WEST            0\n",
      "WALES                 0\n",
      "SCOTLAND              0\n",
      "NORTHERN_IRELAND      0\n",
      "dtype: int64\n"
     ]
    }
   ],
   "source": [
    "reform_1 = opt(\"reform_1\")\n",
    "print(reform_1[0])  # OptimizeResult."
   ]
  },
  {
   "cell_type": "code",
   "execution_count": 5,
   "metadata": {
    "colab": {
     "base_uri": "https://localhost:8080/"
    },
    "id": "T0-cLB1PKK5o",
    "outputId": "8d0d68cb-3bea-46f1-a363-52450f677b15"
   },
   "outputs": [
    {
     "name": "stdout",
     "output_type": "stream",
     "text": [
      "Loss by all metrics:\n",
      " loser_share           4.535000e-01\n",
      "losses                1.404748e+11\n",
      "mean_pct_loss         5.040000e-02\n",
      "mean_pct_loss_pwd2    5.580000e-02\n",
      "gini                  2.727000e-01\n",
      "dtype: float64 \n",
      "\n",
      "Optimal mean_pct_loss: 0.0504 \n",
      "\n",
      "Optimal solution:\n",
      " adult               122\n",
      "senior              206\n",
      "child                76\n",
      "dis_base             40\n",
      "dis_severe            1\n",
      "dis_enhanced          0\n",
      "NORTH_EAST            0\n",
      "NORTH_WEST            0\n",
      "YORKSHIRE             0\n",
      "EAST_MIDLANDS         0\n",
      "WEST_MIDLANDS         0\n",
      "EAST_OF_ENGLAND       0\n",
      "LONDON                0\n",
      "SOUTH_EAST            0\n",
      "SOUTH_WEST            0\n",
      "WALES                 0\n",
      "SCOTLAND              0\n",
      "NORTHERN_IRELAND      0\n",
      "dtype: int64\n"
     ]
    }
   ],
   "source": [
    "reform_2 = opt(\"reform_2\")\n",
    "print(reform_2[0])  # OptimizeResult."
   ]
  },
  {
   "cell_type": "code",
   "execution_count": 6,
   "metadata": {
    "colab": {
     "base_uri": "https://localhost:8080/"
    },
    "id": "ofIfMhuMUVOy",
    "outputId": "8ff83e5b-0a48-446f-cd6d-3a9c5200ab93"
   },
   "outputs": [
    {
     "name": "stdout",
     "output_type": "stream",
     "text": [
      "Loss by all metrics:\n",
      " loser_share           4.526000e-01\n",
      "losses                1.403028e+11\n",
      "mean_pct_loss         5.040000e-02\n",
      "mean_pct_loss_pwd2    5.580000e-02\n",
      "gini                  2.727000e-01\n",
      "dtype: float64 \n",
      "\n",
      "Optimal mean_pct_loss: 0.0504 \n",
      "\n",
      "Optimal solution:\n",
      " adult               117\n",
      "senior              201\n",
      "child                72\n",
      "dis_base             40\n",
      "dis_severe            4\n",
      "dis_enhanced          4\n",
      "NORTH_EAST            9\n",
      "NORTH_WEST            8\n",
      "YORKSHIRE             0\n",
      "EAST_MIDLANDS         3\n",
      "WEST_MIDLANDS         6\n",
      "EAST_OF_ENGLAND       3\n",
      "LONDON                6\n",
      "SOUTH_EAST            4\n",
      "SOUTH_WEST            5\n",
      "WALES                 2\n",
      "SCOTLAND              7\n",
      "NORTHERN_IRELAND      0\n",
      "dtype: int64\n"
     ]
    }
   ],
   "source": [
    "reform_3 = opt(\"reform_3\")\n",
    "print(reform_3[0])  # OptimizeResult."
   ]
  },
  {
   "cell_type": "markdown",
   "metadata": {},
   "source": [
    "Check that iterations improve."
   ]
  },
  {
   "cell_type": "code",
   "execution_count": 8,
   "metadata": {},
   "outputs": [],
   "source": [
    "assert reform_2[0].fun < reform_1[0].fun, \"Reform 2 doesn't improve on 1\"\n",
    "assert reform_3[0].fun < reform_2[0].fun, \"Reform 3 doesn't improve on 2\""
   ]
  },
  {
   "cell_type": "markdown",
   "metadata": {},
   "source": [
    "Construct DataFrame to export, with parameter and optimization values."
   ]
  },
  {
   "cell_type": "code",
   "execution_count": 27,
   "metadata": {},
   "outputs": [
    {
     "data": {
      "text/html": [
       "<div>\n",
       "<style scoped>\n",
       "    .dataframe tbody tr th:only-of-type {\n",
       "        vertical-align: middle;\n",
       "    }\n",
       "\n",
       "    .dataframe tbody tr th {\n",
       "        vertical-align: top;\n",
       "    }\n",
       "\n",
       "    .dataframe thead th {\n",
       "        text-align: right;\n",
       "    }\n",
       "</style>\n",
       "<table border=\"1\" class=\"dataframe\">\n",
       "  <thead>\n",
       "    <tr style=\"text-align: right;\">\n",
       "      <th></th>\n",
       "      <th>adult</th>\n",
       "      <th>senior</th>\n",
       "      <th>child</th>\n",
       "      <th>dis_base</th>\n",
       "      <th>dis_severe</th>\n",
       "      <th>dis_enhanced</th>\n",
       "      <th>NORTH_EAST</th>\n",
       "      <th>NORTH_WEST</th>\n",
       "      <th>YORKSHIRE</th>\n",
       "      <th>EAST_MIDLANDS</th>\n",
       "      <th>WEST_MIDLANDS</th>\n",
       "      <th>EAST_OF_ENGLAND</th>\n",
       "      <th>LONDON</th>\n",
       "      <th>SOUTH_EAST</th>\n",
       "      <th>SOUTH_WEST</th>\n",
       "      <th>WALES</th>\n",
       "      <th>SCOTLAND</th>\n",
       "      <th>NORTHERN_IRELAND</th>\n",
       "      <th>mean_pct_loss</th>\n",
       "    </tr>\n",
       "  </thead>\n",
       "  <tbody>\n",
       "    <tr>\n",
       "      <th>0</th>\n",
       "      <td>123.922887</td>\n",
       "      <td>205.222581</td>\n",
       "      <td>75.592875</td>\n",
       "      <td>0.000000</td>\n",
       "      <td>0.000000</td>\n",
       "      <td>0.000000</td>\n",
       "      <td>0.00000</td>\n",
       "      <td>0.000000</td>\n",
       "      <td>0.000000</td>\n",
       "      <td>0.000000</td>\n",
       "      <td>0.000000</td>\n",
       "      <td>0.000000</td>\n",
       "      <td>0.000000</td>\n",
       "      <td>0.000000</td>\n",
       "      <td>0.000000</td>\n",
       "      <td>0.000000</td>\n",
       "      <td>0.000000</td>\n",
       "      <td>0.0</td>\n",
       "      <td>0.051933</td>\n",
       "    </tr>\n",
       "    <tr>\n",
       "      <th>1</th>\n",
       "      <td>121.788113</td>\n",
       "      <td>206.001222</td>\n",
       "      <td>76.241502</td>\n",
       "      <td>39.992095</td>\n",
       "      <td>0.971841</td>\n",
       "      <td>0.055487</td>\n",
       "      <td>0.00000</td>\n",
       "      <td>0.000000</td>\n",
       "      <td>0.000000</td>\n",
       "      <td>0.000000</td>\n",
       "      <td>0.000000</td>\n",
       "      <td>0.000000</td>\n",
       "      <td>0.000000</td>\n",
       "      <td>0.000000</td>\n",
       "      <td>0.000000</td>\n",
       "      <td>0.000000</td>\n",
       "      <td>0.000000</td>\n",
       "      <td>0.0</td>\n",
       "      <td>0.050432</td>\n",
       "    </tr>\n",
       "    <tr>\n",
       "      <th>2</th>\n",
       "      <td>116.879274</td>\n",
       "      <td>201.252521</td>\n",
       "      <td>71.989862</td>\n",
       "      <td>39.734755</td>\n",
       "      <td>3.990913</td>\n",
       "      <td>3.845328</td>\n",
       "      <td>8.82277</td>\n",
       "      <td>7.690546</td>\n",
       "      <td>0.449619</td>\n",
       "      <td>3.035717</td>\n",
       "      <td>6.311393</td>\n",
       "      <td>3.249209</td>\n",
       "      <td>6.285739</td>\n",
       "      <td>4.127879</td>\n",
       "      <td>4.610616</td>\n",
       "      <td>1.576637</td>\n",
       "      <td>6.617546</td>\n",
       "      <td>0.0</td>\n",
       "      <td>0.050417</td>\n",
       "    </tr>\n",
       "  </tbody>\n",
       "</table>\n",
       "</div>"
      ],
      "text/plain": [
       "        adult      senior      child   dis_base  dis_severe  dis_enhanced  \\\n",
       "0  123.922887  205.222581  75.592875   0.000000    0.000000      0.000000   \n",
       "1  121.788113  206.001222  76.241502  39.992095    0.971841      0.055487   \n",
       "2  116.879274  201.252521  71.989862  39.734755    3.990913      3.845328   \n",
       "\n",
       "   NORTH_EAST  NORTH_WEST  YORKSHIRE  EAST_MIDLANDS  WEST_MIDLANDS  \\\n",
       "0     0.00000    0.000000   0.000000       0.000000       0.000000   \n",
       "1     0.00000    0.000000   0.000000       0.000000       0.000000   \n",
       "2     8.82277    7.690546   0.449619       3.035717       6.311393   \n",
       "\n",
       "   EAST_OF_ENGLAND    LONDON  SOUTH_EAST  SOUTH_WEST     WALES  SCOTLAND  \\\n",
       "0         0.000000  0.000000    0.000000    0.000000  0.000000  0.000000   \n",
       "1         0.000000  0.000000    0.000000    0.000000  0.000000  0.000000   \n",
       "2         3.249209  6.285739    4.127879    4.610616  1.576637  6.617546   \n",
       "\n",
       "   NORTHERN_IRELAND  mean_pct_loss  \n",
       "0               0.0       0.051933  \n",
       "1               0.0       0.050432  \n",
       "2               0.0       0.050417  "
      ]
     },
     "execution_count": 27,
     "metadata": {},
     "output_type": "execute_result"
    }
   ],
   "source": [
    "import pandas as pd\n",
    "ubi_params = pd.DataFrame(reform_1[1]).T\n",
    "# ubi_params.loc[0] = reform_1[1]\n",
    "ubi_params.loc[1] = reform_2[1]\n",
    "ubi_params.loc[2] = reform_3[1]\n",
    "ubi_params['mean_pct_loss'] = [reform_1[0].fun,\n",
    "                               reform_2[0].fun,\n",
    "                               reform_3[0].fun]\n",
    "ubi_params"
   ]
  },
  {
   "cell_type": "code",
   "execution_count": 29,
   "metadata": {},
   "outputs": [],
   "source": [
    "ubi_params.to_csv(\"optimal_params.csv\", index=False)"
   ]
  }
 ],
 "metadata": {
  "colab": {
   "collapsed_sections": [],
   "name": "Reform Level Optimization V3.ipynb",
   "provenance": []
  },
  "kernelspec": {
   "display_name": "Python 3",
   "language": "python",
   "name": "python3"
  },
  "language_info": {
   "codemirror_mode": {
    "name": "ipython",
    "version": 3
   },
   "file_extension": ".py",
   "mimetype": "text/x-python",
   "name": "python",
   "nbconvert_exporter": "python",
   "pygments_lexer": "ipython3",
   "version": "3.7.9"
  }
 },
 "nbformat": 4,
 "nbformat_minor": 1
}
