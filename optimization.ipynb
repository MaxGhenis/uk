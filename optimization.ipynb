{
 "cells": [
  {
   "cell_type": "code",
   "execution_count": 1,
   "metadata": {
    "id": "TLKfx4iG98DY"
   },
   "outputs": [],
   "source": [
    "# Required imports.\n",
    "from py import calc_ubi\n",
    "from py.loss_functions import loss_metrics\n",
    "from py.optimize import optimize\n",
    "\n",
    "import pandas as pd"
   ]
  },
  {
   "cell_type": "code",
   "execution_count": 2,
   "metadata": {
    "colab": {
     "base_uri": "https://localhost:8080/"
    },
    "id": "IpjEW-rk-C-G",
    "outputId": "a25bcdef-6b01-4139-ad78-695ace3943f3"
   },
   "outputs": [
    {
     "name": "stdout",
     "output_type": "stream",
     "text": [
      "{'senior': (40, 240), 'child': (40, 240), 'dis_base': (0, 200), 'dis_severe': (0, 200), 'dis_enhanced': (0, 200), 'NORTH_EAST': (-50, 50), 'NORTH_WEST': (-50, 50), 'YORKSHIRE': (-50, 50), 'EAST_MIDLANDS': (-50, 50), 'WEST_MIDLANDS': (-50, 50), 'EAST_OF_ENGLAND': (-50, 50), 'LONDON': (-50, 50), 'SOUTH_EAST': (-50, 50), 'SOUTH_WEST': (-50, 50), 'WALES': (-50, 50), 'SCOTLAND': (-50, 50), 'NORTHERN_IRELAND': (-50, 50)}\n"
     ]
    }
   ],
   "source": [
    "AGE_CATEGORIES = [\"senior\", \"child\"]\n",
    "DIS_CATEGORIES = [\"dis_base\", \"dis_severe\", \"dis_enhanced\"]\n",
    "REGIONS = [\n",
    "    \"NORTH_EAST\",\n",
    "    \"NORTH_WEST\",\n",
    "    \"YORKSHIRE\",\n",
    "    \"EAST_MIDLANDS\",\n",
    "    \"WEST_MIDLANDS\",\n",
    "    \"EAST_OF_ENGLAND\",\n",
    "    \"LONDON\",\n",
    "    \"SOUTH_EAST\",\n",
    "    \"SOUTH_WEST\",\n",
    "    \"WALES\",\n",
    "    \"SCOTLAND\",\n",
    "    \"NORTHERN_IRELAND\",\n",
    "]\n",
    "categories = AGE_CATEGORIES + DIS_CATEGORIES + REGIONS\n",
    "\n",
    "# Define bounds\n",
    "AGE_BOUNDS = (40, 240)  # Child, working-age adult, senior.\n",
    "DIS_BOUNDS = (0, 200)  # Base, severe, and enhanced disability UBI supplements.\n",
    "GEO_BOUNDS = (-50, 50)  # Will be relative to a baseline geo.\n",
    "# Skip adult which is calculated.\n",
    "bounds = ([AGE_BOUNDS] * len(AGE_CATEGORIES) +\n",
    "          [DIS_BOUNDS] * len(DIS_CATEGORIES) +\n",
    "          [GEO_BOUNDS] * len(REGIONS))\n",
    "\n",
    "input_dict = {category: bound for category, bound in zip(categories, bounds)}\n",
    "print(input_dict)"
   ]
  },
  {
   "cell_type": "code",
   "execution_count": 3,
   "metadata": {},
   "outputs": [],
   "source": [
    "def opt(reform):\n",
    "    return optimize(input_dict, \"mean_pct_loss\", reform,\n",
    "                    verbose=False, seed=0,\n",
    "                    # Reforms don't always improve upon one another with the\n",
    "                    # default tolerance of 0.01.\n",
    "                    tol=0.0001)"
   ]
  },
  {
   "cell_type": "code",
   "execution_count": 4,
   "metadata": {
    "colab": {
     "base_uri": "https://localhost:8080/"
    },
    "id": "US_TgMgmmrRX",
    "outputId": "65fe601b-0015-4b79-8bb5-e47d25af0fb9",
    "scrolled": false
   },
   "outputs": [
    {
     "name": "stdout",
     "output_type": "stream",
     "text": [
      "Loss by all metrics:\n",
      " loser_share           4.515000e-01\n",
      "losses                1.401599e+11\n",
      "mean_pct_loss         5.190000e-02\n",
      "mean_pct_loss_pwd2    5.910000e-02\n",
      "gini                  2.749000e-01\n",
      "dtype: float64 \n",
      "\n",
      "Optimal mean_pct_loss: 0.0519 \n",
      "\n",
      "Optimal solution:\n",
      " adult               124\n",
      "senior              205\n",
      "child                76\n",
      "dis_base              0\n",
      "dis_severe            0\n",
      "dis_enhanced          0\n",
      "NORTH_EAST            0\n",
      "NORTH_WEST            0\n",
      "YORKSHIRE             0\n",
      "EAST_MIDLANDS         0\n",
      "WEST_MIDLANDS         0\n",
      "EAST_OF_ENGLAND       0\n",
      "LONDON                0\n",
      "SOUTH_EAST            0\n",
      "SOUTH_WEST            0\n",
      "WALES                 0\n",
      "SCOTLAND              0\n",
      "NORTHERN_IRELAND      0\n",
      "dtype: int64\n",
      "     fun: 0.05193291339399926\n",
      " message: 'Optimization terminated successfully.'\n",
      "    nfev: 3861\n",
      "     nit: 14\n",
      " success: True\n",
      "       x: array([205.22258067,  75.59287535,   0.        ,   0.        ,\n",
      "         0.        ,   0.        ,   0.        ,   0.        ,\n",
      "         0.        ,   0.        ,   0.        ,   0.        ,\n",
      "         0.        ,   0.        ,   0.        ,   0.        ,\n",
      "         0.        ])\n",
      "CPU times: user 2min 55s, sys: 17.4 s, total: 3min 13s\n",
      "Wall time: 3min 9s\n"
     ]
    }
   ],
   "source": [
    "%%time\n",
    "reform_1 = opt(\"reform_1\")\n",
    "print(reform_1[0])  # OptimizeResult."
   ]
  },
  {
   "cell_type": "code",
   "execution_count": 5,
   "metadata": {
    "colab": {
     "base_uri": "https://localhost:8080/"
    },
    "id": "T0-cLB1PKK5o",
    "outputId": "8d0d68cb-3bea-46f1-a363-52450f677b15"
   },
   "outputs": [
    {
     "name": "stdout",
     "output_type": "stream",
     "text": [
      "Loss by all metrics:\n",
      " loser_share           4.538000e-01\n",
      "losses                1.424423e+11\n",
      "mean_pct_loss         4.960000e-02\n",
      "mean_pct_loss_pwd2    5.320000e-02\n",
      "gini                  2.703000e-01\n",
      "dtype: float64 \n",
      "\n",
      "Optimal mean_pct_loss: 0.0496 \n",
      "\n",
      "Optimal solution:\n",
      " adult               119\n",
      "senior              205\n",
      "child                77\n",
      "dis_base             99\n",
      "dis_severe            0\n",
      "dis_enhanced          0\n",
      "NORTH_EAST            0\n",
      "NORTH_WEST            0\n",
      "YORKSHIRE             0\n",
      "EAST_MIDLANDS         0\n",
      "WEST_MIDLANDS         0\n",
      "EAST_OF_ENGLAND       0\n",
      "LONDON                0\n",
      "SOUTH_EAST            0\n",
      "SOUTH_WEST            0\n",
      "WALES                 0\n",
      "SCOTLAND              0\n",
      "NORTHERN_IRELAND      0\n",
      "dtype: int64\n",
      "     fun: 0.04963382541450626\n",
      " message: 'Optimization terminated successfully.'\n",
      "    nfev: 8706\n",
      "     nit: 33\n",
      " success: True\n",
      "       x: array([2.05346641e+02, 7.72628614e+01, 9.87098125e+01, 9.69306028e-02,\n",
      "       1.46374744e-01, 0.00000000e+00, 0.00000000e+00, 0.00000000e+00,\n",
      "       0.00000000e+00, 0.00000000e+00, 0.00000000e+00, 0.00000000e+00,\n",
      "       0.00000000e+00, 0.00000000e+00, 0.00000000e+00, 0.00000000e+00,\n",
      "       0.00000000e+00])\n",
      "CPU times: user 9min 2s, sys: 2min 6s, total: 11min 8s\n",
      "Wall time: 10min 52s\n"
     ]
    }
   ],
   "source": [
    "%%time\n",
    "reform_2 = opt(\"reform_2\")\n",
    "print(reform_2[0])  # OptimizeResult."
   ]
  },
  {
   "cell_type": "code",
   "execution_count": 6,
   "metadata": {
    "colab": {
     "base_uri": "https://localhost:8080/"
    },
    "id": "ofIfMhuMUVOy",
    "outputId": "8ff83e5b-0a48-446f-cd6d-3a9c5200ab93"
   },
   "outputs": [
    {
     "name": "stdout",
     "output_type": "stream",
     "text": [
      "Loss by all metrics:\n",
      " loser_share           4.540000e-01\n",
      "losses                1.423893e+11\n",
      "mean_pct_loss         4.960000e-02\n",
      "mean_pct_loss_pwd2    5.300000e-02\n",
      "gini                  2.703000e-01\n",
      "dtype: float64 \n",
      "\n",
      "Optimal mean_pct_loss: 0.0496 \n",
      "\n",
      "Optimal solution:\n",
      " adult               115\n",
      "senior              202\n",
      "child                73\n",
      "dis_base            101\n",
      "dis_severe            0\n",
      "dis_enhanced          0\n",
      "NORTH_EAST            8\n",
      "NORTH_WEST            7\n",
      "YORKSHIRE             0\n",
      "EAST_MIDLANDS         4\n",
      "WEST_MIDLANDS         5\n",
      "EAST_OF_ENGLAND       2\n",
      "LONDON                7\n",
      "SOUTH_EAST            1\n",
      "SOUTH_WEST            5\n",
      "WALES                 3\n",
      "SCOTLAND              4\n",
      "NORTHERN_IRELAND      5\n",
      "dtype: int64\n",
      "     fun: 0.049555920733265306\n",
      " message: 'Optimization terminated successfully.'\n",
      "    nfev: 24006\n",
      "     nit: 93\n",
      " success: True\n",
      "       x: array([ 2.06561447e+02,  7.76411263e+01,  1.00666665e+02,  2.64256976e-01,\n",
      "        4.54431610e-01,  2.91271283e+00,  1.92939784e+00, -4.67953679e+00,\n",
      "       -2.64144135e-01,  2.75068277e-01, -2.82082087e+00,  1.90641804e+00,\n",
      "       -3.37450415e+00,  3.61968170e-01, -1.36771042e+00, -1.95554251e-01,\n",
      "        0.00000000e+00])\n",
      "CPU times: user 19min 14s, sys: 1min 43s, total: 20min 57s\n",
      "Wall time: 20min 32s\n"
     ]
    }
   ],
   "source": [
    "%%time\n",
    "reform_3 = opt(\"reform_3\")\n",
    "print(reform_3[0])  # OptimizeResult."
   ]
  },
  {
   "cell_type": "markdown",
   "metadata": {},
   "source": [
    "Check that iterations improve."
   ]
  },
  {
   "cell_type": "code",
   "execution_count": 7,
   "metadata": {},
   "outputs": [],
   "source": [
    "assert reform_2[0].fun < reform_1[0].fun, \"Reform 2 doesn't improve on 1\"\n",
    "assert reform_3[0].fun < reform_2[0].fun, \"Reform 3 doesn't improve on 2\""
   ]
  },
  {
   "cell_type": "markdown",
   "metadata": {},
   "source": [
    "Construct DataFrame to export, with parameter and optimization values."
   ]
  },
  {
   "cell_type": "code",
   "execution_count": 8,
   "metadata": {},
   "outputs": [
    {
     "data": {
      "text/html": [
       "<div>\n",
       "<style scoped>\n",
       "    .dataframe tbody tr th:only-of-type {\n",
       "        vertical-align: middle;\n",
       "    }\n",
       "\n",
       "    .dataframe tbody tr th {\n",
       "        vertical-align: top;\n",
       "    }\n",
       "\n",
       "    .dataframe thead th {\n",
       "        text-align: right;\n",
       "    }\n",
       "</style>\n",
       "<table border=\"1\" class=\"dataframe\">\n",
       "  <thead>\n",
       "    <tr style=\"text-align: right;\">\n",
       "      <th></th>\n",
       "      <th>adult</th>\n",
       "      <th>senior</th>\n",
       "      <th>child</th>\n",
       "      <th>dis_base</th>\n",
       "      <th>dis_severe</th>\n",
       "      <th>dis_enhanced</th>\n",
       "      <th>NORTH_EAST</th>\n",
       "      <th>NORTH_WEST</th>\n",
       "      <th>YORKSHIRE</th>\n",
       "      <th>EAST_MIDLANDS</th>\n",
       "      <th>WEST_MIDLANDS</th>\n",
       "      <th>EAST_OF_ENGLAND</th>\n",
       "      <th>LONDON</th>\n",
       "      <th>SOUTH_EAST</th>\n",
       "      <th>SOUTH_WEST</th>\n",
       "      <th>WALES</th>\n",
       "      <th>SCOTLAND</th>\n",
       "      <th>NORTHERN_IRELAND</th>\n",
       "      <th>mean_pct_loss</th>\n",
       "    </tr>\n",
       "  </thead>\n",
       "  <tbody>\n",
       "    <tr>\n",
       "      <th>0</th>\n",
       "      <td>123.922887</td>\n",
       "      <td>205.222581</td>\n",
       "      <td>75.592875</td>\n",
       "      <td>0.000000</td>\n",
       "      <td>0.000000</td>\n",
       "      <td>0.000000</td>\n",
       "      <td>0.00000</td>\n",
       "      <td>0.000000</td>\n",
       "      <td>0.0</td>\n",
       "      <td>0.000000</td>\n",
       "      <td>0.000000</td>\n",
       "      <td>0.000000</td>\n",
       "      <td>0.000000</td>\n",
       "      <td>0.000000</td>\n",
       "      <td>0.000000</td>\n",
       "      <td>0.000000</td>\n",
       "      <td>0.000000</td>\n",
       "      <td>0.000000</td>\n",
       "      <td>0.051933</td>\n",
       "    </tr>\n",
       "    <tr>\n",
       "      <th>1</th>\n",
       "      <td>119.170205</td>\n",
       "      <td>205.346641</td>\n",
       "      <td>77.262861</td>\n",
       "      <td>98.709813</td>\n",
       "      <td>0.096931</td>\n",
       "      <td>0.146375</td>\n",
       "      <td>0.00000</td>\n",
       "      <td>0.000000</td>\n",
       "      <td>0.0</td>\n",
       "      <td>0.000000</td>\n",
       "      <td>0.000000</td>\n",
       "      <td>0.000000</td>\n",
       "      <td>0.000000</td>\n",
       "      <td>0.000000</td>\n",
       "      <td>0.000000</td>\n",
       "      <td>0.000000</td>\n",
       "      <td>0.000000</td>\n",
       "      <td>0.000000</td>\n",
       "      <td>0.049634</td>\n",
       "    </tr>\n",
       "    <tr>\n",
       "      <th>2</th>\n",
       "      <td>114.859461</td>\n",
       "      <td>201.881910</td>\n",
       "      <td>72.961590</td>\n",
       "      <td>100.666665</td>\n",
       "      <td>0.264257</td>\n",
       "      <td>0.454432</td>\n",
       "      <td>7.59225</td>\n",
       "      <td>6.608935</td>\n",
       "      <td>0.0</td>\n",
       "      <td>4.415393</td>\n",
       "      <td>4.954605</td>\n",
       "      <td>1.858716</td>\n",
       "      <td>6.585955</td>\n",
       "      <td>1.305033</td>\n",
       "      <td>5.041505</td>\n",
       "      <td>3.311826</td>\n",
       "      <td>4.483983</td>\n",
       "      <td>4.679537</td>\n",
       "      <td>0.049556</td>\n",
       "    </tr>\n",
       "  </tbody>\n",
       "</table>\n",
       "</div>"
      ],
      "text/plain": [
       "        adult      senior      child    dis_base  dis_severe  dis_enhanced  \\\n",
       "0  123.922887  205.222581  75.592875    0.000000    0.000000      0.000000   \n",
       "1  119.170205  205.346641  77.262861   98.709813    0.096931      0.146375   \n",
       "2  114.859461  201.881910  72.961590  100.666665    0.264257      0.454432   \n",
       "\n",
       "   NORTH_EAST  NORTH_WEST  YORKSHIRE  EAST_MIDLANDS  WEST_MIDLANDS  \\\n",
       "0     0.00000    0.000000        0.0       0.000000       0.000000   \n",
       "1     0.00000    0.000000        0.0       0.000000       0.000000   \n",
       "2     7.59225    6.608935        0.0       4.415393       4.954605   \n",
       "\n",
       "   EAST_OF_ENGLAND    LONDON  SOUTH_EAST  SOUTH_WEST     WALES  SCOTLAND  \\\n",
       "0         0.000000  0.000000    0.000000    0.000000  0.000000  0.000000   \n",
       "1         0.000000  0.000000    0.000000    0.000000  0.000000  0.000000   \n",
       "2         1.858716  6.585955    1.305033    5.041505  3.311826  4.483983   \n",
       "\n",
       "   NORTHERN_IRELAND  mean_pct_loss  \n",
       "0          0.000000       0.051933  \n",
       "1          0.000000       0.049634  \n",
       "2          4.679537       0.049556  "
      ]
     },
     "execution_count": 8,
     "metadata": {},
     "output_type": "execute_result"
    }
   ],
   "source": [
    "ubi_params = pd.DataFrame(reform_1[1]).T\n",
    "ubi_params.loc[1] = reform_2[1]\n",
    "ubi_params.loc[2] = reform_3[1]\n",
    "ubi_params['mean_pct_loss'] = [reform_1[0].fun,\n",
    "                               reform_2[0].fun,\n",
    "                               reform_3[0].fun]\n",
    "ubi_params"
   ]
  },
  {
   "cell_type": "code",
   "execution_count": 9,
   "metadata": {},
   "outputs": [],
   "source": [
    "ubi_params.to_csv(\"optimal_params.csv\", index=False)"
   ]
  }
 ],
 "metadata": {
  "colab": {
   "collapsed_sections": [],
   "name": "Reform Level Optimization V3.ipynb",
   "provenance": []
  },
  "kernelspec": {
   "display_name": "Python 3",
   "language": "python",
   "name": "python3"
  },
  "language_info": {
   "codemirror_mode": {
    "name": "ipython",
    "version": 3
   },
   "file_extension": ".py",
   "mimetype": "text/x-python",
   "name": "python",
   "nbconvert_exporter": "python",
   "pygments_lexer": "ipython3",
   "version": "3.7.9"
  }
 },
 "nbformat": 4,
 "nbformat_minor": 1
}
