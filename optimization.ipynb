{
 "cells": [
  {
   "cell_type": "code",
   "execution_count": 1,
   "metadata": {
    "id": "TLKfx4iG98DY"
   },
   "outputs": [],
   "source": [
    "# Required imports.\n",
    "from py import calc_ubi\n",
    "from py.loss_functions import loss_metrics\n",
    "from py.optimize import optimize\n",
    "\n",
    "import pandas as pd"
   ]
  },
  {
   "cell_type": "code",
   "execution_count": 2,
   "metadata": {
    "colab": {
     "base_uri": "https://localhost:8080/"
    },
    "id": "IpjEW-rk-C-G",
    "outputId": "a25bcdef-6b01-4139-ad78-695ace3943f3"
   },
   "outputs": [
    {
     "name": "stdout",
     "output_type": "stream",
     "text": [
      "{'senior': (40, 240), 'child': (40, 240), 'dis_base': (0, 200), 'NORTH_EAST': (-50, 50), 'NORTH_WEST': (-50, 50), 'YORKSHIRE': (-50, 50), 'EAST_MIDLANDS': (-50, 50), 'WEST_MIDLANDS': (-50, 50), 'EAST_OF_ENGLAND': (-50, 50), 'LONDON': (-50, 50), 'SOUTH_EAST': (-50, 50), 'SOUTH_WEST': (-50, 50), 'WALES': (-50, 50), 'SCOTLAND': (-50, 50), 'NORTHERN_IRELAND': (-50, 50)}\n"
     ]
    }
   ],
   "source": [
    "AGE_CATEGORIES = [\"senior\", \"child\"]\n",
    "DIS_CATEGORIES = [\"dis_base\"]\n",
    "REGIONS = [\n",
    "    \"NORTH_EAST\",\n",
    "    \"NORTH_WEST\",\n",
    "    \"YORKSHIRE\",\n",
    "    \"EAST_MIDLANDS\",\n",
    "    \"WEST_MIDLANDS\",\n",
    "    \"EAST_OF_ENGLAND\",\n",
    "    \"LONDON\",\n",
    "    \"SOUTH_EAST\",\n",
    "    \"SOUTH_WEST\",\n",
    "    \"WALES\",\n",
    "    \"SCOTLAND\",\n",
    "    \"NORTHERN_IRELAND\",\n",
    "]\n",
    "categories = AGE_CATEGORIES + DIS_CATEGORIES + REGIONS\n",
    "\n",
    "# Define bounds\n",
    "AGE_BOUNDS = (40, 240)  # Child, working-age adult, senior.\n",
    "DIS_BOUNDS = (0, 200)  # Base, severe, and enhanced disability UBI supplements.\n",
    "GEO_BOUNDS = (-50, 50)  # Will be relative to a baseline geo.\n",
    "# Skip adult which is calculated.\n",
    "bounds = ([AGE_BOUNDS] * len(AGE_CATEGORIES) +\n",
    "          [DIS_BOUNDS] * len(DIS_CATEGORIES) +\n",
    "          [GEO_BOUNDS] * len(REGIONS))\n",
    "\n",
    "input_dict = {category: bound for category, bound in zip(categories, bounds)}\n",
    "print(input_dict)"
   ]
  },
  {
   "cell_type": "code",
   "execution_count": 3,
   "metadata": {},
   "outputs": [],
   "source": [
    "def opt(reform):\n",
    "    return optimize(input_dict, \"mean_pct_loss\", reform,\n",
    "                    verbose=False, seed=0,\n",
    "                    # Reforms don't always improve upon one another with the\n",
    "                    # default tolerance of 0.01.\n",
    "                    tol=0.0001)"
   ]
  },
  {
   "cell_type": "code",
   "execution_count": 4,
   "metadata": {
    "colab": {
     "base_uri": "https://localhost:8080/"
    },
    "id": "US_TgMgmmrRX",
    "outputId": "65fe601b-0015-4b79-8bb5-e47d25af0fb9",
    "scrolled": false
   },
   "outputs": [
    {
     "name": "stdout",
     "output_type": "stream",
     "text": [
      "Loss by all metrics:\n",
      " loser_share           4.514000e-01\n",
      "losses                1.401361e+11\n",
      "mean_pct_loss         5.190000e-02\n",
      "mean_pct_loss_pwd2    5.850000e-02\n",
      "gini                  2.749000e-01\n",
      "dtype: float64 \n",
      "\n",
      "Optimal mean_pct_loss: 0.0519 \n",
      "\n",
      "Optimal solution:\n",
      " adult               124\n",
      "senior              205\n",
      "child                76\n",
      "dis_base              0\n",
      "NORTH_EAST            0\n",
      "NORTH_WEST            0\n",
      "YORKSHIRE             0\n",
      "EAST_MIDLANDS         0\n",
      "WEST_MIDLANDS         0\n",
      "EAST_OF_ENGLAND       0\n",
      "LONDON                0\n",
      "SOUTH_EAST            0\n",
      "SOUTH_WEST            0\n",
      "WALES                 0\n",
      "SCOTLAND              0\n",
      "NORTHERN_IRELAND      0\n",
      "dtype: int64\n",
      "     fun: 0.05193292344448038\n",
      " message: 'Optimization terminated successfully.'\n",
      "    nfev: 3182\n",
      "     nit: 13\n",
      " success: True\n",
      "       x: array([205.13710843,  75.56780549,   0.        ,   0.        ,\n",
      "         0.        ,   0.        ,   0.        ,   0.        ,\n",
      "         0.        ,   0.        ,   0.        ,   0.        ,\n",
      "         0.        ,   0.        ,   0.        ])\n",
      "CPU times: user 2min 15s, sys: 10.9 s, total: 2min 26s\n",
      "Wall time: 2min 23s\n"
     ]
    }
   ],
   "source": [
    "%%time\n",
    "reform_1 = opt(\"reform_1\")\n",
    "print(reform_1[0])  # OptimizeResult."
   ]
  },
  {
   "cell_type": "code",
   "execution_count": 5,
   "metadata": {
    "colab": {
     "base_uri": "https://localhost:8080/"
    },
    "id": "T0-cLB1PKK5o",
    "outputId": "8d0d68cb-3bea-46f1-a363-52450f677b15"
   },
   "outputs": [
    {
     "name": "stdout",
     "output_type": "stream",
     "text": [
      "Loss by all metrics:\n",
      " loser_share           4.560000e-01\n",
      "losses                1.421457e+11\n",
      "mean_pct_loss         4.970000e-02\n",
      "mean_pct_loss_pwd2    5.130000e-02\n",
      "gini                  2.706000e-01\n",
      "dtype: float64 \n",
      "\n",
      "Optimal mean_pct_loss: 0.0497 \n",
      "\n",
      "Optimal solution:\n",
      " adult               119\n",
      "senior              197\n",
      "child                77\n",
      "dis_base             68\n",
      "NORTH_EAST            0\n",
      "NORTH_WEST            0\n",
      "YORKSHIRE             0\n",
      "EAST_MIDLANDS         0\n",
      "WEST_MIDLANDS         0\n",
      "EAST_OF_ENGLAND       0\n",
      "LONDON                0\n",
      "SOUTH_EAST            0\n",
      "SOUTH_WEST            0\n",
      "WALES                 0\n",
      "SCOTLAND              0\n",
      "NORTHERN_IRELAND      0\n",
      "dtype: int64\n",
      "     fun: 0.049682607946630826\n",
      " message: 'Optimization terminated successfully.'\n",
      "    nfev: 3857\n",
      "     nit: 16\n",
      " success: True\n",
      "       x: array([196.57570623,  76.65245802,  68.32625414,   0.        ,\n",
      "         0.        ,   0.        ,   0.        ,   0.        ,\n",
      "         0.        ,   0.        ,   0.        ,   0.        ,\n",
      "         0.        ,   0.        ,   0.        ])\n",
      "CPU times: user 3min 16s, sys: 20.7 s, total: 3min 36s\n",
      "Wall time: 3min 53s\n"
     ]
    }
   ],
   "source": [
    "%%time\n",
    "reform_2 = opt(\"reform_2\")\n",
    "print(reform_2[0])  # OptimizeResult."
   ]
  },
  {
   "cell_type": "code",
   "execution_count": 6,
   "metadata": {
    "colab": {
     "base_uri": "https://localhost:8080/"
    },
    "id": "ofIfMhuMUVOy",
    "outputId": "8ff83e5b-0a48-446f-cd6d-3a9c5200ab93"
   },
   "outputs": [
    {
     "name": "stdout",
     "output_type": "stream",
     "text": [
      "Loss by all metrics:\n",
      " loser_share           4.576000e-01\n",
      "losses                1.415572e+11\n",
      "mean_pct_loss         4.960000e-02\n",
      "mean_pct_loss_pwd2    5.130000e-02\n",
      "gini                  2.709000e-01\n",
      "dtype: float64 \n",
      "\n",
      "Optimal mean_pct_loss: 0.0496 \n",
      "\n",
      "Optimal solution:\n",
      " adult               115\n",
      "senior              193\n",
      "child                72\n",
      "dis_base             67\n",
      "NORTH_EAST            7\n",
      "NORTH_WEST            7\n",
      "YORKSHIRE             0\n",
      "EAST_MIDLANDS         3\n",
      "WEST_MIDLANDS         3\n",
      "EAST_OF_ENGLAND       2\n",
      "LONDON                7\n",
      "SOUTH_EAST            4\n",
      "SOUTH_WEST            6\n",
      "WALES                 3\n",
      "SCOTLAND              4\n",
      "NORTHERN_IRELAND      2\n",
      "dtype: int64\n",
      "     fun: 0.04961487560057053\n",
      " message: 'Optimization terminated successfully.'\n",
      "    nfev: 15557\n",
      "     nit: 68\n",
      " success: True\n",
      "       x: array([195.13867201,  74.68219624,  67.03021849,   5.00022271,\n",
      "         4.22973545,  -2.31622481,   0.76223605,   1.11094293,\n",
      "        -0.23237491,   4.57357959,   1.39553331,   3.32186789,\n",
      "         0.35191142,   1.99930505,   0.        ])\n",
      "CPU times: user 12min 35s, sys: 1min 13s, total: 13min 49s\n",
      "Wall time: 13min 33s\n"
     ]
    }
   ],
   "source": [
    "%%time\n",
    "reform_3 = opt(\"reform_3\")\n",
    "print(reform_3[0])  # OptimizeResult."
   ]
  },
  {
   "cell_type": "markdown",
   "metadata": {},
   "source": [
    "Check that iterations improve."
   ]
  },
  {
   "cell_type": "code",
   "execution_count": 7,
   "metadata": {},
   "outputs": [],
   "source": [
    "assert reform_2[0].fun < reform_1[0].fun, \"Reform 2 doesn't improve on 1\"\n",
    "assert reform_3[0].fun < reform_2[0].fun, \"Reform 3 doesn't improve on 2\""
   ]
  },
  {
   "cell_type": "markdown",
   "metadata": {},
   "source": [
    "Construct DataFrame to export, with parameter and optimization values."
   ]
  },
  {
   "cell_type": "code",
   "execution_count": 8,
   "metadata": {},
   "outputs": [
    {
     "data": {
      "text/html": [
       "<div>\n",
       "<style scoped>\n",
       "    .dataframe tbody tr th:only-of-type {\n",
       "        vertical-align: middle;\n",
       "    }\n",
       "\n",
       "    .dataframe tbody tr th {\n",
       "        vertical-align: top;\n",
       "    }\n",
       "\n",
       "    .dataframe thead th {\n",
       "        text-align: right;\n",
       "    }\n",
       "</style>\n",
       "<table border=\"1\" class=\"dataframe\">\n",
       "  <thead>\n",
       "    <tr style=\"text-align: right;\">\n",
       "      <th></th>\n",
       "      <th>adult</th>\n",
       "      <th>senior</th>\n",
       "      <th>child</th>\n",
       "      <th>dis_base</th>\n",
       "      <th>NORTH_EAST</th>\n",
       "      <th>NORTH_WEST</th>\n",
       "      <th>YORKSHIRE</th>\n",
       "      <th>EAST_MIDLANDS</th>\n",
       "      <th>WEST_MIDLANDS</th>\n",
       "      <th>EAST_OF_ENGLAND</th>\n",
       "      <th>LONDON</th>\n",
       "      <th>SOUTH_EAST</th>\n",
       "      <th>SOUTH_WEST</th>\n",
       "      <th>WALES</th>\n",
       "      <th>SCOTLAND</th>\n",
       "      <th>NORTHERN_IRELAND</th>\n",
       "      <th>mean_pct_loss</th>\n",
       "    </tr>\n",
       "  </thead>\n",
       "  <tbody>\n",
       "    <tr>\n",
       "      <th>0</th>\n",
       "      <td>123.956949</td>\n",
       "      <td>205.137108</td>\n",
       "      <td>75.567805</td>\n",
       "      <td>0.000000</td>\n",
       "      <td>0.000000</td>\n",
       "      <td>0.00000</td>\n",
       "      <td>0.0</td>\n",
       "      <td>0.000000</td>\n",
       "      <td>0.000000</td>\n",
       "      <td>0.00000</td>\n",
       "      <td>0.000000</td>\n",
       "      <td>0.000000</td>\n",
       "      <td>0.000000</td>\n",
       "      <td>0.000000</td>\n",
       "      <td>0.00000</td>\n",
       "      <td>0.000000</td>\n",
       "      <td>0.051933</td>\n",
       "    </tr>\n",
       "    <tr>\n",
       "      <th>1</th>\n",
       "      <td>119.002336</td>\n",
       "      <td>196.575706</td>\n",
       "      <td>76.652458</td>\n",
       "      <td>68.326254</td>\n",
       "      <td>0.000000</td>\n",
       "      <td>0.00000</td>\n",
       "      <td>0.0</td>\n",
       "      <td>0.000000</td>\n",
       "      <td>0.000000</td>\n",
       "      <td>0.00000</td>\n",
       "      <td>0.000000</td>\n",
       "      <td>0.000000</td>\n",
       "      <td>0.000000</td>\n",
       "      <td>0.000000</td>\n",
       "      <td>0.00000</td>\n",
       "      <td>0.000000</td>\n",
       "      <td>0.049683</td>\n",
       "    </tr>\n",
       "    <tr>\n",
       "      <th>2</th>\n",
       "      <td>114.853116</td>\n",
       "      <td>192.822447</td>\n",
       "      <td>72.365971</td>\n",
       "      <td>67.030218</td>\n",
       "      <td>7.316448</td>\n",
       "      <td>6.54596</td>\n",
       "      <td>0.0</td>\n",
       "      <td>3.078461</td>\n",
       "      <td>3.427168</td>\n",
       "      <td>2.08385</td>\n",
       "      <td>6.889804</td>\n",
       "      <td>3.711758</td>\n",
       "      <td>5.638093</td>\n",
       "      <td>2.668136</td>\n",
       "      <td>4.31553</td>\n",
       "      <td>2.316225</td>\n",
       "      <td>0.049615</td>\n",
       "    </tr>\n",
       "  </tbody>\n",
       "</table>\n",
       "</div>"
      ],
      "text/plain": [
       "        adult      senior      child   dis_base  NORTH_EAST  NORTH_WEST  \\\n",
       "0  123.956949  205.137108  75.567805   0.000000    0.000000     0.00000   \n",
       "1  119.002336  196.575706  76.652458  68.326254    0.000000     0.00000   \n",
       "2  114.853116  192.822447  72.365971  67.030218    7.316448     6.54596   \n",
       "\n",
       "   YORKSHIRE  EAST_MIDLANDS  WEST_MIDLANDS  EAST_OF_ENGLAND    LONDON  \\\n",
       "0        0.0       0.000000       0.000000          0.00000  0.000000   \n",
       "1        0.0       0.000000       0.000000          0.00000  0.000000   \n",
       "2        0.0       3.078461       3.427168          2.08385  6.889804   \n",
       "\n",
       "   SOUTH_EAST  SOUTH_WEST     WALES  SCOTLAND  NORTHERN_IRELAND  mean_pct_loss  \n",
       "0    0.000000    0.000000  0.000000   0.00000          0.000000       0.051933  \n",
       "1    0.000000    0.000000  0.000000   0.00000          0.000000       0.049683  \n",
       "2    3.711758    5.638093  2.668136   4.31553          2.316225       0.049615  "
      ]
     },
     "execution_count": 8,
     "metadata": {},
     "output_type": "execute_result"
    }
   ],
   "source": [
    "ubi_params = pd.DataFrame(reform_1[1]).T\n",
    "ubi_params.loc[1] = reform_2[1]\n",
    "ubi_params.loc[2] = reform_3[1]\n",
    "ubi_params['mean_pct_loss'] = [reform_1[0].fun,\n",
    "                               reform_2[0].fun,\n",
    "                               reform_3[0].fun]\n",
    "ubi_params"
   ]
  },
  {
   "cell_type": "code",
   "execution_count": 9,
   "metadata": {},
   "outputs": [],
   "source": [
    "ubi_params.to_csv(\"optimal_params.csv\", index=False)"
   ]
  }
 ],
 "metadata": {
  "colab": {
   "collapsed_sections": [],
   "name": "Reform Level Optimization V3.ipynb",
   "provenance": []
  },
  "kernelspec": {
   "display_name": "Python 3",
   "language": "python",
   "name": "python3"
  },
  "language_info": {
   "codemirror_mode": {
    "name": "ipython",
    "version": 3
   },
   "file_extension": ".py",
   "mimetype": "text/x-python",
   "name": "python",
   "nbconvert_exporter": "python",
   "pygments_lexer": "ipython3",
   "version": "3.7.9"
  }
 },
 "nbformat": 4,
 "nbformat_minor": 1
}
