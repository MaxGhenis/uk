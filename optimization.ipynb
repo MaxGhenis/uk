{
 "cells": [
  {
   "cell_type": "code",
   "execution_count": 1,
   "metadata": {
    "id": "TLKfx4iG98DY"
   },
   "outputs": [],
   "source": [
    "# Required imports.\n",
    "import pandas as pd\n",
    "from py import calc_ubi\n",
    "from py.loss_functions import loss_metrics\n",
    "from py.optimize import optimize"
   ]
  },
  {
   "cell_type": "code",
   "execution_count": 2,
   "metadata": {
    "colab": {
     "base_uri": "https://localhost:8080/"
    },
    "id": "IpjEW-rk-C-G",
    "outputId": "a25bcdef-6b01-4139-ad78-695ace3943f3"
   },
   "outputs": [
    {
     "name": "stdout",
     "output_type": "stream",
     "text": [
      "{'senior': (40, 240), 'child': (40, 240), 'dis_base': (0, 200), 'NORTH_EAST': (-50, 50), 'NORTH_WEST': (-50, 50), 'YORKSHIRE': (-50, 50), 'EAST_MIDLANDS': (-50, 50), 'WEST_MIDLANDS': (-50, 50), 'EAST_OF_ENGLAND': (-50, 50), 'LONDON': (-50, 50), 'SOUTH_EAST': (-50, 50), 'SOUTH_WEST': (-50, 50), 'WALES': (-50, 50), 'SCOTLAND': (-50, 50), 'NORTHERN_IRELAND': (-50, 50)}\n"
     ]
    }
   ],
   "source": [
    "# Adult is calculated to achieve budget-neutrality; leave it off.\n",
    "AGE_CATEGORIES = [\"senior\", \"child\"]\n",
    "DIS_CATEGORIES = [\"dis_base\"]\n",
    "REGIONS = [\n",
    "    \"NORTH_EAST\",\n",
    "    \"NORTH_WEST\",\n",
    "    \"YORKSHIRE\",\n",
    "    \"EAST_MIDLANDS\",\n",
    "    \"WEST_MIDLANDS\",\n",
    "    \"EAST_OF_ENGLAND\",\n",
    "    \"LONDON\",\n",
    "    \"SOUTH_EAST\",\n",
    "    \"SOUTH_WEST\",\n",
    "    \"WALES\",\n",
    "    \"SCOTLAND\",\n",
    "    \"NORTHERN_IRELAND\",\n",
    "]\n",
    "categories = AGE_CATEGORIES + DIS_CATEGORIES + REGIONS\n",
    "\n",
    "# Define bounds\n",
    "AGE_BOUNDS = (40, 240)  # Child, working-age adult, senior.\n",
    "DIS_BOUNDS = (0, 200)  # Base, severe, and enhanced disability UBI supplements.\n",
    "GEO_BOUNDS = (-50, 50)  # Will be relative to a baseline geo.\n",
    "# Skip adult which is calculated.\n",
    "bounds = ([AGE_BOUNDS] * len(AGE_CATEGORIES) +\n",
    "          [DIS_BOUNDS] * len(DIS_CATEGORIES) +\n",
    "          [GEO_BOUNDS] * len(REGIONS))\n",
    "\n",
    "input_dict = {category: bound for category, bound in zip(categories, bounds)}\n",
    "print(input_dict)"
   ]
  },
  {
   "cell_type": "code",
   "execution_count": 3,
   "metadata": {},
   "outputs": [],
   "source": [
    "def opt(reform):\n",
    "    return optimize(input_dict, \"mean_pct_loss\", reform,\n",
    "                    verbose=False, seed=0,\n",
    "                    # Reforms don't always improve upon one another with the\n",
    "                    # default tolerance of 0.01.\n",
    "                    tol=0.0001)"
   ]
  },
  {
   "cell_type": "code",
   "execution_count": 4,
   "metadata": {
    "colab": {
     "base_uri": "https://localhost:8080/"
    },
    "id": "US_TgMgmmrRX",
    "outputId": "65fe601b-0015-4b79-8bb5-e47d25af0fb9"
   },
   "outputs": [
    {
     "name": "stdout",
     "output_type": "stream",
     "text": [
      "Loss by all metrics:\n",
      " loser_share           4.514000e-01\n",
      "losses                1.401361e+11\n",
      "mean_pct_loss         5.190000e-02\n",
      "mean_pct_loss_pwd2    5.830000e-02\n",
      "gini                  2.749000e-01\n",
      "dtype: float64 \n",
      "\n",
      "Optimal mean_pct_loss: 0.0519 \n",
      "\n",
      "Optimal solution:\n",
      " adult               124\n",
      "senior              205\n",
      "child                76\n",
      "dis_base              0\n",
      "NORTH_EAST            0\n",
      "NORTH_WEST            0\n",
      "YORKSHIRE             0\n",
      "EAST_MIDLANDS         0\n",
      "WEST_MIDLANDS         0\n",
      "EAST_OF_ENGLAND       0\n",
      "LONDON                0\n",
      "SOUTH_EAST            0\n",
      "SOUTH_WEST            0\n",
      "WALES                 0\n",
      "SCOTLAND              0\n",
      "NORTHERN_IRELAND      0\n",
      "dtype: int64\n",
      "     fun: 0.05193292344448038\n",
      " message: 'Optimization terminated successfully.'\n",
      "    nfev: 3182\n",
      "     nit: 13\n",
      " success: True\n",
      "       x: array([205.13710843,  75.56780549,   0.        ,   0.        ,\n",
      "         0.        ,   0.        ,   0.        ,   0.        ,\n",
      "         0.        ,   0.        ,   0.        ,   0.        ,\n",
      "         0.        ,   0.        ,   0.        ])\n",
      "CPU times: user 2min 10s, sys: 14.2 s, total: 2min 24s\n",
      "Wall time: 2min 22s\n"
     ]
    }
   ],
   "source": [
    "%%time\n",
    "reform_1 = opt(\"reform_1\")\n",
    "print(reform_1[0])  # OptimizeResult."
   ]
  },
  {
   "cell_type": "code",
   "execution_count": 5,
   "metadata": {
    "colab": {
     "base_uri": "https://localhost:8080/"
    },
    "id": "T0-cLB1PKK5o",
    "outputId": "8d0d68cb-3bea-46f1-a363-52450f677b15"
   },
   "outputs": [
    {
     "name": "stdout",
     "output_type": "stream",
     "text": [
      "Loss by all metrics:\n",
      " loser_share           4.559000e-01\n",
      "losses                1.417501e+11\n",
      "mean_pct_loss         4.980000e-02\n",
      "mean_pct_loss_pwd2    5.140000e-02\n",
      "gini                  2.711000e-01\n",
      "dtype: float64 \n",
      "\n",
      "Optimal mean_pct_loss: 0.0498 \n",
      "\n",
      "Optimal solution:\n",
      " adult               119\n",
      "senior              196\n",
      "child                76\n",
      "dis_base             69\n",
      "NORTH_EAST            0\n",
      "NORTH_WEST            0\n",
      "YORKSHIRE             0\n",
      "EAST_MIDLANDS         0\n",
      "WEST_MIDLANDS         0\n",
      "EAST_OF_ENGLAND       0\n",
      "LONDON                0\n",
      "SOUTH_EAST            0\n",
      "SOUTH_WEST            0\n",
      "WALES                 0\n",
      "SCOTLAND              0\n",
      "NORTHERN_IRELAND      0\n",
      "dtype: int64\n",
      "     fun: 0.04975748786214303\n",
      " message: 'Optimization terminated successfully.'\n",
      "    nfev: 4082\n",
      "     nit: 17\n",
      " success: True\n",
      "       x: array([196.29118328,  76.06187817,  68.65539688,   0.        ,\n",
      "         0.        ,   0.        ,   0.        ,   0.        ,\n",
      "         0.        ,   0.        ,   0.        ,   0.        ,\n",
      "         0.        ,   0.        ,   0.        ])\n",
      "CPU times: user 3min 12s, sys: 16.1 s, total: 3min 28s\n",
      "Wall time: 3min 59s\n"
     ]
    }
   ],
   "source": [
    "%%time\n",
    "reform_2 = opt(\"reform_2\")\n",
    "print(reform_2[0])  # OptimizeResult."
   ]
  },
  {
   "cell_type": "code",
   "execution_count": 6,
   "metadata": {
    "colab": {
     "base_uri": "https://localhost:8080/"
    },
    "id": "ofIfMhuMUVOy",
    "outputId": "8ff83e5b-0a48-446f-cd6d-3a9c5200ab93"
   },
   "outputs": [
    {
     "name": "stdout",
     "output_type": "stream",
     "text": [
      "Loss by all metrics:\n",
      " loser_share           4.566000e-01\n",
      "losses                1.412244e+11\n",
      "mean_pct_loss         4.970000e-02\n",
      "mean_pct_loss_pwd2    5.130000e-02\n",
      "gini                  2.714000e-01\n",
      "dtype: float64 \n",
      "\n",
      "Optimal mean_pct_loss: 0.0497 \n",
      "\n",
      "Optimal solution:\n",
      " adult               115\n",
      "senior              192\n",
      "child                71\n",
      "dis_base             69\n",
      "NORTH_EAST            7\n",
      "NORTH_WEST            6\n",
      "YORKSHIRE             0\n",
      "EAST_MIDLANDS         4\n",
      "WEST_MIDLANDS         4\n",
      "EAST_OF_ENGLAND       3\n",
      "LONDON                8\n",
      "SOUTH_EAST            4\n",
      "SOUTH_WEST            6\n",
      "WALES                 4\n",
      "SCOTLAND              5\n",
      "NORTHERN_IRELAND      4\n",
      "dtype: int64\n",
      "     fun: 0.04968460018692651\n",
      " message: 'Optimization terminated successfully.'\n",
      "    nfev: 16007\n",
      "     nit: 70\n",
      " success: True\n",
      "       x: array([ 1.95267025e+02,  7.45729374e+01,  6.93519024e+01,  3.49023810e+00,\n",
      "        2.52628836e+00, -3.57926583e+00,  8.47033278e-01,  8.21620033e-01,\n",
      "       -5.56136694e-01,  4.28714465e+00,  6.35635926e-01,  2.41704317e+00,\n",
      "        2.63525208e-03,  1.51742377e+00,  0.00000000e+00])\n",
      "CPU times: user 13min 31s, sys: 1min 27s, total: 14min 59s\n",
      "Wall time: 15min 4s\n"
     ]
    }
   ],
   "source": [
    "%%time\n",
    "reform_3 = opt(\"reform_3\")\n",
    "print(reform_3[0])  # OptimizeResult."
   ]
  },
  {
   "cell_type": "markdown",
   "metadata": {},
   "source": [
    "Check that iterations improve."
   ]
  },
  {
   "cell_type": "code",
   "execution_count": 7,
   "metadata": {},
   "outputs": [],
   "source": [
    "assert reform_2[0].fun < reform_1[0].fun, \"Reform 2 doesn't improve on 1\"\n",
    "assert reform_3[0].fun < reform_2[0].fun, \"Reform 3 doesn't improve on 2\""
   ]
  },
  {
   "cell_type": "markdown",
   "metadata": {},
   "source": [
    "Construct DataFrame to export, with parameter and optimization values."
   ]
  },
  {
   "cell_type": "code",
   "execution_count": 8,
   "metadata": {},
   "outputs": [
    {
     "data": {
      "text/html": [
       "<div>\n",
       "<style scoped>\n",
       "    .dataframe tbody tr th:only-of-type {\n",
       "        vertical-align: middle;\n",
       "    }\n",
       "\n",
       "    .dataframe tbody tr th {\n",
       "        vertical-align: top;\n",
       "    }\n",
       "\n",
       "    .dataframe thead th {\n",
       "        text-align: right;\n",
       "    }\n",
       "</style>\n",
       "<table border=\"1\" class=\"dataframe\">\n",
       "  <thead>\n",
       "    <tr style=\"text-align: right;\">\n",
       "      <th></th>\n",
       "      <th>adult</th>\n",
       "      <th>senior</th>\n",
       "      <th>child</th>\n",
       "      <th>dis_base</th>\n",
       "      <th>NORTH_EAST</th>\n",
       "      <th>NORTH_WEST</th>\n",
       "      <th>YORKSHIRE</th>\n",
       "      <th>EAST_MIDLANDS</th>\n",
       "      <th>WEST_MIDLANDS</th>\n",
       "      <th>EAST_OF_ENGLAND</th>\n",
       "      <th>LONDON</th>\n",
       "      <th>SOUTH_EAST</th>\n",
       "      <th>SOUTH_WEST</th>\n",
       "      <th>WALES</th>\n",
       "      <th>SCOTLAND</th>\n",
       "      <th>NORTHERN_IRELAND</th>\n",
       "      <th>mean_pct_loss</th>\n",
       "    </tr>\n",
       "  </thead>\n",
       "  <tbody>\n",
       "    <tr>\n",
       "      <th>0</th>\n",
       "      <td>123.956949</td>\n",
       "      <td>205.137108</td>\n",
       "      <td>75.567805</td>\n",
       "      <td>0.000000</td>\n",
       "      <td>0.000000</td>\n",
       "      <td>0.000000</td>\n",
       "      <td>0.0</td>\n",
       "      <td>0.000000</td>\n",
       "      <td>0.000000</td>\n",
       "      <td>0.000000</td>\n",
       "      <td>0.00000</td>\n",
       "      <td>0.000000</td>\n",
       "      <td>0.000000</td>\n",
       "      <td>0.000000</td>\n",
       "      <td>0.00000</td>\n",
       "      <td>0.000000</td>\n",
       "      <td>0.051933</td>\n",
       "    </tr>\n",
       "    <tr>\n",
       "      <th>1</th>\n",
       "      <td>119.466540</td>\n",
       "      <td>196.291183</td>\n",
       "      <td>76.061878</td>\n",
       "      <td>68.655397</td>\n",
       "      <td>0.000000</td>\n",
       "      <td>0.000000</td>\n",
       "      <td>0.0</td>\n",
       "      <td>0.000000</td>\n",
       "      <td>0.000000</td>\n",
       "      <td>0.000000</td>\n",
       "      <td>0.00000</td>\n",
       "      <td>0.000000</td>\n",
       "      <td>0.000000</td>\n",
       "      <td>0.000000</td>\n",
       "      <td>0.00000</td>\n",
       "      <td>0.000000</td>\n",
       "      <td>0.049757</td>\n",
       "    </tr>\n",
       "    <tr>\n",
       "      <th>2</th>\n",
       "      <td>114.671299</td>\n",
       "      <td>191.687759</td>\n",
       "      <td>70.993672</td>\n",
       "      <td>69.351902</td>\n",
       "      <td>7.069504</td>\n",
       "      <td>6.105554</td>\n",
       "      <td>0.0</td>\n",
       "      <td>4.426299</td>\n",
       "      <td>4.400886</td>\n",
       "      <td>3.023129</td>\n",
       "      <td>7.86641</td>\n",
       "      <td>4.214902</td>\n",
       "      <td>5.996309</td>\n",
       "      <td>3.581901</td>\n",
       "      <td>5.09669</td>\n",
       "      <td>3.579266</td>\n",
       "      <td>0.049685</td>\n",
       "    </tr>\n",
       "  </tbody>\n",
       "</table>\n",
       "</div>"
      ],
      "text/plain": [
       "        adult      senior      child   dis_base  NORTH_EAST  NORTH_WEST  \\\n",
       "0  123.956949  205.137108  75.567805   0.000000    0.000000    0.000000   \n",
       "1  119.466540  196.291183  76.061878  68.655397    0.000000    0.000000   \n",
       "2  114.671299  191.687759  70.993672  69.351902    7.069504    6.105554   \n",
       "\n",
       "   YORKSHIRE  EAST_MIDLANDS  WEST_MIDLANDS  EAST_OF_ENGLAND   LONDON  \\\n",
       "0        0.0       0.000000       0.000000         0.000000  0.00000   \n",
       "1        0.0       0.000000       0.000000         0.000000  0.00000   \n",
       "2        0.0       4.426299       4.400886         3.023129  7.86641   \n",
       "\n",
       "   SOUTH_EAST  SOUTH_WEST     WALES  SCOTLAND  NORTHERN_IRELAND  mean_pct_loss  \n",
       "0    0.000000    0.000000  0.000000   0.00000          0.000000       0.051933  \n",
       "1    0.000000    0.000000  0.000000   0.00000          0.000000       0.049757  \n",
       "2    4.214902    5.996309  3.581901   5.09669          3.579266       0.049685  "
      ]
     },
     "execution_count": 8,
     "metadata": {},
     "output_type": "execute_result"
    }
   ],
   "source": [
    "ubi_params = pd.DataFrame(reform_1[1]).T\n",
    "ubi_params.loc[1] = reform_2[1]\n",
    "ubi_params.loc[2] = reform_3[1]\n",
    "ubi_params['mean_pct_loss'] = [reform_1[0].fun,\n",
    "                               reform_2[0].fun,\n",
    "                               reform_3[0].fun]\n",
    "ubi_params"
   ]
  },
  {
   "cell_type": "code",
   "execution_count": 9,
   "metadata": {},
   "outputs": [],
   "source": [
    "ubi_params.to_csv(\"optimal_params.csv\", index=False)"
   ]
  }
 ],
 "metadata": {
  "colab": {
   "collapsed_sections": [],
   "name": "Reform Level Optimization V3.ipynb",
   "provenance": []
  },
  "kernelspec": {
   "display_name": "Python 3",
   "language": "python",
   "name": "python3"
  },
  "language_info": {
   "codemirror_mode": {
    "name": "ipython",
    "version": 3
   },
   "file_extension": ".py",
   "mimetype": "text/x-python",
   "name": "python",
   "nbconvert_exporter": "python",
   "pygments_lexer": "ipython3",
   "version": "3.7.9"
  }
 },
 "nbformat": 4,
 "nbformat_minor": 4
}
