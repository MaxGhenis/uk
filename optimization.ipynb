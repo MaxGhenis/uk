{
 "cells": [
  {
   "cell_type": "code",
   "execution_count": 1,
   "metadata": {
    "id": "TLKfx4iG98DY"
   },
   "outputs": [],
   "source": [
    "# Required imports.\n",
    "from py import calc_ubi\n",
    "from py.loss_functions import loss_metrics\n",
    "from py.optimize import optimize\n",
    "\n",
    "import pandas as pd"
   ]
  },
  {
   "cell_type": "code",
   "execution_count": 2,
   "metadata": {
    "colab": {
     "base_uri": "https://localhost:8080/"
    },
    "id": "IpjEW-rk-C-G",
    "outputId": "a25bcdef-6b01-4139-ad78-695ace3943f3"
   },
   "outputs": [
    {
     "name": "stdout",
     "output_type": "stream",
     "text": [
      "{'senior': (40, 240), 'child': (40, 240), 'dis_base': (0, 200), 'NORTH_EAST': (-50, 50), 'NORTH_WEST': (-50, 50), 'YORKSHIRE': (-50, 50), 'EAST_MIDLANDS': (-50, 50), 'WEST_MIDLANDS': (-50, 50), 'EAST_OF_ENGLAND': (-50, 50), 'LONDON': (-50, 50), 'SOUTH_EAST': (-50, 50), 'SOUTH_WEST': (-50, 50), 'WALES': (-50, 50), 'SCOTLAND': (-50, 50), 'NORTHERN_IRELAND': (-50, 50)}\n"
     ]
    }
   ],
   "source": [
    "AGE_CATEGORIES = [\"senior\", \"child\"]\n",
    "DIS_CATEGORIES = [\"dis_base\"]\n",
    "REGIONS = [\n",
    "    \"NORTH_EAST\",\n",
    "    \"NORTH_WEST\",\n",
    "    \"YORKSHIRE\",\n",
    "    \"EAST_MIDLANDS\",\n",
    "    \"WEST_MIDLANDS\",\n",
    "    \"EAST_OF_ENGLAND\",\n",
    "    \"LONDON\",\n",
    "    \"SOUTH_EAST\",\n",
    "    \"SOUTH_WEST\",\n",
    "    \"WALES\",\n",
    "    \"SCOTLAND\",\n",
    "    \"NORTHERN_IRELAND\",\n",
    "]\n",
    "categories = AGE_CATEGORIES + DIS_CATEGORIES + REGIONS\n",
    "\n",
    "# Define bounds\n",
    "AGE_BOUNDS = (40, 240)  # Child, working-age adult, senior.\n",
    "DIS_BOUNDS = (0, 200)  # Base, severe, and enhanced disability UBI supplements.\n",
    "GEO_BOUNDS = (-50, 50)  # Will be relative to a baseline geo.\n",
    "# Skip adult which is calculated.\n",
    "bounds = ([AGE_BOUNDS] * len(AGE_CATEGORIES) +\n",
    "          [DIS_BOUNDS] * len(DIS_CATEGORIES) +\n",
    "          [GEO_BOUNDS] * len(REGIONS))\n",
    "\n",
    "input_dict = {category: bound for category, bound in zip(categories, bounds)}\n",
    "print(input_dict)"
   ]
  },
  {
   "cell_type": "code",
   "execution_count": 3,
   "metadata": {},
   "outputs": [],
   "source": [
    "def opt(reform):\n",
    "    return optimize(input_dict, \"mean_pct_loss\", reform,\n",
    "                    verbose=False, seed=0,\n",
    "                    # Reforms don't always improve upon one another with the\n",
    "                    # default tolerance of 0.01.\n",
    "                    tol=0.0001)"
   ]
  },
  {
   "cell_type": "code",
   "execution_count": 4,
   "metadata": {
    "colab": {
     "base_uri": "https://localhost:8080/"
    },
    "id": "US_TgMgmmrRX",
    "outputId": "65fe601b-0015-4b79-8bb5-e47d25af0fb9"
   },
   "outputs": [
    {
     "name": "stdout",
     "output_type": "stream",
     "text": [
      "Loss by all metrics:\n",
      " loser_share           4.509000e-01\n",
      "losses                1.402922e+11\n",
      "mean_pct_loss         5.200000e-02\n",
      "mean_pct_loss_pwd2    5.830000e-02\n",
      "gini                  2.749000e-01\n",
      "dtype: float64 \n",
      "\n",
      "Optimal mean_pct_loss: 0.052 \n",
      "\n",
      "Optimal solution:\n",
      " adult               124\n",
      "senior              205\n",
      "child                75\n",
      "dis_base              0\n",
      "NORTH_EAST            0\n",
      "NORTH_WEST            0\n",
      "YORKSHIRE             0\n",
      "EAST_MIDLANDS         0\n",
      "WEST_MIDLANDS         0\n",
      "EAST_OF_ENGLAND       0\n",
      "LONDON                0\n",
      "SOUTH_EAST            0\n",
      "SOUTH_WEST            0\n",
      "WALES                 0\n",
      "SCOTLAND              0\n",
      "NORTHERN_IRELAND      0\n",
      "dtype: int64\n",
      "     fun: 0.051978406935609046\n",
      " message: 'Optimization terminated successfully.'\n",
      "    nfev: 3407\n",
      "     nit: 14\n",
      " success: True\n",
      "       x: array([205.24298328,  75.07245998,   0.        ,   0.        ,\n",
      "         0.        ,   0.        ,   0.        ,   0.        ,\n",
      "         0.        ,   0.        ,   0.        ,   0.        ,\n",
      "         0.        ,   0.        ,   0.        ])\n",
      "CPU times: user 4min 49s, sys: 47.7 s, total: 5min 36s\n",
      "Wall time: 6min 1s\n"
     ]
    }
   ],
   "source": [
    "%%time\n",
    "reform_1 = opt(\"reform_1\")\n",
    "print(reform_1[0])  # OptimizeResult."
   ]
  },
  {
   "cell_type": "code",
   "execution_count": 5,
   "metadata": {},
   "outputs": [
    {
     "data": {
      "text/plain": [
       "(     fun: 0.051978406935609046\n",
       "  message: 'Optimization terminated successfully.'\n",
       "     nfev: 3407\n",
       "      nit: 14\n",
       "  success: True\n",
       "        x: array([205.24298328,  75.07245998,   0.        ,   0.        ,\n",
       "          0.        ,   0.        ,   0.        ,   0.        ,\n",
       "          0.        ,   0.        ,   0.        ,   0.        ,\n",
       "          0.        ,   0.        ,   0.        ]),\n",
       " adult               123.849885\n",
       " senior              205.242983\n",
       " child                75.072460\n",
       " dis_base              0.000000\n",
       " NORTH_EAST            0.000000\n",
       " NORTH_WEST            0.000000\n",
       " YORKSHIRE             0.000000\n",
       " EAST_MIDLANDS         0.000000\n",
       " WEST_MIDLANDS         0.000000\n",
       " EAST_OF_ENGLAND       0.000000\n",
       " LONDON                0.000000\n",
       " SOUTH_EAST            0.000000\n",
       " SOUTH_WEST            0.000000\n",
       " WALES                 0.000000\n",
       " SCOTLAND              0.000000\n",
       " NORTHERN_IRELAND      0.000000\n",
       " dtype: float64)"
      ]
     },
     "execution_count": 5,
     "metadata": {},
     "output_type": "execute_result"
    }
   ],
   "source": [
    "reform_1"
   ]
  },
  {
   "cell_type": "code",
   "execution_count": 5,
   "metadata": {
    "colab": {
     "base_uri": "https://localhost:8080/"
    },
    "id": "T0-cLB1PKK5o",
    "outputId": "8d0d68cb-3bea-46f1-a363-52450f677b15"
   },
   "outputs": [
    {
     "name": "stdout",
     "output_type": "stream",
     "text": [
      "Loss by all metrics:\n",
      " loser_share           4.559000e-01\n",
      "losses                1.428065e+11\n",
      "mean_pct_loss         4.910000e-02\n",
      "mean_pct_loss_pwd2    5.070000e-02\n",
      "gini                  2.696000e-01\n",
      "dtype: float64 \n",
      "\n",
      "Optimal mean_pct_loss: 0.0491 \n",
      "\n",
      "Optimal solution:\n",
      " adult               118\n",
      "senior              197\n",
      "child                76\n",
      "dis_base             69\n",
      "NORTH_EAST            0\n",
      "NORTH_WEST            0\n",
      "YORKSHIRE             0\n",
      "EAST_MIDLANDS         0\n",
      "WEST_MIDLANDS         0\n",
      "EAST_OF_ENGLAND       0\n",
      "LONDON                0\n",
      "SOUTH_EAST            0\n",
      "SOUTH_WEST            0\n",
      "WALES                 0\n",
      "SCOTLAND              0\n",
      "NORTHERN_IRELAND      0\n",
      "dtype: int64\n",
      "     fun: 0.049134551006767044\n",
      " message: 'Optimization terminated successfully.'\n",
      "    nfev: 4082\n",
      "     nit: 17\n",
      " success: True\n",
      "       x: array([196.7165072 ,  76.48072543,  68.83682768,   0.        ,\n",
      "         0.        ,   0.        ,   0.        ,   0.        ,\n",
      "         0.        ,   0.        ,   0.        ,   0.        ,\n",
      "         0.        ,   0.        ,   0.        ])\n",
      "CPU times: user 2min 58s, sys: 10.6 s, total: 3min 8s\n",
      "Wall time: 3min 5s\n"
     ]
    }
   ],
   "source": [
    "%%time\n",
    "reform_2 = opt(\"reform_2\")\n",
    "print(reform_2[0])  # OptimizeResult."
   ]
  },
  {
   "cell_type": "code",
   "execution_count": 6,
   "metadata": {
    "colab": {
     "base_uri": "https://localhost:8080/"
    },
    "id": "ofIfMhuMUVOy",
    "outputId": "8ff83e5b-0a48-446f-cd6d-3a9c5200ab93"
   },
   "outputs": [
    {
     "name": "stdout",
     "output_type": "stream",
     "text": [
      "Loss by all metrics:\n",
      " loser_share           4.564000e-01\n",
      "losses                1.423644e+11\n",
      "mean_pct_loss         4.910000e-02\n",
      "mean_pct_loss_pwd2    5.060000e-02\n",
      "gini                  2.698000e-01\n",
      "dtype: float64 \n",
      "\n",
      "Optimal mean_pct_loss: 0.0491 \n",
      "\n",
      "Optimal solution:\n",
      " adult               115\n",
      "senior              194\n",
      "child                73\n",
      "dis_base             69\n",
      "NORTH_EAST            6\n",
      "NORTH_WEST            5\n",
      "YORKSHIRE             0\n",
      "EAST_MIDLANDS         3\n",
      "WEST_MIDLANDS         3\n",
      "EAST_OF_ENGLAND       2\n",
      "LONDON                7\n",
      "SOUTH_EAST            2\n",
      "SOUTH_WEST            5\n",
      "WALES                 3\n",
      "SCOTLAND              4\n",
      "NORTHERN_IRELAND      2\n",
      "dtype: int64\n",
      "     fun: 0.04906890172065738\n",
      " message: 'Optimization terminated successfully.'\n",
      "    nfev: 42332\n",
      "     nit: 187\n",
      " success: True\n",
      "       x: array([ 1.95285774e+02,  7.45878178e+01,  6.91205953e+01,  3.87900936e+00,\n",
      "        2.73606252e+00, -1.76843456e+00,  1.43827384e+00,  1.49978584e+00,\n",
      "       -4.23302738e-02,  4.99711628e+00, -1.42828170e-01,  3.25894930e+00,\n",
      "        1.10429692e+00,  2.41341287e+00,  0.00000000e+00])\n",
      "CPU times: user 29min 40s, sys: 2min 33s, total: 32min 14s\n",
      "Wall time: 31min 40s\n"
     ]
    }
   ],
   "source": [
    "%%time\n",
    "reform_3 = opt(\"reform_3\")\n",
    "print(reform_3[0])  # OptimizeResult."
   ]
  },
  {
   "cell_type": "markdown",
   "metadata": {},
   "source": [
    "Check that iterations improve."
   ]
  },
  {
   "cell_type": "code",
   "execution_count": 7,
   "metadata": {},
   "outputs": [],
   "source": [
    "assert reform_2[0].fun < reform_1[0].fun, \"Reform 2 doesn't improve on 1\"\n",
    "assert reform_3[0].fun < reform_2[0].fun, \"Reform 3 doesn't improve on 2\""
   ]
  },
  {
   "cell_type": "markdown",
   "metadata": {},
   "source": [
    "Construct DataFrame to export, with parameter and optimization values."
   ]
  },
  {
   "cell_type": "code",
   "execution_count": 8,
   "metadata": {},
   "outputs": [
    {
     "data": {
      "text/html": [
       "<div>\n",
       "<style scoped>\n",
       "    .dataframe tbody tr th:only-of-type {\n",
       "        vertical-align: middle;\n",
       "    }\n",
       "\n",
       "    .dataframe tbody tr th {\n",
       "        vertical-align: top;\n",
       "    }\n",
       "\n",
       "    .dataframe thead th {\n",
       "        text-align: right;\n",
       "    }\n",
       "</style>\n",
       "<table border=\"1\" class=\"dataframe\">\n",
       "  <thead>\n",
       "    <tr style=\"text-align: right;\">\n",
       "      <th></th>\n",
       "      <th>adult</th>\n",
       "      <th>senior</th>\n",
       "      <th>child</th>\n",
       "      <th>dis_base</th>\n",
       "      <th>NORTH_EAST</th>\n",
       "      <th>NORTH_WEST</th>\n",
       "      <th>YORKSHIRE</th>\n",
       "      <th>EAST_MIDLANDS</th>\n",
       "      <th>WEST_MIDLANDS</th>\n",
       "      <th>EAST_OF_ENGLAND</th>\n",
       "      <th>LONDON</th>\n",
       "      <th>SOUTH_EAST</th>\n",
       "      <th>SOUTH_WEST</th>\n",
       "      <th>WALES</th>\n",
       "      <th>SCOTLAND</th>\n",
       "      <th>NORTHERN_IRELAND</th>\n",
       "      <th>mean_pct_loss</th>\n",
       "    </tr>\n",
       "  </thead>\n",
       "  <tbody>\n",
       "    <tr>\n",
       "      <th>0</th>\n",
       "      <td>123.956949</td>\n",
       "      <td>205.137108</td>\n",
       "      <td>75.567805</td>\n",
       "      <td>0.000000</td>\n",
       "      <td>0.000000</td>\n",
       "      <td>0.000000</td>\n",
       "      <td>0.0</td>\n",
       "      <td>0.000000</td>\n",
       "      <td>0.00000</td>\n",
       "      <td>0.000000</td>\n",
       "      <td>0.000000</td>\n",
       "      <td>0.000000</td>\n",
       "      <td>0.000000</td>\n",
       "      <td>0.000000</td>\n",
       "      <td>0.000000</td>\n",
       "      <td>0.000000</td>\n",
       "      <td>0.051933</td>\n",
       "    </tr>\n",
       "    <tr>\n",
       "      <th>1</th>\n",
       "      <td>118.172439</td>\n",
       "      <td>196.716507</td>\n",
       "      <td>76.480725</td>\n",
       "      <td>68.836828</td>\n",
       "      <td>0.000000</td>\n",
       "      <td>0.000000</td>\n",
       "      <td>0.0</td>\n",
       "      <td>0.000000</td>\n",
       "      <td>0.00000</td>\n",
       "      <td>0.000000</td>\n",
       "      <td>0.000000</td>\n",
       "      <td>0.000000</td>\n",
       "      <td>0.000000</td>\n",
       "      <td>0.000000</td>\n",
       "      <td>0.000000</td>\n",
       "      <td>0.000000</td>\n",
       "      <td>0.049135</td>\n",
       "    </tr>\n",
       "    <tr>\n",
       "      <th>2</th>\n",
       "      <td>114.625395</td>\n",
       "      <td>193.517339</td>\n",
       "      <td>72.819383</td>\n",
       "      <td>69.120595</td>\n",
       "      <td>5.647444</td>\n",
       "      <td>4.504497</td>\n",
       "      <td>0.0</td>\n",
       "      <td>3.206708</td>\n",
       "      <td>3.26822</td>\n",
       "      <td>1.726104</td>\n",
       "      <td>6.765551</td>\n",
       "      <td>1.625606</td>\n",
       "      <td>5.027384</td>\n",
       "      <td>2.872731</td>\n",
       "      <td>4.181847</td>\n",
       "      <td>1.768435</td>\n",
       "      <td>0.049069</td>\n",
       "    </tr>\n",
       "  </tbody>\n",
       "</table>\n",
       "</div>"
      ],
      "text/plain": [
       "        adult      senior      child   dis_base  NORTH_EAST  NORTH_WEST  \\\n",
       "0  123.956949  205.137108  75.567805   0.000000    0.000000    0.000000   \n",
       "1  118.172439  196.716507  76.480725  68.836828    0.000000    0.000000   \n",
       "2  114.625395  193.517339  72.819383  69.120595    5.647444    4.504497   \n",
       "\n",
       "   YORKSHIRE  EAST_MIDLANDS  WEST_MIDLANDS  EAST_OF_ENGLAND    LONDON  \\\n",
       "0        0.0       0.000000        0.00000         0.000000  0.000000   \n",
       "1        0.0       0.000000        0.00000         0.000000  0.000000   \n",
       "2        0.0       3.206708        3.26822         1.726104  6.765551   \n",
       "\n",
       "   SOUTH_EAST  SOUTH_WEST     WALES  SCOTLAND  NORTHERN_IRELAND  mean_pct_loss  \n",
       "0    0.000000    0.000000  0.000000  0.000000          0.000000       0.051933  \n",
       "1    0.000000    0.000000  0.000000  0.000000          0.000000       0.049135  \n",
       "2    1.625606    5.027384  2.872731  4.181847          1.768435       0.049069  "
      ]
     },
     "execution_count": 8,
     "metadata": {},
     "output_type": "execute_result"
    }
   ],
   "source": [
    "ubi_params = pd.DataFrame(reform_1[1]).T\n",
    "ubi_params.loc[1] = reform_2[1]\n",
    "ubi_params.loc[2] = reform_3[1]\n",
    "ubi_params['mean_pct_loss'] = [reform_1[0].fun,\n",
    "                               reform_2[0].fun,\n",
    "                               reform_3[0].fun]\n",
    "ubi_params"
   ]
  },
  {
   "cell_type": "code",
   "execution_count": 9,
   "metadata": {},
   "outputs": [],
   "source": [
    "ubi_params.to_csv(\"optimal_params.csv\", index=False)"
   ]
  }
 ],
 "metadata": {
  "colab": {
   "collapsed_sections": [],
   "name": "Reform Level Optimization V3.ipynb",
   "provenance": []
  },
  "kernelspec": {
   "display_name": "Python 3",
   "language": "python",
   "name": "python3"
  },
  "language_info": {
   "codemirror_mode": {
    "name": "ipython",
    "version": 3
   },
   "file_extension": ".py",
   "mimetype": "text/x-python",
   "name": "python",
   "nbconvert_exporter": "python",
   "pygments_lexer": "ipython3",
   "version": "3.7.7"
  }
 },
 "nbformat": 4,
 "nbformat_minor": 4
}
